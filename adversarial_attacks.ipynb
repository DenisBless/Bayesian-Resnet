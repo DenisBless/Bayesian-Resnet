{
 "cells": [
  {
   "cell_type": "code",
   "execution_count": 1,
   "metadata": {},
   "outputs": [],
   "source": [
    "from __future__ import print_function\n",
    "import math\n",
    "import torchvision.transforms as transforms\n",
    "import torch\n",
    "import torch.utils.data as data\n",
    "import numpy as np\n",
    "import torch.nn as nn\n",
    "import torch.optim as optim\n",
    "from torchvision import datasets\n",
    "from tqdm import tqdm\n",
    "from utils_BNN_resnet import neg_ELBO, Logger\n",
    "from BayesianResnet import resnet18\n",
    "import torchvision.models as models\n",
    "from model_BNN_test import CNN_lrt\n",
    "import torch.nn.functional as F\n",
    "from model_SNN import Net\n",
    "import matplotlib.pyplot as plt"
   ]
  },
  {
   "cell_type": "markdown",
   "metadata": {},
   "source": [
    "# Helper Functions"
   ]
  },
  {
   "cell_type": "code",
   "execution_count": 2,
   "metadata": {},
   "outputs": [],
   "source": [
    "# FGSM attack code\n",
    "def fgsm_attack(image, epsilon, data_grad):\n",
    "    # Collect the element-wise sign of the data gradient\n",
    "    sign_data_grad = data_grad.sign()\n",
    "    # Create the perturbed image by adjusting each pixel of the input image\n",
    "    perturbed_image = image + epsilon*sign_data_grad\n",
    "    # Adding clipping to maintain [0,1] range\n",
    "    #perturbed_image = torch.clamp(perturbed_image, 0, 1)\n",
    "    # Return the perturbed image\n",
    "    return perturbed_image"
   ]
  },
  {
   "cell_type": "code",
   "execution_count": 3,
   "metadata": {},
   "outputs": [],
   "source": [
    "def get_entropy(probabilities):\n",
    "    try:\n",
    "        ent = -torch.sum(probabilities.cpu() * np.log(1e-16 + probabilities.cpu()), 1)\n",
    "    except:\n",
    "        ent = -torch.sum(probabilities * np.log(1e-16 + probabilities))\n",
    "\n",
    "    return ent\n",
    "\n",
    "def get_max_entropy(probabilities):\n",
    "    p_uniform = 1.0/probabilities.size(1)\n",
    "    p_uniform_dist = torch.ones(probabilities.size(1))*p_uniform\n",
    "    max_ent = -torch.sum(p_uniform_dist * np.log(1e-16 + p_uniform_dist))\n",
    "    \n",
    "    return max_ent"
   ]
  },
  {
   "cell_type": "code",
   "execution_count": 4,
   "metadata": {},
   "outputs": [],
   "source": [
    "def acc_vs_eps( model, device, test_loader, epsilon):\n",
    "    model.eval()\n",
    "    # Accuracy counter\n",
    "    correct = 0\n",
    "\n",
    "\n",
    "    # Loop over all examples in test set\n",
    "    for i, (data, target) in zip(tqdm(range(len(test_loader))),(test_loader)):\n",
    "\n",
    "        # Send the data and label to the device\n",
    "        data, target = data.to(device), target.to(device)\n",
    "\n",
    "        # Set requires_grad attribute of tensor. Important for Attack\n",
    "        data.requires_grad = True\n",
    "\n",
    "        # Forward pass the data through the model\n",
    "        output = model(data)\n",
    "\n",
    "        init_pred = output.max(1, keepdim=True)[1] # get the index of the max log-probability\n",
    "        # If the initial prediction is wrong, dont bother attacking, just move on\n",
    "        if init_pred.item() != target.item():\n",
    "            continue\n",
    "\n",
    "        # Calculate the loss\n",
    "        loss = F.nll_loss(output, target)\n",
    "        \n",
    "\n",
    "        # Zero all existing gradients\n",
    "        model.zero_grad()\n",
    "\n",
    "        # Calculate gradients of model in backward pass\n",
    "        loss.backward()\n",
    "\n",
    "        # Collect datagrad\n",
    "        data_grad = data.grad.data\n",
    "\n",
    "        # Call FGSM Attack\n",
    "        perturbed_data = fgsm_attack(data, epsilon, data_grad)\n",
    "        output = model(perturbed_data)\n",
    "         \n",
    "        # Check for success\n",
    "        final_pred = output.max(1, keepdim=True)[1] # get the index of the max log-probability\n",
    "        if final_pred.item() == target.item():\n",
    "            correct += 1\n",
    "            # Special case for saving 0 epsilon examples\n",
    "            if (epsilon == 0) and (len(adv_examples) < 5):\n",
    "                adv_ex = perturbed_data.squeeze().detach().cpu().numpy()\n",
    "                adv_examples.append( (init_pred.item(), final_pred.item(), adv_ex) )\n",
    "        else:\n",
    "            # Save some adv examples for visualization later\n",
    "            if len(adv_examples) < 5:\n",
    "                adv_ex = perturbed_data.squeeze().detach().cpu().numpy()\n",
    "                adv_examples.append( (init_pred.item(), final_pred.item(), adv_ex) )\n",
    "\n",
    "    # Calculate final accuracy for this epsilon\n",
    "    final_acc = correct/float(len(test_loader))\n",
    "\n",
    "    print(\"Epsilon: {}\\tTest Accuracy = {} / {} = {}\".format(epsilon, correct, len(test_loader), final_acc))\n",
    "\n",
    "    \n",
    "    \n",
    "    # Return the accuracy and an adversarial example\n",
    "    return final_acc, adv_examples"
   ]
  },
  {
   "cell_type": "code",
   "execution_count": 5,
   "metadata": {},
   "outputs": [],
   "source": [
    "def entropy_vs_eps( model, device, test_loader, epsilon, num_samples ):\n",
    "    softmax = nn.Softmax(dim=1)\n",
    "    model.eval()\n",
    "    # Accuracy counter\n",
    "    correct = 0\n",
    "    entropy = 0.0\n",
    "\n",
    "    # Loop over all examples in test set\n",
    "    #for data, target in test_loader:\n",
    "    for i, (data, target) in zip(tqdm(range(len(test_loader))),(test_loader)):\n",
    "\n",
    "        # Send the data and label to the device\n",
    "        data, target = data.to(device), target.to(device)\n",
    "\n",
    "        # Set requires_grad attribute of tensor. Important for Attack\n",
    "        data.requires_grad = True\n",
    "\n",
    "        # Forward pass the data through the model\n",
    "        output = model(data)\n",
    "\n",
    "        # Calculate the loss\n",
    "        loss = F.nll_loss(output, target)\n",
    "        \n",
    "\n",
    "        # Zero all existing gradients\n",
    "        model.zero_grad()\n",
    "\n",
    "        # Calculate gradients of model in backward pass\n",
    "        loss.backward()\n",
    "\n",
    "        # Collect datagrad\n",
    "        data_grad = data.grad.data\n",
    "\n",
    "        # Call FGSM Attack\n",
    "        perturbed_data = fgsm_attack(data, epsilon, data_grad)\n",
    "\n",
    "        # Re-classify the perturbed image\n",
    "        entropy_tmp = 0.0\n",
    "        for sample in range(num_samples):\n",
    "            # Forward pass the data through the model\n",
    "            output = model(perturbed_data)\n",
    "            probs = softmax(output.data)\n",
    "            entropy_tmp += get_entropy(probs)\n",
    "        \n",
    "        entropy += entropy_tmp/num_samples\n",
    "\n",
    "\n",
    "    entropy_avg = (entropy/len(test_loader)).item()\n",
    "    max_entropy = get_max_entropy(probs)\n",
    "    print(\"Epsilon: {}\\tEntropy = {}\".format(epsilon, entropy_avg))\n",
    "    \n",
    "    \n",
    "    # Return the accuracy and an adversarial example\n",
    "    return entropy_avg, max_entropy"
   ]
  },
  {
   "cell_type": "markdown",
   "metadata": {},
   "source": [
    "# Setup"
   ]
  },
  {
   "cell_type": "code",
   "execution_count": 9,
   "metadata": {},
   "outputs": [],
   "source": [
    "use_cuda = torch.cuda.is_available()\n",
    "device = torch.device('cuda') if torch.cuda.is_available() else torch.device('cpu')\n",
    "\n",
    "learning_rate = 0.001\n",
    "weight_decay = 1e-3\n",
    "batch_size = 16\n",
    "num_epochs = 80"
   ]
  },
  {
   "cell_type": "code",
   "execution_count": 10,
   "metadata": {},
   "outputs": [],
   "source": [
    "# convert data to a normalized torch.FloatTensor\n",
    "transform = transforms.Compose([\n",
    "    transforms.ToTensor(),\n",
    "    transforms.Normalize((0.4914, 0.4822, 0.4465), (0.247, 0.243, 0.261))\n",
    "    ])"
   ]
  },
  {
   "cell_type": "code",
   "execution_count": 11,
   "metadata": {},
   "outputs": [
    {
     "name": "stdout",
     "output_type": "stream",
     "text": [
      "Files already downloaded and verified\n",
      "Files already downloaded and verified\n"
     ]
    }
   ],
   "source": [
    "# choose the training and test datasets\n",
    "train_data = datasets.CIFAR10('data', train=True,\n",
    "                              download=True, transform=transform)\n",
    "test_data = datasets.CIFAR10('data', train=False,\n",
    "                             download=True, transform=transform)\n",
    "\n",
    "# prepare data loaders (combine dataset and sampler)\n",
    "train_loader = torch.utils.data.DataLoader(train_data, batch_size=16)\n",
    "\n",
    "test_loader = torch.utils.data.DataLoader(test_data, batch_size=1)"
   ]
  },
  {
   "cell_type": "markdown",
   "metadata": {},
   "source": [
    "# Frequentist Net"
   ]
  },
  {
   "cell_type": "code",
   "execution_count": 20,
   "metadata": {},
   "outputs": [],
   "source": [
    "device = torch.device(\"cuda\" if (use_cuda and torch.cuda.is_available()) else \"cpu\")\n",
    "# Initialize the network\n",
    "model = Net().to(device)\n",
    "\n",
    "criterion=nn.CrossEntropyLoss()\n",
    "optimizer = optim.Adam(model.parameters(), lr=learning_rate, weight_decay=weight_decay)"
   ]
  },
  {
   "cell_type": "code",
   "execution_count": 21,
   "metadata": {},
   "outputs": [
    {
     "name": "stderr",
     "output_type": "stream",
     "text": [
      "100%|██████████| 3125/3125 [00:28<00:00, 111.38it/s]\n",
      "100%|██████████| 625/625 [00:00<00:00, 822.85it/s]\n",
      "  0%|          | 12/3125 [00:00<00:27, 114.15it/s]"
     ]
    },
    {
     "name": "stdout",
     "output_type": "stream",
     "text": [
      "--------------------------------------------------------------\n",
      "Epoch: 1\n",
      "--------------------------------------------------------------\n",
      "Trainig loss: 1.5212732696723938\n",
      "--------------------------------------------------------------\n",
      "Accuracy of the network on the train images: 45.95 percent (22975/50000)\n",
      "--------------------------------------------------------------\n",
      "Accuracy of the network on the test images: 54.08 percent (338/625)\n",
      "--------------------------------------------------------------\n"
     ]
    },
    {
     "name": "stderr",
     "output_type": "stream",
     "text": [
      "100%|██████████| 3125/3125 [00:29<00:00, 104.17it/s]\n",
      "100%|██████████| 625/625 [00:00<00:00, 826.42it/s]\n",
      "  0%|          | 11/3125 [00:00<00:29, 105.98it/s]"
     ]
    },
    {
     "name": "stdout",
     "output_type": "stream",
     "text": [
      "--------------------------------------------------------------\n",
      "Epoch: 2\n",
      "--------------------------------------------------------------\n",
      "Trainig loss: 1.2948866560554504\n",
      "--------------------------------------------------------------\n",
      "Accuracy of the network on the train images: 54.398 percent (27199/50000)\n",
      "--------------------------------------------------------------\n",
      "Accuracy of the network on the test images: 57.44 percent (359/625)\n",
      "--------------------------------------------------------------\n"
     ]
    },
    {
     "name": "stderr",
     "output_type": "stream",
     "text": [
      "100%|██████████| 3125/3125 [00:30<00:00, 103.96it/s]\n",
      "100%|██████████| 625/625 [00:00<00:00, 701.77it/s]\n",
      "  0%|          | 10/3125 [00:00<00:34, 91.15it/s]"
     ]
    },
    {
     "name": "stdout",
     "output_type": "stream",
     "text": [
      "--------------------------------------------------------------\n",
      "Epoch: 3\n",
      "--------------------------------------------------------------\n",
      "Trainig loss: 1.2230659342384338\n",
      "--------------------------------------------------------------\n",
      "Accuracy of the network on the train images: 57.03 percent (28515/50000)\n",
      "--------------------------------------------------------------\n",
      "Accuracy of the network on the test images: 60.0 percent (375/625)\n",
      "--------------------------------------------------------------\n"
     ]
    },
    {
     "name": "stderr",
     "output_type": "stream",
     "text": [
      "100%|██████████| 3125/3125 [00:30<00:00, 101.84it/s]\n",
      "100%|██████████| 625/625 [00:00<00:00, 792.47it/s]\n",
      "  0%|          | 10/3125 [00:00<00:33, 92.33it/s]"
     ]
    },
    {
     "name": "stdout",
     "output_type": "stream",
     "text": [
      "--------------------------------------------------------------\n",
      "Epoch: 4\n",
      "--------------------------------------------------------------\n",
      "Trainig loss: 1.1796399907684325\n",
      "--------------------------------------------------------------\n",
      "Accuracy of the network on the train images: 58.628 percent (29314/50000)\n",
      "--------------------------------------------------------------\n",
      "Accuracy of the network on the test images: 60.8 percent (380/625)\n",
      "--------------------------------------------------------------\n"
     ]
    },
    {
     "name": "stderr",
     "output_type": "stream",
     "text": [
      "100%|██████████| 3125/3125 [00:30<00:00, 101.25it/s]\n",
      "100%|██████████| 625/625 [00:00<00:00, 776.86it/s]\n",
      "  0%|          | 10/3125 [00:00<00:31, 99.80it/s]"
     ]
    },
    {
     "name": "stdout",
     "output_type": "stream",
     "text": [
      "--------------------------------------------------------------\n",
      "Epoch: 5\n",
      "--------------------------------------------------------------\n",
      "Trainig loss: 1.14644927110672\n",
      "--------------------------------------------------------------\n",
      "Accuracy of the network on the train images: 59.754 percent (29877/50000)\n",
      "--------------------------------------------------------------\n",
      "Accuracy of the network on the test images: 60.32 percent (377/625)\n",
      "--------------------------------------------------------------\n"
     ]
    },
    {
     "name": "stderr",
     "output_type": "stream",
     "text": [
      "100%|██████████| 3125/3125 [00:30<00:00, 103.02it/s]\n",
      "100%|██████████| 625/625 [00:00<00:00, 871.60it/s]\n",
      "  0%|          | 9/3125 [00:00<00:36, 86.29it/s]"
     ]
    },
    {
     "name": "stdout",
     "output_type": "stream",
     "text": [
      "--------------------------------------------------------------\n",
      "Epoch: 6\n",
      "--------------------------------------------------------------\n",
      "Trainig loss: 1.1190204827594756\n",
      "--------------------------------------------------------------\n",
      "Accuracy of the network on the train images: 60.712 percent (30356/50000)\n",
      "--------------------------------------------------------------\n",
      "Accuracy of the network on the test images: 61.28 percent (383/625)\n",
      "--------------------------------------------------------------\n"
     ]
    },
    {
     "name": "stderr",
     "output_type": "stream",
     "text": [
      "100%|██████████| 3125/3125 [00:31<00:00, 98.85it/s] \n",
      "100%|██████████| 625/625 [00:00<00:00, 846.02it/s]\n",
      "  0%|          | 11/3125 [00:00<00:30, 101.88it/s]"
     ]
    },
    {
     "name": "stdout",
     "output_type": "stream",
     "text": [
      "--------------------------------------------------------------\n",
      "Epoch: 7\n",
      "--------------------------------------------------------------\n",
      "Trainig loss: 1.095899246673584\n",
      "--------------------------------------------------------------\n",
      "Accuracy of the network on the train images: 61.63 percent (30815/50000)\n",
      "--------------------------------------------------------------\n",
      "Accuracy of the network on the test images: 61.12 percent (382/625)\n",
      "--------------------------------------------------------------\n"
     ]
    },
    {
     "name": "stderr",
     "output_type": "stream",
     "text": [
      "100%|██████████| 3125/3125 [00:30<00:00, 103.41it/s]\n",
      "100%|██████████| 625/625 [00:00<00:00, 803.23it/s]\n",
      "  0%|          | 11/3125 [00:00<00:29, 104.15it/s]"
     ]
    },
    {
     "name": "stdout",
     "output_type": "stream",
     "text": [
      "--------------------------------------------------------------\n",
      "Epoch: 8\n",
      "--------------------------------------------------------------\n",
      "Trainig loss: 1.0759221564483643\n",
      "--------------------------------------------------------------\n",
      "Accuracy of the network on the train images: 62.368 percent (31184/50000)\n",
      "--------------------------------------------------------------\n",
      "Accuracy of the network on the test images: 60.48 percent (378/625)\n",
      "--------------------------------------------------------------\n"
     ]
    },
    {
     "name": "stderr",
     "output_type": "stream",
     "text": [
      "100%|██████████| 3125/3125 [00:30<00:00, 102.92it/s]\n",
      "100%|██████████| 625/625 [00:00<00:00, 822.19it/s]\n",
      "  0%|          | 11/3125 [00:00<00:28, 108.96it/s]"
     ]
    },
    {
     "name": "stdout",
     "output_type": "stream",
     "text": [
      "--------------------------------------------------------------\n",
      "Epoch: 9\n",
      "--------------------------------------------------------------\n",
      "Trainig loss: 1.0587641728687287\n",
      "--------------------------------------------------------------\n",
      "Accuracy of the network on the train images: 62.86 percent (31430/50000)\n",
      "--------------------------------------------------------------\n",
      "Accuracy of the network on the test images: 60.8 percent (380/625)\n",
      "--------------------------------------------------------------\n"
     ]
    },
    {
     "name": "stderr",
     "output_type": "stream",
     "text": [
      "100%|██████████| 3125/3125 [00:27<00:00, 114.71it/s]\n",
      "100%|██████████| 625/625 [00:00<00:00, 814.72it/s]\n",
      "  0%|          | 11/3125 [00:00<00:32, 96.97it/s]"
     ]
    },
    {
     "name": "stdout",
     "output_type": "stream",
     "text": [
      "--------------------------------------------------------------\n",
      "Epoch: 10\n",
      "--------------------------------------------------------------\n",
      "Trainig loss: 1.043836641778946\n",
      "--------------------------------------------------------------\n",
      "Accuracy of the network on the train images: 63.406 percent (31703/50000)\n",
      "--------------------------------------------------------------\n",
      "Accuracy of the network on the test images: 60.64 percent (379/625)\n",
      "--------------------------------------------------------------\n"
     ]
    },
    {
     "name": "stderr",
     "output_type": "stream",
     "text": [
      "100%|██████████| 3125/3125 [00:31<00:00, 99.74it/s] \n",
      "100%|██████████| 625/625 [00:00<00:00, 789.42it/s]\n",
      "  0%|          | 10/3125 [00:00<00:31, 99.82it/s]"
     ]
    },
    {
     "name": "stdout",
     "output_type": "stream",
     "text": [
      "--------------------------------------------------------------\n",
      "Epoch: 11\n",
      "--------------------------------------------------------------\n",
      "Trainig loss: 1.0310967233753205\n",
      "--------------------------------------------------------------\n",
      "Accuracy of the network on the train images: 63.768 percent (31884/50000)\n",
      "--------------------------------------------------------------\n",
      "Accuracy of the network on the test images: 60.48 percent (378/625)\n",
      "--------------------------------------------------------------\n"
     ]
    },
    {
     "name": "stderr",
     "output_type": "stream",
     "text": [
      "100%|██████████| 3125/3125 [00:30<00:00, 103.22it/s]\n",
      "100%|██████████| 625/625 [00:00<00:00, 787.83it/s]\n",
      "  0%|          | 10/3125 [00:00<00:32, 97.16it/s]"
     ]
    },
    {
     "name": "stdout",
     "output_type": "stream",
     "text": [
      "--------------------------------------------------------------\n",
      "Epoch: 12\n",
      "--------------------------------------------------------------\n",
      "Trainig loss: 1.0198437964725495\n",
      "--------------------------------------------------------------\n",
      "Accuracy of the network on the train images: 64.196 percent (32098/50000)\n",
      "--------------------------------------------------------------\n",
      "Accuracy of the network on the test images: 60.48 percent (378/625)\n",
      "--------------------------------------------------------------\n"
     ]
    },
    {
     "name": "stderr",
     "output_type": "stream",
     "text": [
      "100%|██████████| 3125/3125 [00:29<00:00, 104.37it/s]\n",
      "100%|██████████| 625/625 [00:00<00:00, 831.14it/s]\n",
      "  0%|          | 11/3125 [00:00<00:29, 106.88it/s]"
     ]
    },
    {
     "name": "stdout",
     "output_type": "stream",
     "text": [
      "--------------------------------------------------------------\n",
      "Epoch: 13\n",
      "--------------------------------------------------------------\n",
      "Trainig loss: 1.0101681286525726\n",
      "--------------------------------------------------------------\n",
      "Accuracy of the network on the train images: 64.444 percent (32222/50000)\n",
      "--------------------------------------------------------------\n",
      "Accuracy of the network on the test images: 60.64 percent (379/625)\n",
      "--------------------------------------------------------------\n"
     ]
    },
    {
     "name": "stderr",
     "output_type": "stream",
     "text": [
      "100%|██████████| 3125/3125 [00:29<00:00, 104.29it/s]\n",
      "100%|██████████| 625/625 [00:00<00:00, 828.25it/s]\n",
      "  0%|          | 11/3125 [00:00<00:29, 106.46it/s]"
     ]
    },
    {
     "name": "stdout",
     "output_type": "stream",
     "text": [
      "--------------------------------------------------------------\n",
      "Epoch: 14\n",
      "--------------------------------------------------------------\n",
      "Trainig loss: 1.00133947681427\n",
      "--------------------------------------------------------------\n",
      "Accuracy of the network on the train images: 64.686 percent (32343/50000)\n",
      "--------------------------------------------------------------\n",
      "Accuracy of the network on the test images: 60.16 percent (376/625)\n",
      "--------------------------------------------------------------\n"
     ]
    },
    {
     "name": "stderr",
     "output_type": "stream",
     "text": [
      "100%|██████████| 3125/3125 [00:29<00:00, 104.95it/s]\n",
      "100%|██████████| 625/625 [00:00<00:00, 810.43it/s]\n",
      "  0%|          | 11/3125 [00:00<00:30, 101.59it/s]"
     ]
    },
    {
     "name": "stdout",
     "output_type": "stream",
     "text": [
      "--------------------------------------------------------------\n",
      "Epoch: 15\n",
      "--------------------------------------------------------------\n",
      "Trainig loss: 0.9932070319461822\n",
      "--------------------------------------------------------------\n",
      "Accuracy of the network on the train images: 65.024 percent (32512/50000)\n",
      "--------------------------------------------------------------\n",
      "Accuracy of the network on the test images: 60.96 percent (381/625)\n",
      "--------------------------------------------------------------\n"
     ]
    },
    {
     "name": "stderr",
     "output_type": "stream",
     "text": [
      "100%|██████████| 3125/3125 [00:29<00:00, 105.90it/s]\n",
      "100%|██████████| 625/625 [00:00<00:00, 844.58it/s]\n",
      "  0%|          | 11/3125 [00:00<00:29, 107.36it/s]"
     ]
    },
    {
     "name": "stdout",
     "output_type": "stream",
     "text": [
      "--------------------------------------------------------------\n",
      "Epoch: 16\n",
      "--------------------------------------------------------------\n",
      "Trainig loss: 0.9858991616916657\n",
      "--------------------------------------------------------------\n",
      "Accuracy of the network on the train images: 65.332 percent (32666/50000)\n",
      "--------------------------------------------------------------\n",
      "Accuracy of the network on the test images: 60.8 percent (380/625)\n",
      "--------------------------------------------------------------\n"
     ]
    },
    {
     "name": "stderr",
     "output_type": "stream",
     "text": [
      "100%|██████████| 3125/3125 [00:30<00:00, 103.51it/s]\n",
      "100%|██████████| 625/625 [00:00<00:00, 815.68it/s]\n",
      "  0%|          | 11/3125 [00:00<00:29, 104.15it/s]"
     ]
    },
    {
     "name": "stdout",
     "output_type": "stream",
     "text": [
      "--------------------------------------------------------------\n",
      "Epoch: 17\n",
      "--------------------------------------------------------------\n",
      "Trainig loss: 0.9793360140705109\n",
      "--------------------------------------------------------------\n",
      "Accuracy of the network on the train images: 65.658 percent (32829/50000)\n",
      "--------------------------------------------------------------\n",
      "Accuracy of the network on the test images: 61.12 percent (382/625)\n",
      "--------------------------------------------------------------\n"
     ]
    },
    {
     "name": "stderr",
     "output_type": "stream",
     "text": [
      "100%|██████████| 3125/3125 [00:30<00:00, 102.94it/s]\n",
      "100%|██████████| 625/625 [00:00<00:00, 830.98it/s]\n",
      "  0%|          | 11/3125 [00:00<00:29, 106.68it/s]"
     ]
    },
    {
     "name": "stdout",
     "output_type": "stream",
     "text": [
      "--------------------------------------------------------------\n",
      "Epoch: 18\n",
      "--------------------------------------------------------------\n",
      "Trainig loss: 0.9731172994709015\n",
      "--------------------------------------------------------------\n",
      "Accuracy of the network on the train images: 65.848 percent (32924/50000)\n",
      "--------------------------------------------------------------\n",
      "Accuracy of the network on the test images: 60.96 percent (381/625)\n",
      "--------------------------------------------------------------\n"
     ]
    },
    {
     "name": "stderr",
     "output_type": "stream",
     "text": [
      "100%|██████████| 3125/3125 [00:29<00:00, 104.62it/s]\n",
      "100%|██████████| 625/625 [00:00<00:00, 830.49it/s]\n",
      "  0%|          | 10/3125 [00:00<00:31, 98.40it/s]"
     ]
    },
    {
     "name": "stdout",
     "output_type": "stream",
     "text": [
      "--------------------------------------------------------------\n",
      "Epoch: 19\n",
      "--------------------------------------------------------------\n",
      "Trainig loss: 0.9671367286586762\n",
      "--------------------------------------------------------------\n",
      "Accuracy of the network on the train images: 66.06 percent (33030/50000)\n",
      "--------------------------------------------------------------\n",
      "Accuracy of the network on the test images: 61.76 percent (386/625)\n",
      "--------------------------------------------------------------\n"
     ]
    },
    {
     "name": "stderr",
     "output_type": "stream",
     "text": [
      "100%|██████████| 3125/3125 [00:30<00:00, 102.69it/s]\n",
      "100%|██████████| 625/625 [00:00<00:00, 827.00it/s]\n",
      "  0%|          | 11/3125 [00:00<00:29, 106.09it/s]"
     ]
    },
    {
     "name": "stdout",
     "output_type": "stream",
     "text": [
      "--------------------------------------------------------------\n",
      "Epoch: 20\n",
      "--------------------------------------------------------------\n",
      "Trainig loss: 0.9613955853748322\n",
      "--------------------------------------------------------------\n",
      "Accuracy of the network on the train images: 66.316 percent (33158/50000)\n",
      "--------------------------------------------------------------\n",
      "Accuracy of the network on the test images: 61.76 percent (386/625)\n",
      "--------------------------------------------------------------\n"
     ]
    },
    {
     "name": "stderr",
     "output_type": "stream",
     "text": [
      "100%|██████████| 3125/3125 [00:26<00:00, 117.24it/s]\n",
      "100%|██████████| 625/625 [00:00<00:00, 818.57it/s]\n",
      "  0%|          | 11/3125 [00:00<00:30, 102.49it/s]"
     ]
    },
    {
     "name": "stdout",
     "output_type": "stream",
     "text": [
      "--------------------------------------------------------------\n",
      "Epoch: 21\n",
      "--------------------------------------------------------------\n",
      "Trainig loss: 0.9560281421375275\n",
      "--------------------------------------------------------------\n",
      "Accuracy of the network on the train images: 66.48 percent (33240/50000)\n",
      "--------------------------------------------------------------\n",
      "Accuracy of the network on the test images: 61.76 percent (386/625)\n",
      "--------------------------------------------------------------\n"
     ]
    },
    {
     "name": "stderr",
     "output_type": "stream",
     "text": [
      "100%|██████████| 3125/3125 [00:29<00:00, 107.00it/s]\n",
      "100%|██████████| 625/625 [00:00<00:00, 827.20it/s]\n",
      "  0%|          | 12/3125 [00:00<00:27, 113.25it/s]"
     ]
    },
    {
     "name": "stdout",
     "output_type": "stream",
     "text": [
      "--------------------------------------------------------------\n",
      "Epoch: 22\n",
      "--------------------------------------------------------------\n",
      "Trainig loss: 0.9510628299331665\n",
      "--------------------------------------------------------------\n",
      "Accuracy of the network on the train images: 66.644 percent (33322/50000)\n",
      "--------------------------------------------------------------\n",
      "Accuracy of the network on the test images: 61.76 percent (386/625)\n",
      "--------------------------------------------------------------\n"
     ]
    },
    {
     "name": "stderr",
     "output_type": "stream",
     "text": [
      "100%|██████████| 3125/3125 [00:31<00:00, 104.26it/s]\n",
      "100%|██████████| 625/625 [00:00<00:00, 692.77it/s]\n",
      "  0%|          | 10/3125 [00:00<00:32, 96.78it/s]"
     ]
    },
    {
     "name": "stdout",
     "output_type": "stream",
     "text": [
      "--------------------------------------------------------------\n",
      "Epoch: 23\n",
      "--------------------------------------------------------------\n",
      "Trainig loss: 0.9463654723644257\n",
      "--------------------------------------------------------------\n",
      "Accuracy of the network on the train images: 66.83 percent (33415/50000)\n",
      "--------------------------------------------------------------\n",
      "Accuracy of the network on the test images: 61.92 percent (387/625)\n",
      "--------------------------------------------------------------\n"
     ]
    },
    {
     "name": "stderr",
     "output_type": "stream",
     "text": [
      "100%|██████████| 3125/3125 [00:29<00:00, 104.86it/s]\n",
      "100%|██████████| 625/625 [00:00<00:00, 830.32it/s]\n",
      "  0%|          | 11/3125 [00:00<00:28, 108.05it/s]"
     ]
    },
    {
     "name": "stdout",
     "output_type": "stream",
     "text": [
      "--------------------------------------------------------------\n",
      "Epoch: 24\n",
      "--------------------------------------------------------------\n",
      "Trainig loss: 0.9418991646003723\n",
      "--------------------------------------------------------------\n",
      "Accuracy of the network on the train images: 66.968 percent (33484/50000)\n",
      "--------------------------------------------------------------\n",
      "Accuracy of the network on the test images: 61.44 percent (384/625)\n",
      "--------------------------------------------------------------\n"
     ]
    },
    {
     "name": "stderr",
     "output_type": "stream",
     "text": [
      "100%|██████████| 3125/3125 [00:30<00:00, 102.79it/s]\n",
      "100%|██████████| 625/625 [00:00<00:00, 828.92it/s]\n",
      "  0%|          | 11/3125 [00:00<00:29, 104.88it/s]"
     ]
    },
    {
     "name": "stdout",
     "output_type": "stream",
     "text": [
      "--------------------------------------------------------------\n",
      "Epoch: 25\n",
      "--------------------------------------------------------------\n",
      "Trainig loss: 0.9378664085006714\n",
      "--------------------------------------------------------------\n",
      "Accuracy of the network on the train images: 67.172 percent (33586/50000)\n",
      "--------------------------------------------------------------\n",
      "Accuracy of the network on the test images: 61.28 percent (383/625)\n",
      "--------------------------------------------------------------\n"
     ]
    },
    {
     "name": "stderr",
     "output_type": "stream",
     "text": [
      "100%|██████████| 3125/3125 [00:30<00:00, 104.07it/s]\n",
      "100%|██████████| 625/625 [00:00<00:00, 832.81it/s]\n",
      "  0%|          | 11/3125 [00:00<00:29, 105.92it/s]"
     ]
    },
    {
     "name": "stdout",
     "output_type": "stream",
     "text": [
      "--------------------------------------------------------------\n",
      "Epoch: 26\n",
      "--------------------------------------------------------------\n",
      "Trainig loss: 0.9339272985935211\n",
      "--------------------------------------------------------------\n",
      "Accuracy of the network on the train images: 67.298 percent (33649/50000)\n",
      "--------------------------------------------------------------\n",
      "Accuracy of the network on the test images: 61.76 percent (386/625)\n",
      "--------------------------------------------------------------\n"
     ]
    },
    {
     "name": "stderr",
     "output_type": "stream",
     "text": [
      "100%|██████████| 3125/3125 [00:30<00:00, 104.28it/s]\n",
      "100%|██████████| 625/625 [00:00<00:00, 803.39it/s]\n",
      "  0%|          | 11/3125 [00:00<00:29, 104.96it/s]"
     ]
    },
    {
     "name": "stdout",
     "output_type": "stream",
     "text": [
      "--------------------------------------------------------------\n",
      "Epoch: 27\n",
      "--------------------------------------------------------------\n",
      "Trainig loss: 0.930239520072937\n",
      "--------------------------------------------------------------\n",
      "Accuracy of the network on the train images: 67.49 percent (33745/50000)\n",
      "--------------------------------------------------------------\n",
      "Accuracy of the network on the test images: 61.44 percent (384/625)\n",
      "--------------------------------------------------------------\n"
     ]
    },
    {
     "name": "stderr",
     "output_type": "stream",
     "text": [
      "100%|██████████| 3125/3125 [00:27<00:00, 111.80it/s]\n",
      "100%|██████████| 625/625 [00:00<00:00, 739.65it/s]\n",
      "  0%|          | 9/3125 [00:00<00:34, 89.34it/s]"
     ]
    },
    {
     "name": "stdout",
     "output_type": "stream",
     "text": [
      "--------------------------------------------------------------\n",
      "Epoch: 28\n",
      "--------------------------------------------------------------\n",
      "Trainig loss: 0.92675264544487\n",
      "--------------------------------------------------------------\n",
      "Accuracy of the network on the train images: 67.634 percent (33817/50000)\n",
      "--------------------------------------------------------------\n",
      "Accuracy of the network on the test images: 60.96 percent (381/625)\n",
      "--------------------------------------------------------------\n"
     ]
    },
    {
     "name": "stderr",
     "output_type": "stream",
     "text": [
      "100%|██████████| 3125/3125 [00:30<00:00, 103.80it/s]\n",
      "100%|██████████| 625/625 [00:00<00:00, 1029.14it/s]\n",
      "  0%|          | 11/3125 [00:00<00:29, 106.74it/s]"
     ]
    },
    {
     "name": "stdout",
     "output_type": "stream",
     "text": [
      "--------------------------------------------------------------\n",
      "Epoch: 29\n",
      "--------------------------------------------------------------\n",
      "Trainig loss: 0.9235187753963471\n",
      "--------------------------------------------------------------\n",
      "Accuracy of the network on the train images: 67.836 percent (33918/50000)\n",
      "--------------------------------------------------------------\n",
      "Accuracy of the network on the test images: 60.96 percent (381/625)\n",
      "--------------------------------------------------------------\n"
     ]
    },
    {
     "name": "stderr",
     "output_type": "stream",
     "text": [
      "100%|██████████| 3125/3125 [00:29<00:00, 104.38it/s]\n",
      "100%|██████████| 625/625 [00:00<00:00, 839.93it/s]\n",
      "  0%|          | 12/3125 [00:00<00:28, 110.72it/s]"
     ]
    },
    {
     "name": "stdout",
     "output_type": "stream",
     "text": [
      "--------------------------------------------------------------\n",
      "Epoch: 30\n",
      "--------------------------------------------------------------\n",
      "Trainig loss: 0.9204489983654022\n",
      "--------------------------------------------------------------\n",
      "Accuracy of the network on the train images: 67.97 percent (33985/50000)\n",
      "--------------------------------------------------------------\n",
      "Accuracy of the network on the test images: 60.96 percent (381/625)\n",
      "--------------------------------------------------------------\n"
     ]
    },
    {
     "name": "stderr",
     "output_type": "stream",
     "text": [
      "100%|██████████| 3125/3125 [00:29<00:00, 104.59it/s]\n",
      "100%|██████████| 625/625 [00:00<00:00, 805.90it/s]\n",
      "  0%|          | 11/3125 [00:00<00:29, 105.19it/s]"
     ]
    },
    {
     "name": "stdout",
     "output_type": "stream",
     "text": [
      "--------------------------------------------------------------\n",
      "Epoch: 31\n",
      "--------------------------------------------------------------\n",
      "Trainig loss: 0.9175044200706481\n",
      "--------------------------------------------------------------\n",
      "Accuracy of the network on the train images: 68.044 percent (34022/50000)\n",
      "--------------------------------------------------------------\n",
      "Accuracy of the network on the test images: 60.16 percent (376/625)\n",
      "--------------------------------------------------------------\n"
     ]
    },
    {
     "name": "stderr",
     "output_type": "stream",
     "text": [
      "100%|██████████| 3125/3125 [00:30<00:00, 104.15it/s]\n",
      "100%|██████████| 625/625 [00:00<00:00, 803.67it/s]\n",
      "  0%|          | 10/3125 [00:00<00:33, 93.52it/s]"
     ]
    },
    {
     "name": "stdout",
     "output_type": "stream",
     "text": [
      "--------------------------------------------------------------\n",
      "Epoch: 32\n",
      "--------------------------------------------------------------\n",
      "Trainig loss: 0.9146820577526092\n",
      "--------------------------------------------------------------\n",
      "Accuracy of the network on the train images: 68.152 percent (34076/50000)\n",
      "--------------------------------------------------------------\n",
      "Accuracy of the network on the test images: 60.64 percent (379/625)\n",
      "--------------------------------------------------------------\n"
     ]
    },
    {
     "name": "stderr",
     "output_type": "stream",
     "text": [
      "100%|██████████| 3125/3125 [00:33<00:00, 92.51it/s] \n",
      "100%|██████████| 625/625 [00:00<00:00, 679.11it/s]\n",
      "  0%|          | 9/3125 [00:00<00:35, 86.74it/s]"
     ]
    },
    {
     "name": "stdout",
     "output_type": "stream",
     "text": [
      "--------------------------------------------------------------\n",
      "Epoch: 33\n",
      "--------------------------------------------------------------\n",
      "Trainig loss: 0.9120514870548249\n",
      "--------------------------------------------------------------\n",
      "Accuracy of the network on the train images: 68.236 percent (34118/50000)\n",
      "--------------------------------------------------------------\n",
      "Accuracy of the network on the test images: 60.64 percent (379/625)\n",
      "--------------------------------------------------------------\n"
     ]
    },
    {
     "name": "stderr",
     "output_type": "stream",
     "text": [
      "100%|██████████| 3125/3125 [00:30<00:00, 104.15it/s]\n",
      "100%|██████████| 625/625 [00:00<00:00, 818.98it/s]\n",
      "  0%|          | 11/3125 [00:00<00:30, 103.06it/s]"
     ]
    },
    {
     "name": "stdout",
     "output_type": "stream",
     "text": [
      "--------------------------------------------------------------\n",
      "Epoch: 34\n",
      "--------------------------------------------------------------\n",
      "Trainig loss: 0.9094588524341584\n",
      "--------------------------------------------------------------\n",
      "Accuracy of the network on the train images: 68.332 percent (34166/50000)\n",
      "--------------------------------------------------------------\n",
      "Accuracy of the network on the test images: 60.8 percent (380/625)\n",
      "--------------------------------------------------------------\n"
     ]
    },
    {
     "name": "stderr",
     "output_type": "stream",
     "text": [
      "100%|██████████| 3125/3125 [00:30<00:00, 103.85it/s]\n",
      "100%|██████████| 625/625 [00:00<00:00, 823.18it/s]\n",
      "  0%|          | 10/3125 [00:00<00:32, 95.78it/s]"
     ]
    },
    {
     "name": "stdout",
     "output_type": "stream",
     "text": [
      "--------------------------------------------------------------\n",
      "Epoch: 35\n",
      "--------------------------------------------------------------\n",
      "Trainig loss: 0.9070095196056366\n",
      "--------------------------------------------------------------\n",
      "Accuracy of the network on the train images: 68.404 percent (34202/50000)\n",
      "--------------------------------------------------------------\n",
      "Accuracy of the network on the test images: 60.64 percent (379/625)\n",
      "--------------------------------------------------------------\n"
     ]
    },
    {
     "name": "stderr",
     "output_type": "stream",
     "text": [
      "100%|██████████| 3125/3125 [00:26<00:00, 117.02it/s]\n",
      "100%|██████████| 625/625 [00:00<00:00, 816.24it/s]\n",
      "  0%|          | 11/3125 [00:00<00:29, 104.08it/s]"
     ]
    },
    {
     "name": "stdout",
     "output_type": "stream",
     "text": [
      "--------------------------------------------------------------\n",
      "Epoch: 36\n",
      "--------------------------------------------------------------\n",
      "Trainig loss: 0.9046869814395905\n",
      "--------------------------------------------------------------\n",
      "Accuracy of the network on the train images: 68.542 percent (34271/50000)\n",
      "--------------------------------------------------------------\n",
      "Accuracy of the network on the test images: 60.48 percent (378/625)\n",
      "--------------------------------------------------------------\n"
     ]
    },
    {
     "name": "stderr",
     "output_type": "stream",
     "text": [
      "100%|██████████| 3125/3125 [00:27<00:00, 114.26it/s]\n",
      "100%|██████████| 625/625 [00:00<00:00, 776.45it/s]\n",
      "  0%|          | 9/3125 [00:00<00:35, 86.68it/s]"
     ]
    },
    {
     "name": "stdout",
     "output_type": "stream",
     "text": [
      "--------------------------------------------------------------\n",
      "Epoch: 37\n",
      "--------------------------------------------------------------\n",
      "Trainig loss: 0.902390408668518\n",
      "--------------------------------------------------------------\n",
      "Accuracy of the network on the train images: 68.57 percent (34285/50000)\n",
      "--------------------------------------------------------------\n",
      "Accuracy of the network on the test images: 60.32 percent (377/625)\n",
      "--------------------------------------------------------------\n"
     ]
    },
    {
     "name": "stderr",
     "output_type": "stream",
     "text": [
      "100%|██████████| 3125/3125 [00:30<00:00, 102.55it/s]\n",
      "100%|██████████| 625/625 [00:00<00:00, 786.00it/s]\n",
      "  0%|          | 9/3125 [00:00<00:39, 79.35it/s]"
     ]
    },
    {
     "name": "stdout",
     "output_type": "stream",
     "text": [
      "--------------------------------------------------------------\n",
      "Epoch: 38\n",
      "--------------------------------------------------------------\n",
      "Trainig loss: 0.9002851930427551\n",
      "--------------------------------------------------------------\n",
      "Accuracy of the network on the train images: 68.692 percent (34346/50000)\n",
      "--------------------------------------------------------------\n",
      "Accuracy of the network on the test images: 59.84 percent (374/625)\n",
      "--------------------------------------------------------------\n"
     ]
    },
    {
     "name": "stderr",
     "output_type": "stream",
     "text": [
      "100%|██████████| 3125/3125 [00:29<00:00, 104.61it/s]\n",
      "100%|██████████| 625/625 [00:00<00:00, 824.58it/s]\n",
      "  0%|          | 13/3125 [00:00<00:25, 120.97it/s]"
     ]
    },
    {
     "name": "stdout",
     "output_type": "stream",
     "text": [
      "--------------------------------------------------------------\n",
      "Epoch: 39\n",
      "--------------------------------------------------------------\n",
      "Trainig loss: 0.8982987257766724\n",
      "--------------------------------------------------------------\n",
      "Accuracy of the network on the train images: 68.718 percent (34359/50000)\n",
      "--------------------------------------------------------------\n",
      "Accuracy of the network on the test images: 60.16 percent (376/625)\n",
      "--------------------------------------------------------------\n"
     ]
    },
    {
     "name": "stderr",
     "output_type": "stream",
     "text": [
      "100%|██████████| 3125/3125 [00:29<00:00, 106.18it/s]\n",
      "100%|██████████| 625/625 [00:00<00:00, 835.64it/s]\n",
      "  0%|          | 11/3125 [00:00<00:29, 105.89it/s]"
     ]
    },
    {
     "name": "stdout",
     "output_type": "stream",
     "text": [
      "--------------------------------------------------------------\n",
      "Epoch: 40\n",
      "--------------------------------------------------------------\n",
      "Trainig loss: 0.896306151342392\n",
      "--------------------------------------------------------------\n",
      "Accuracy of the network on the train images: 68.782 percent (34391/50000)\n",
      "--------------------------------------------------------------\n",
      "Accuracy of the network on the test images: 59.68 percent (373/625)\n",
      "--------------------------------------------------------------\n"
     ]
    },
    {
     "name": "stderr",
     "output_type": "stream",
     "text": [
      "100%|██████████| 3125/3125 [00:28<00:00, 108.46it/s]\n",
      "100%|██████████| 625/625 [00:00<00:00, 843.34it/s]\n",
      "  0%|          | 12/3125 [00:00<00:25, 119.80it/s]"
     ]
    },
    {
     "name": "stdout",
     "output_type": "stream",
     "text": [
      "--------------------------------------------------------------\n",
      "Epoch: 41\n",
      "--------------------------------------------------------------\n",
      "Trainig loss: 0.894538129620552\n",
      "--------------------------------------------------------------\n",
      "Accuracy of the network on the train images: 68.82 percent (34410/50000)\n",
      "--------------------------------------------------------------\n",
      "Accuracy of the network on the test images: 59.68 percent (373/625)\n",
      "--------------------------------------------------------------\n"
     ]
    },
    {
     "name": "stderr",
     "output_type": "stream",
     "text": [
      "100%|██████████| 3125/3125 [00:28<00:00, 110.65it/s]\n",
      "100%|██████████| 625/625 [00:00<00:00, 794.13it/s]\n",
      "  0%|          | 9/3125 [00:00<00:35, 88.46it/s]"
     ]
    },
    {
     "name": "stdout",
     "output_type": "stream",
     "text": [
      "--------------------------------------------------------------\n",
      "Epoch: 42\n",
      "--------------------------------------------------------------\n",
      "Trainig loss: 0.892799463005066\n",
      "--------------------------------------------------------------\n",
      "Accuracy of the network on the train images: 68.928 percent (34464/50000)\n",
      "--------------------------------------------------------------\n",
      "Accuracy of the network on the test images: 59.2 percent (370/625)\n",
      "--------------------------------------------------------------\n"
     ]
    },
    {
     "name": "stderr",
     "output_type": "stream",
     "text": [
      "100%|██████████| 3125/3125 [00:31<00:00, 100.30it/s]\n",
      "100%|██████████| 625/625 [00:00<00:00, 696.28it/s]\n",
      "  0%|          | 11/3125 [00:00<00:30, 101.25it/s]"
     ]
    },
    {
     "name": "stdout",
     "output_type": "stream",
     "text": [
      "--------------------------------------------------------------\n",
      "Epoch: 43\n",
      "--------------------------------------------------------------\n",
      "Trainig loss: 0.8911877760791779\n",
      "--------------------------------------------------------------\n",
      "Accuracy of the network on the train images: 69.008 percent (34504/50000)\n",
      "--------------------------------------------------------------\n",
      "Accuracy of the network on the test images: 60.0 percent (375/625)\n",
      "--------------------------------------------------------------\n"
     ]
    },
    {
     "name": "stderr",
     "output_type": "stream",
     "text": [
      "100%|██████████| 3125/3125 [00:29<00:00, 104.25it/s]\n",
      "100%|██████████| 625/625 [00:00<00:00, 694.39it/s]\n",
      "  0%|          | 10/3125 [00:00<00:34, 90.36it/s]"
     ]
    },
    {
     "name": "stdout",
     "output_type": "stream",
     "text": [
      "--------------------------------------------------------------\n",
      "Epoch: 44\n",
      "--------------------------------------------------------------\n",
      "Trainig loss: 0.8896275926589966\n",
      "--------------------------------------------------------------\n",
      "Accuracy of the network on the train images: 69.128 percent (34564/50000)\n",
      "--------------------------------------------------------------\n",
      "Accuracy of the network on the test images: 59.68 percent (373/625)\n",
      "--------------------------------------------------------------\n"
     ]
    },
    {
     "name": "stderr",
     "output_type": "stream",
     "text": [
      "100%|██████████| 3125/3125 [00:30<00:00, 102.33it/s]\n",
      "100%|██████████| 625/625 [00:00<00:00, 806.75it/s]\n",
      "  0%|          | 11/3125 [00:00<00:30, 103.20it/s]"
     ]
    },
    {
     "name": "stdout",
     "output_type": "stream",
     "text": [
      "--------------------------------------------------------------\n",
      "Epoch: 45\n",
      "--------------------------------------------------------------\n",
      "Trainig loss: 0.8881175814437866\n",
      "--------------------------------------------------------------\n",
      "Accuracy of the network on the train images: 69.2 percent (34600/50000)\n",
      "--------------------------------------------------------------\n",
      "Accuracy of the network on the test images: 59.04 percent (369/625)\n",
      "--------------------------------------------------------------\n"
     ]
    },
    {
     "name": "stderr",
     "output_type": "stream",
     "text": [
      "100%|██████████| 3125/3125 [00:29<00:00, 104.89it/s]\n",
      "100%|██████████| 625/625 [00:00<00:00, 814.15it/s]\n",
      "  0%|          | 11/3125 [00:00<00:28, 108.37it/s]"
     ]
    },
    {
     "name": "stdout",
     "output_type": "stream",
     "text": [
      "--------------------------------------------------------------\n",
      "Epoch: 46\n",
      "--------------------------------------------------------------\n",
      "Trainig loss: 0.8867354581546784\n",
      "--------------------------------------------------------------\n",
      "Accuracy of the network on the train images: 69.272 percent (34636/50000)\n",
      "--------------------------------------------------------------\n",
      "Accuracy of the network on the test images: 58.88 percent (368/625)\n",
      "--------------------------------------------------------------\n"
     ]
    },
    {
     "name": "stderr",
     "output_type": "stream",
     "text": [
      "100%|██████████| 3125/3125 [00:27<00:00, 112.65it/s]\n",
      "100%|██████████| 625/625 [00:00<00:00, 806.59it/s]\n",
      "  0%|          | 10/3125 [00:00<00:31, 98.24it/s]"
     ]
    },
    {
     "name": "stdout",
     "output_type": "stream",
     "text": [
      "--------------------------------------------------------------\n",
      "Epoch: 47\n",
      "--------------------------------------------------------------\n",
      "Trainig loss: 0.8853304799556733\n",
      "--------------------------------------------------------------\n",
      "Accuracy of the network on the train images: 69.33 percent (34665/50000)\n",
      "--------------------------------------------------------------\n",
      "Accuracy of the network on the test images: 59.04 percent (369/625)\n",
      "--------------------------------------------------------------\n"
     ]
    },
    {
     "name": "stderr",
     "output_type": "stream",
     "text": [
      "100%|██████████| 3125/3125 [00:29<00:00, 104.87it/s]\n",
      "100%|██████████| 625/625 [00:00<00:00, 827.08it/s]\n",
      "  0%|          | 12/3125 [00:00<00:27, 113.96it/s]"
     ]
    },
    {
     "name": "stdout",
     "output_type": "stream",
     "text": [
      "--------------------------------------------------------------\n",
      "Epoch: 48\n",
      "--------------------------------------------------------------\n",
      "Trainig loss: 0.8840382948684692\n",
      "--------------------------------------------------------------\n",
      "Accuracy of the network on the train images: 69.332 percent (34666/50000)\n",
      "--------------------------------------------------------------\n",
      "Accuracy of the network on the test images: 58.56 percent (366/625)\n",
      "--------------------------------------------------------------\n"
     ]
    },
    {
     "name": "stderr",
     "output_type": "stream",
     "text": [
      "100%|██████████| 3125/3125 [00:28<00:00, 108.31it/s]\n",
      "100%|██████████| 625/625 [00:00<00:00, 823.01it/s]\n",
      "  0%|          | 11/3125 [00:00<00:29, 105.42it/s]"
     ]
    },
    {
     "name": "stdout",
     "output_type": "stream",
     "text": [
      "--------------------------------------------------------------\n",
      "Epoch: 49\n",
      "--------------------------------------------------------------\n",
      "Trainig loss: 0.882764734363556\n",
      "--------------------------------------------------------------\n",
      "Accuracy of the network on the train images: 69.376 percent (34688/50000)\n",
      "--------------------------------------------------------------\n",
      "Accuracy of the network on the test images: 58.56 percent (366/625)\n",
      "--------------------------------------------------------------\n"
     ]
    },
    {
     "name": "stderr",
     "output_type": "stream",
     "text": [
      "100%|██████████| 3125/3125 [00:31<00:00, 100.66it/s]\n",
      "100%|██████████| 625/625 [00:00<00:00, 843.79it/s]\n",
      "  0%|          | 9/3125 [00:00<00:35, 86.79it/s]"
     ]
    },
    {
     "name": "stdout",
     "output_type": "stream",
     "text": [
      "--------------------------------------------------------------\n",
      "Epoch: 50\n",
      "--------------------------------------------------------------\n",
      "Trainig loss: 0.8815352652215958\n",
      "--------------------------------------------------------------\n",
      "Accuracy of the network on the train images: 69.416 percent (34708/50000)\n",
      "--------------------------------------------------------------\n",
      "Accuracy of the network on the test images: 58.4 percent (365/625)\n",
      "--------------------------------------------------------------\n"
     ]
    },
    {
     "name": "stderr",
     "output_type": "stream",
     "text": [
      "100%|██████████| 3125/3125 [00:29<00:00, 104.53it/s]\n",
      "100%|██████████| 625/625 [00:00<00:00, 815.46it/s]\n",
      "  0%|          | 9/3125 [00:00<00:34, 89.65it/s]"
     ]
    },
    {
     "name": "stdout",
     "output_type": "stream",
     "text": [
      "--------------------------------------------------------------\n",
      "Epoch: 51\n",
      "--------------------------------------------------------------\n",
      "Trainig loss: 0.8804285680294037\n",
      "--------------------------------------------------------------\n",
      "Accuracy of the network on the train images: 69.406 percent (34703/50000)\n",
      "--------------------------------------------------------------\n",
      "Accuracy of the network on the test images: 58.72 percent (367/625)\n",
      "--------------------------------------------------------------\n"
     ]
    },
    {
     "name": "stderr",
     "output_type": "stream",
     "text": [
      "100%|██████████| 3125/3125 [00:33<00:00, 94.34it/s] \n",
      "100%|██████████| 625/625 [00:00<00:00, 823.04it/s]\n",
      "  0%|          | 11/3125 [00:00<00:30, 102.78it/s]"
     ]
    },
    {
     "name": "stdout",
     "output_type": "stream",
     "text": [
      "--------------------------------------------------------------\n",
      "Epoch: 52\n",
      "--------------------------------------------------------------\n",
      "Trainig loss: 0.8791765683698655\n",
      "--------------------------------------------------------------\n",
      "Accuracy of the network on the train images: 69.49 percent (34745/50000)\n",
      "--------------------------------------------------------------\n",
      "Accuracy of the network on the test images: 58.72 percent (367/625)\n",
      "--------------------------------------------------------------\n"
     ]
    },
    {
     "name": "stderr",
     "output_type": "stream",
     "text": [
      "100%|██████████| 3125/3125 [00:29<00:00, 104.18it/s]\n",
      "100%|██████████| 625/625 [00:00<00:00, 943.96it/s]\n",
      "  0%|          | 11/3125 [00:00<00:29, 106.38it/s]"
     ]
    },
    {
     "name": "stdout",
     "output_type": "stream",
     "text": [
      "--------------------------------------------------------------\n",
      "Epoch: 53\n",
      "--------------------------------------------------------------\n",
      "Trainig loss: 0.8781814491558075\n",
      "--------------------------------------------------------------\n",
      "Accuracy of the network on the train images: 69.58 percent (34790/50000)\n",
      "--------------------------------------------------------------\n",
      "Accuracy of the network on the test images: 58.72 percent (367/625)\n",
      "--------------------------------------------------------------\n"
     ]
    },
    {
     "name": "stderr",
     "output_type": "stream",
     "text": [
      "100%|██████████| 3125/3125 [00:27<00:00, 111.62it/s]\n",
      "100%|██████████| 625/625 [00:00<00:00, 829.69it/s]\n",
      "  0%|          | 13/3125 [00:00<00:25, 122.13it/s]"
     ]
    },
    {
     "name": "stdout",
     "output_type": "stream",
     "text": [
      "--------------------------------------------------------------\n",
      "Epoch: 54\n",
      "--------------------------------------------------------------\n",
      "Trainig loss: 0.8772301135587692\n",
      "--------------------------------------------------------------\n",
      "Accuracy of the network on the train images: 69.582 percent (34791/50000)\n",
      "--------------------------------------------------------------\n",
      "Accuracy of the network on the test images: 59.04 percent (369/625)\n",
      "--------------------------------------------------------------\n"
     ]
    },
    {
     "name": "stderr",
     "output_type": "stream",
     "text": [
      "100%|██████████| 3125/3125 [00:28<00:00, 108.57it/s]\n",
      "100%|██████████| 625/625 [00:00<00:00, 810.35it/s]\n",
      "  0%|          | 11/3125 [00:00<00:30, 101.53it/s]"
     ]
    },
    {
     "name": "stdout",
     "output_type": "stream",
     "text": [
      "--------------------------------------------------------------\n",
      "Epoch: 55\n",
      "--------------------------------------------------------------\n",
      "Trainig loss: 0.8761860302209854\n",
      "--------------------------------------------------------------\n",
      "Accuracy of the network on the train images: 69.52 percent (34760/50000)\n",
      "--------------------------------------------------------------\n",
      "Accuracy of the network on the test images: 59.04 percent (369/625)\n",
      "--------------------------------------------------------------\n"
     ]
    },
    {
     "name": "stderr",
     "output_type": "stream",
     "text": [
      "100%|██████████| 3125/3125 [00:29<00:00, 105.23it/s]\n",
      "100%|██████████| 625/625 [00:00<00:00, 827.94it/s]\n",
      "  0%|          | 12/3125 [00:00<00:28, 110.69it/s]"
     ]
    },
    {
     "name": "stdout",
     "output_type": "stream",
     "text": [
      "--------------------------------------------------------------\n",
      "Epoch: 56\n",
      "--------------------------------------------------------------\n",
      "Trainig loss: 0.8751538533020019\n",
      "--------------------------------------------------------------\n",
      "Accuracy of the network on the train images: 69.616 percent (34808/50000)\n",
      "--------------------------------------------------------------\n",
      "Accuracy of the network on the test images: 58.88 percent (368/625)\n",
      "--------------------------------------------------------------\n"
     ]
    },
    {
     "name": "stderr",
     "output_type": "stream",
     "text": [
      "100%|██████████| 3125/3125 [00:32<00:00, 97.07it/s] \n",
      "100%|██████████| 625/625 [00:00<00:00, 793.12it/s]\n",
      "  0%|          | 11/3125 [00:00<00:30, 101.35it/s]"
     ]
    },
    {
     "name": "stdout",
     "output_type": "stream",
     "text": [
      "--------------------------------------------------------------\n",
      "Epoch: 57\n",
      "--------------------------------------------------------------\n",
      "Trainig loss: 0.8741978205394745\n",
      "--------------------------------------------------------------\n",
      "Accuracy of the network on the train images: 69.598 percent (34799/50000)\n",
      "--------------------------------------------------------------\n",
      "Accuracy of the network on the test images: 59.36 percent (371/625)\n",
      "--------------------------------------------------------------\n"
     ]
    },
    {
     "name": "stderr",
     "output_type": "stream",
     "text": [
      "100%|██████████| 3125/3125 [00:30<00:00, 104.78it/s]\n",
      "100%|██████████| 625/625 [00:00<00:00, 828.81it/s]\n",
      "  0%|          | 11/3125 [00:00<00:29, 105.25it/s]"
     ]
    },
    {
     "name": "stdout",
     "output_type": "stream",
     "text": [
      "--------------------------------------------------------------\n",
      "Epoch: 58\n",
      "--------------------------------------------------------------\n",
      "Trainig loss: 0.8733405153369903\n",
      "--------------------------------------------------------------\n",
      "Accuracy of the network on the train images: 69.654 percent (34827/50000)\n",
      "--------------------------------------------------------------\n",
      "Accuracy of the network on the test images: 58.72 percent (367/625)\n",
      "--------------------------------------------------------------\n"
     ]
    },
    {
     "name": "stderr",
     "output_type": "stream",
     "text": [
      "100%|██████████| 3125/3125 [00:30<00:00, 104.37it/s]\n",
      "100%|██████████| 625/625 [00:00<00:00, 798.99it/s]\n",
      "  0%|          | 11/3125 [00:00<00:29, 106.11it/s]"
     ]
    },
    {
     "name": "stdout",
     "output_type": "stream",
     "text": [
      "--------------------------------------------------------------\n",
      "Epoch: 59\n",
      "--------------------------------------------------------------\n",
      "Trainig loss: 0.8724071176242828\n",
      "--------------------------------------------------------------\n",
      "Accuracy of the network on the train images: 69.624 percent (34812/50000)\n",
      "--------------------------------------------------------------\n",
      "Accuracy of the network on the test images: 59.2 percent (370/625)\n",
      "--------------------------------------------------------------\n"
     ]
    },
    {
     "name": "stderr",
     "output_type": "stream",
     "text": [
      "100%|██████████| 3125/3125 [00:32<00:00, 97.40it/s] \n",
      "100%|██████████| 625/625 [00:00<00:00, 851.26it/s]\n",
      "  0%|          | 11/3125 [00:00<00:30, 100.59it/s]"
     ]
    },
    {
     "name": "stdout",
     "output_type": "stream",
     "text": [
      "--------------------------------------------------------------\n",
      "Epoch: 60\n",
      "--------------------------------------------------------------\n",
      "Trainig loss: 0.871393780965805\n",
      "--------------------------------------------------------------\n",
      "Accuracy of the network on the train images: 69.624 percent (34812/50000)\n",
      "--------------------------------------------------------------\n",
      "Accuracy of the network on the test images: 58.72 percent (367/625)\n",
      "--------------------------------------------------------------\n"
     ]
    },
    {
     "name": "stderr",
     "output_type": "stream",
     "text": [
      "100%|██████████| 3125/3125 [00:28<00:00, 108.91it/s]\n",
      "100%|██████████| 625/625 [00:00<00:00, 825.38it/s]\n",
      "  0%|          | 11/3125 [00:00<00:29, 105.48it/s]"
     ]
    },
    {
     "name": "stdout",
     "output_type": "stream",
     "text": [
      "--------------------------------------------------------------\n",
      "Epoch: 61\n",
      "--------------------------------------------------------------\n",
      "Trainig loss: 0.8705801904296875\n",
      "--------------------------------------------------------------\n",
      "Accuracy of the network on the train images: 69.67 percent (34835/50000)\n",
      "--------------------------------------------------------------\n",
      "Accuracy of the network on the test images: 58.72 percent (367/625)\n",
      "--------------------------------------------------------------\n"
     ]
    },
    {
     "name": "stderr",
     "output_type": "stream",
     "text": [
      "100%|██████████| 3125/3125 [00:29<00:00, 104.74it/s]\n",
      "100%|██████████| 625/625 [00:00<00:00, 707.33it/s]\n",
      "  0%|          | 9/3125 [00:00<00:35, 88.22it/s]"
     ]
    },
    {
     "name": "stdout",
     "output_type": "stream",
     "text": [
      "--------------------------------------------------------------\n",
      "Epoch: 62\n",
      "--------------------------------------------------------------\n",
      "Trainig loss: 0.8697724076271057\n",
      "--------------------------------------------------------------\n",
      "Accuracy of the network on the train images: 69.688 percent (34844/50000)\n",
      "--------------------------------------------------------------\n",
      "Accuracy of the network on the test images: 57.92 percent (362/625)\n",
      "--------------------------------------------------------------\n"
     ]
    },
    {
     "name": "stderr",
     "output_type": "stream",
     "text": [
      "100%|██████████| 3125/3125 [00:30<00:00, 102.77it/s]\n",
      "100%|██████████| 625/625 [00:00<00:00, 1037.72it/s]\n",
      "  0%|          | 12/3125 [00:00<00:28, 110.81it/s]"
     ]
    },
    {
     "name": "stdout",
     "output_type": "stream",
     "text": [
      "--------------------------------------------------------------\n",
      "Epoch: 63\n",
      "--------------------------------------------------------------\n",
      "Trainig loss: 0.8689576652956009\n",
      "--------------------------------------------------------------\n",
      "Accuracy of the network on the train images: 69.71 percent (34855/50000)\n",
      "--------------------------------------------------------------\n",
      "Accuracy of the network on the test images: 58.08 percent (363/625)\n",
      "--------------------------------------------------------------\n"
     ]
    },
    {
     "name": "stderr",
     "output_type": "stream",
     "text": [
      "100%|██████████| 3125/3125 [00:29<00:00, 104.07it/s]\n",
      "100%|██████████| 625/625 [00:00<00:00, 823.53it/s]\n",
      "  0%|          | 11/3125 [00:00<00:30, 101.59it/s]"
     ]
    },
    {
     "name": "stdout",
     "output_type": "stream",
     "text": [
      "--------------------------------------------------------------\n",
      "Epoch: 64\n",
      "--------------------------------------------------------------\n",
      "Trainig loss: 0.8680376829004288\n",
      "--------------------------------------------------------------\n",
      "Accuracy of the network on the train images: 69.686 percent (34843/50000)\n",
      "--------------------------------------------------------------\n",
      "Accuracy of the network on the test images: 57.6 percent (360/625)\n",
      "--------------------------------------------------------------\n"
     ]
    },
    {
     "name": "stderr",
     "output_type": "stream",
     "text": [
      "100%|██████████| 3125/3125 [00:29<00:00, 105.27it/s]\n",
      "100%|██████████| 625/625 [00:00<00:00, 788.82it/s]\n",
      "  0%|          | 11/3125 [00:00<00:28, 109.99it/s]"
     ]
    },
    {
     "name": "stdout",
     "output_type": "stream",
     "text": [
      "--------------------------------------------------------------\n",
      "Epoch: 65\n",
      "--------------------------------------------------------------\n",
      "Trainig loss: 0.8671923846292495\n",
      "--------------------------------------------------------------\n",
      "Accuracy of the network on the train images: 69.754 percent (34877/50000)\n",
      "--------------------------------------------------------------\n",
      "Accuracy of the network on the test images: 57.6 percent (360/625)\n",
      "--------------------------------------------------------------\n"
     ]
    },
    {
     "name": "stderr",
     "output_type": "stream",
     "text": [
      "100%|██████████| 3125/3125 [00:30<00:00, 104.16it/s]\n",
      "100%|██████████| 625/625 [00:00<00:00, 799.80it/s]\n",
      "  0%|          | 11/3125 [00:00<00:29, 104.18it/s]"
     ]
    },
    {
     "name": "stdout",
     "output_type": "stream",
     "text": [
      "--------------------------------------------------------------\n",
      "Epoch: 66\n",
      "--------------------------------------------------------------\n",
      "Trainig loss: 0.8664178802394867\n",
      "--------------------------------------------------------------\n",
      "Accuracy of the network on the train images: 69.748 percent (34874/50000)\n",
      "--------------------------------------------------------------\n",
      "Accuracy of the network on the test images: 57.76 percent (361/625)\n",
      "--------------------------------------------------------------\n"
     ]
    },
    {
     "name": "stderr",
     "output_type": "stream",
     "text": [
      "100%|██████████| 3125/3125 [00:28<00:00, 109.30it/s]\n",
      "100%|██████████| 625/625 [00:00<00:00, 827.75it/s]\n",
      "  0%|          | 11/3125 [00:00<00:29, 105.09it/s]"
     ]
    },
    {
     "name": "stdout",
     "output_type": "stream",
     "text": [
      "--------------------------------------------------------------\n",
      "Epoch: 67\n",
      "--------------------------------------------------------------\n",
      "Trainig loss: 0.8655222460269928\n",
      "--------------------------------------------------------------\n",
      "Accuracy of the network on the train images: 69.732 percent (34866/50000)\n",
      "--------------------------------------------------------------\n",
      "Accuracy of the network on the test images: 58.08 percent (363/625)\n",
      "--------------------------------------------------------------\n"
     ]
    },
    {
     "name": "stderr",
     "output_type": "stream",
     "text": [
      "100%|██████████| 3125/3125 [00:28<00:00, 111.50it/s]\n",
      "100%|██████████| 625/625 [00:00<00:00, 804.74it/s]\n",
      "  0%|          | 11/3125 [00:00<00:30, 101.64it/s]"
     ]
    },
    {
     "name": "stdout",
     "output_type": "stream",
     "text": [
      "--------------------------------------------------------------\n",
      "Epoch: 68\n",
      "--------------------------------------------------------------\n",
      "Trainig loss: 0.8649324916267395\n",
      "--------------------------------------------------------------\n",
      "Accuracy of the network on the train images: 69.77 percent (34885/50000)\n",
      "--------------------------------------------------------------\n",
      "Accuracy of the network on the test images: 57.92 percent (362/625)\n",
      "--------------------------------------------------------------\n"
     ]
    },
    {
     "name": "stderr",
     "output_type": "stream",
     "text": [
      "100%|██████████| 3125/3125 [00:29<00:00, 104.35it/s]\n",
      "100%|██████████| 625/625 [00:00<00:00, 758.33it/s]\n",
      "  0%|          | 11/3125 [00:00<00:30, 102.40it/s]"
     ]
    },
    {
     "name": "stdout",
     "output_type": "stream",
     "text": [
      "--------------------------------------------------------------\n",
      "Epoch: 69\n",
      "--------------------------------------------------------------\n",
      "Trainig loss: 0.8641468102836609\n",
      "--------------------------------------------------------------\n",
      "Accuracy of the network on the train images: 69.786 percent (34893/50000)\n",
      "--------------------------------------------------------------\n",
      "Accuracy of the network on the test images: 58.4 percent (365/625)\n",
      "--------------------------------------------------------------\n"
     ]
    },
    {
     "name": "stderr",
     "output_type": "stream",
     "text": [
      "100%|██████████| 3125/3125 [00:29<00:00, 104.36it/s]\n",
      "100%|██████████| 625/625 [00:00<00:00, 760.38it/s]\n",
      "  0%|          | 9/3125 [00:00<00:36, 85.79it/s]"
     ]
    },
    {
     "name": "stdout",
     "output_type": "stream",
     "text": [
      "--------------------------------------------------------------\n",
      "Epoch: 70\n",
      "--------------------------------------------------------------\n",
      "Trainig loss: 0.863513150215149\n",
      "--------------------------------------------------------------\n",
      "Accuracy of the network on the train images: 69.826 percent (34913/50000)\n",
      "--------------------------------------------------------------\n",
      "Accuracy of the network on the test images: 57.92 percent (362/625)\n",
      "--------------------------------------------------------------\n"
     ]
    },
    {
     "name": "stderr",
     "output_type": "stream",
     "text": [
      "100%|██████████| 3125/3125 [00:29<00:00, 105.21it/s]\n",
      "100%|██████████| 625/625 [00:00<00:00, 791.51it/s]\n",
      "  0%|          | 11/3125 [00:00<00:29, 103.83it/s]"
     ]
    },
    {
     "name": "stdout",
     "output_type": "stream",
     "text": [
      "--------------------------------------------------------------\n",
      "Epoch: 71\n",
      "--------------------------------------------------------------\n",
      "Trainig loss: 0.8627299494075775\n",
      "--------------------------------------------------------------\n",
      "Accuracy of the network on the train images: 69.856 percent (34928/50000)\n",
      "--------------------------------------------------------------\n",
      "Accuracy of the network on the test images: 58.24 percent (364/625)\n",
      "--------------------------------------------------------------\n"
     ]
    },
    {
     "name": "stderr",
     "output_type": "stream",
     "text": [
      "100%|██████████| 3125/3125 [00:30<00:00, 103.29it/s]\n",
      "100%|██████████| 625/625 [00:00<00:00, 722.22it/s]\n",
      "  0%|          | 10/3125 [00:00<00:31, 98.19it/s]"
     ]
    },
    {
     "name": "stdout",
     "output_type": "stream",
     "text": [
      "--------------------------------------------------------------\n",
      "Epoch: 72\n",
      "--------------------------------------------------------------\n",
      "Trainig loss: 0.8620873240089416\n",
      "--------------------------------------------------------------\n",
      "Accuracy of the network on the train images: 69.884 percent (34942/50000)\n",
      "--------------------------------------------------------------\n",
      "Accuracy of the network on the test images: 58.24 percent (364/625)\n",
      "--------------------------------------------------------------\n"
     ]
    },
    {
     "name": "stderr",
     "output_type": "stream",
     "text": [
      "100%|██████████| 3125/3125 [00:30<00:00, 103.62it/s]\n",
      "100%|██████████| 625/625 [00:00<00:00, 826.19it/s]\n",
      "  0%|          | 11/3125 [00:00<00:29, 106.76it/s]"
     ]
    },
    {
     "name": "stdout",
     "output_type": "stream",
     "text": [
      "--------------------------------------------------------------\n",
      "Epoch: 73\n",
      "--------------------------------------------------------------\n",
      "Trainig loss: 0.8615550918388367\n",
      "--------------------------------------------------------------\n",
      "Accuracy of the network on the train images: 69.93 percent (34965/50000)\n",
      "--------------------------------------------------------------\n",
      "Accuracy of the network on the test images: 58.72 percent (367/625)\n",
      "--------------------------------------------------------------\n"
     ]
    },
    {
     "name": "stderr",
     "output_type": "stream",
     "text": [
      "100%|██████████| 3125/3125 [00:30<00:00, 103.51it/s]\n",
      "100%|██████████| 625/625 [00:00<00:00, 780.68it/s]\n",
      "  0%|          | 12/3125 [00:00<00:27, 112.99it/s]"
     ]
    },
    {
     "name": "stdout",
     "output_type": "stream",
     "text": [
      "--------------------------------------------------------------\n",
      "Epoch: 74\n",
      "--------------------------------------------------------------\n",
      "Trainig loss: 0.8607934540843963\n",
      "--------------------------------------------------------------\n",
      "Accuracy of the network on the train images: 69.93 percent (34965/50000)\n",
      "--------------------------------------------------------------\n",
      "Accuracy of the network on the test images: 58.56 percent (366/625)\n",
      "--------------------------------------------------------------\n"
     ]
    },
    {
     "name": "stderr",
     "output_type": "stream",
     "text": [
      "100%|██████████| 3125/3125 [00:31<00:00, 100.21it/s]\n",
      "100%|██████████| 625/625 [00:00<00:00, 821.10it/s]\n",
      "  0%|          | 12/3125 [00:00<00:27, 115.09it/s]"
     ]
    },
    {
     "name": "stdout",
     "output_type": "stream",
     "text": [
      "--------------------------------------------------------------\n",
      "Epoch: 75\n",
      "--------------------------------------------------------------\n",
      "Trainig loss: 0.8602736277770996\n",
      "--------------------------------------------------------------\n",
      "Accuracy of the network on the train images: 69.974 percent (34987/50000)\n",
      "--------------------------------------------------------------\n",
      "Accuracy of the network on the test images: 59.04 percent (369/625)\n",
      "--------------------------------------------------------------\n"
     ]
    },
    {
     "name": "stderr",
     "output_type": "stream",
     "text": [
      "100%|██████████| 3125/3125 [00:30<00:00, 102.55it/s]\n",
      "100%|██████████| 625/625 [00:00<00:00, 814.25it/s]\n",
      "  0%|          | 9/3125 [00:00<00:37, 83.85it/s]"
     ]
    },
    {
     "name": "stdout",
     "output_type": "stream",
     "text": [
      "--------------------------------------------------------------\n",
      "Epoch: 76\n",
      "--------------------------------------------------------------\n",
      "Trainig loss: 0.8596367516803741\n",
      "--------------------------------------------------------------\n",
      "Accuracy of the network on the train images: 70.044 percent (35022/50000)\n",
      "--------------------------------------------------------------\n",
      "Accuracy of the network on the test images: 59.52 percent (372/625)\n",
      "--------------------------------------------------------------\n"
     ]
    },
    {
     "name": "stderr",
     "output_type": "stream",
     "text": [
      "100%|██████████| 3125/3125 [00:29<00:00, 104.70it/s]\n",
      "100%|██████████| 625/625 [00:00<00:00, 829.97it/s]\n",
      "  0%|          | 10/3125 [00:00<00:33, 92.72it/s]"
     ]
    },
    {
     "name": "stdout",
     "output_type": "stream",
     "text": [
      "--------------------------------------------------------------\n",
      "Epoch: 77\n",
      "--------------------------------------------------------------\n",
      "Trainig loss: 0.8591630504512787\n",
      "--------------------------------------------------------------\n",
      "Accuracy of the network on the train images: 69.964 percent (34982/50000)\n",
      "--------------------------------------------------------------\n",
      "Accuracy of the network on the test images: 58.72 percent (367/625)\n",
      "--------------------------------------------------------------\n"
     ]
    },
    {
     "name": "stderr",
     "output_type": "stream",
     "text": [
      "100%|██████████| 3125/3125 [00:30<00:00, 102.06it/s]\n",
      "100%|██████████| 625/625 [00:00<00:00, 1030.62it/s]\n",
      "  0%|          | 10/3125 [00:00<00:33, 93.13it/s]"
     ]
    },
    {
     "name": "stdout",
     "output_type": "stream",
     "text": [
      "--------------------------------------------------------------\n",
      "Epoch: 78\n",
      "--------------------------------------------------------------\n",
      "Trainig loss: 0.8586258705711365\n",
      "--------------------------------------------------------------\n",
      "Accuracy of the network on the train images: 69.988 percent (34994/50000)\n",
      "--------------------------------------------------------------\n",
      "Accuracy of the network on the test images: 58.88 percent (368/625)\n",
      "--------------------------------------------------------------\n"
     ]
    },
    {
     "name": "stderr",
     "output_type": "stream",
     "text": [
      "100%|██████████| 3125/3125 [00:30<00:00, 102.41it/s]\n",
      "100%|██████████| 625/625 [00:00<00:00, 804.37it/s]\n",
      "  0%|          | 9/3125 [00:00<00:35, 86.62it/s]"
     ]
    },
    {
     "name": "stdout",
     "output_type": "stream",
     "text": [
      "--------------------------------------------------------------\n",
      "Epoch: 79\n",
      "--------------------------------------------------------------\n",
      "Trainig loss: 0.858095303850174\n",
      "--------------------------------------------------------------\n",
      "Accuracy of the network on the train images: 70.094 percent (35047/50000)\n",
      "--------------------------------------------------------------\n",
      "Accuracy of the network on the test images: 59.2 percent (370/625)\n",
      "--------------------------------------------------------------\n"
     ]
    },
    {
     "name": "stderr",
     "output_type": "stream",
     "text": [
      "100%|██████████| 3125/3125 [00:28<00:00, 107.78it/s]\n",
      "100%|██████████| 625/625 [00:00<00:00, 828.55it/s]"
     ]
    },
    {
     "name": "stdout",
     "output_type": "stream",
     "text": [
      "--------------------------------------------------------------\n",
      "Epoch: 80\n",
      "--------------------------------------------------------------\n",
      "Trainig loss: 0.8576714204502106\n",
      "--------------------------------------------------------------\n",
      "Accuracy of the network on the train images: 70.14 percent (35070/50000)\n",
      "--------------------------------------------------------------\n",
      "Accuracy of the network on the test images: 59.36 percent (371/625)\n",
      "--------------------------------------------------------------\n"
     ]
    },
    {
     "name": "stderr",
     "output_type": "stream",
     "text": [
      "\n"
     ]
    }
   ],
   "source": [
    "frequentist_train_acc = []\n",
    "frequentist_val_acc = []\n",
    "\n",
    "for epoch in range(1, num_epochs + 1):\n",
    "    # keep track of training and validation loss\n",
    "    train_loss = 0.0\n",
    "    valid_loss = 0.0\n",
    "\n",
    "    m_train = math.ceil(len(train_data) / batch_size)\n",
    "    m_test= math.ceil(len(test_data) / batch_size)\n",
    "\n",
    "    total = 0\n",
    "    correct = 0\n",
    "\n",
    "    for batch_idx, (data, target) in zip(tqdm(range(m_train)),(train_loader)):\n",
    "        model.train()\n",
    "        # move tensors to GPU if CUDA is available\n",
    "        if use_cuda:\n",
    "            data, target = data.cuda(), target.cuda()\n",
    "        optimizer.zero_grad()\n",
    "        # forward pass: compute predicted outputs by passing inputs to the model\n",
    "        output = model(data)\n",
    "\n",
    "        _, predicted = torch.max(output.data, 1)\n",
    "        total += target.size(0)\n",
    "        correct += (predicted == target).sum().item()\n",
    "\n",
    "        # calculate the batch loss\n",
    "        loss = criterion(output, target)\n",
    "        # backward pass: compute gradient of the loss with respect to model parameters\n",
    "        loss.backward()\n",
    "        # perform a single optimization step (parameter update)\n",
    "        optimizer.step()\n",
    "        # update training loss\n",
    "        train_loss += (loss.item() * data.size(0))\n",
    "\n",
    "    test_correct = 0\n",
    "    test_total = 0\n",
    "\n",
    "    with torch.no_grad():\n",
    "        model.eval()\n",
    "        for i, (test_input, test_target) in zip(tqdm(range(m_test)), test_loader):\n",
    "        # for (test_data, test_target) in test_loader:\n",
    "            test_input, test_target = test_input.cuda(), test_target.cuda()\n",
    "            test_outputs= model(test_input)\n",
    "            _, test_predicted = torch.max(test_outputs.data, 1)\n",
    "            test_total += test_target.size(0)\n",
    "            test_correct += (test_predicted == test_target).sum().item()\n",
    "\n",
    "    train_loss = train_loss / len(train_loader.dataset)\n",
    "\n",
    "    frequentist_train_acc.append(correct / total)\n",
    "    frequentist_val_acc.append(test_correct/ test_total)\n",
    "        \n",
    "    print('--------------------------------------------------------------')\n",
    "    print('Epoch:', epoch)\n",
    "    print('--------------------------------------------------------------')\n",
    "    print('Trainig loss:', train_loss)\n",
    "    print('--------------------------------------------------------------')\n",
    "    print('Accuracy of the network on the train images: {} percent ({}/{})'.format (\n",
    "            100 * correct / total, correct, total))\n",
    "    print('--------------------------------------------------------------')\n",
    "\n",
    "    print('Accuracy of the network on the test images: {} percent ({}/{})'.format (\n",
    "            100 * test_correct/ test_total, test_correct,test_total))\n",
    "    print('--------------------------------------------------------------')\n"
   ]
  },
  {
   "cell_type": "code",
   "execution_count": 10,
   "metadata": {},
   "outputs": [],
   "source": [
    "f = plt.figure(0)\n",
    "plt.plot(range(len(frequentist_train_acc)),frequentist_train_acc)\n",
    "plt.plot(range(len(frequentist_val_acc)),frequentist_val_acc)\n",
    "plt.title('Frequentist NN')\n",
    "plt.xlabel('# Epochs')\n",
    "plt.ylabel('Accuracy (%)')\n",
    "plt.ylim(0.2,1)\n",
    "plt.yticks((np.arange(0.2,1.01,0.2)))\n",
    "plt.xticks((np.arange(0,len(train_value)+0.01,30)))\n",
    "plt.legend(('Train','Val'))\n",
    "f.savefig('freq_acc.pdf')"
   ]
  },
  {
   "cell_type": "code",
   "execution_count": 22,
   "metadata": {
    "scrolled": true
   },
   "outputs": [
    {
     "name": "stderr",
     "output_type": "stream",
     "text": [
      "100%|██████████| 10000/10000 [02:19<00:00, 71.51it/s]\n",
      "  0%|          | 8/10000 [00:00<02:11, 76.03it/s]"
     ]
    },
    {
     "name": "stdout",
     "output_type": "stream",
     "text": [
      "Epsilon: 0.05\tEntropy = 1.2145594358444214\n"
     ]
    },
    {
     "name": "stderr",
     "output_type": "stream",
     "text": [
      "100%|██████████| 10000/10000 [02:17<00:00, 72.99it/s]\n",
      "  0%|          | 9/10000 [00:00<02:02, 81.46it/s]"
     ]
    },
    {
     "name": "stdout",
     "output_type": "stream",
     "text": [
      "Epsilon: 0.1\tEntropy = 1.1499289274215698\n"
     ]
    },
    {
     "name": "stderr",
     "output_type": "stream",
     "text": [
      "100%|██████████| 10000/10000 [02:14<00:00, 74.54it/s]\n",
      "  0%|          | 8/10000 [00:00<02:13, 74.69it/s]"
     ]
    },
    {
     "name": "stdout",
     "output_type": "stream",
     "text": [
      "Epsilon: 0.15\tEntropy = 1.0788229703903198\n"
     ]
    },
    {
     "name": "stderr",
     "output_type": "stream",
     "text": [
      "100%|██████████| 10000/10000 [02:16<00:00, 73.34it/s]\n",
      "  0%|          | 8/10000 [00:00<02:17, 72.52it/s]"
     ]
    },
    {
     "name": "stdout",
     "output_type": "stream",
     "text": [
      "Epsilon: 0.2\tEntropy = 0.9979851841926575\n"
     ]
    },
    {
     "name": "stderr",
     "output_type": "stream",
     "text": [
      "100%|██████████| 10000/10000 [02:10<00:00, 76.53it/s]\n",
      "  0%|          | 8/10000 [00:00<02:05, 79.30it/s]"
     ]
    },
    {
     "name": "stdout",
     "output_type": "stream",
     "text": [
      "Epsilon: 0.25\tEntropy = 0.9058553576469421\n"
     ]
    },
    {
     "name": "stderr",
     "output_type": "stream",
     "text": [
      "100%|██████████| 10000/10000 [02:13<00:00, 75.07it/s]"
     ]
    },
    {
     "name": "stdout",
     "output_type": "stream",
     "text": [
      "Epsilon: 0.3\tEntropy = 0.8086756467819214\n"
     ]
    },
    {
     "name": "stderr",
     "output_type": "stream",
     "text": [
      "\n"
     ]
    },
    {
     "ename": "NameError",
     "evalue": "name 'fig' is not defined",
     "output_type": "error",
     "traceback": [
      "\u001b[0;31m---------------------------------------------------------------------------\u001b[0m",
      "\u001b[0;31mNameError\u001b[0m                                 Traceback (most recent call last)",
      "\u001b[0;32m<ipython-input-22-a8065238b028>\u001b[0m in \u001b[0;36m<module>\u001b[0;34m\u001b[0m\n\u001b[1;32m     12\u001b[0m     \u001b[0mentropies\u001b[0m\u001b[0;34m.\u001b[0m\u001b[0mappend\u001b[0m\u001b[0;34m(\u001b[0m\u001b[0mentropy\u001b[0m\u001b[0;34m)\u001b[0m\u001b[0;34m\u001b[0m\u001b[0;34m\u001b[0m\u001b[0m\n\u001b[1;32m     13\u001b[0m \u001b[0;34m\u001b[0m\u001b[0m\n\u001b[0;32m---> 14\u001b[0;31m \u001b[0max\u001b[0m \u001b[0;34m=\u001b[0m \u001b[0mfig\u001b[0m\u001b[0;34m.\u001b[0m\u001b[0madd_subplot\u001b[0m\u001b[0;34m(\u001b[0m\u001b[0;34m)\u001b[0m\u001b[0;34m\u001b[0m\u001b[0;34m\u001b[0m\u001b[0m\n\u001b[0m\u001b[1;32m     15\u001b[0m \u001b[0mplt\u001b[0m\u001b[0;34m.\u001b[0m\u001b[0mplot\u001b[0m\u001b[0;34m(\u001b[0m\u001b[0mepsilons\u001b[0m\u001b[0;34m,\u001b[0m \u001b[0mentropies\u001b[0m\u001b[0;34m,\u001b[0m \u001b[0;34m\"*-\"\u001b[0m\u001b[0;34m)\u001b[0m\u001b[0;34m\u001b[0m\u001b[0;34m\u001b[0m\u001b[0m\n\u001b[1;32m     16\u001b[0m \u001b[0mplt\u001b[0m\u001b[0;34m.\u001b[0m\u001b[0myticks\u001b[0m\u001b[0;34m(\u001b[0m\u001b[0mnp\u001b[0m\u001b[0;34m.\u001b[0m\u001b[0mlinspace\u001b[0m\u001b[0;34m(\u001b[0m\u001b[0;36m0\u001b[0m\u001b[0;34m,\u001b[0m \u001b[0mmax_entropy\u001b[0m\u001b[0;34m,\u001b[0m \u001b[0;36m5\u001b[0m\u001b[0;34m)\u001b[0m\u001b[0;34m)\u001b[0m\u001b[0;34m\u001b[0m\u001b[0;34m\u001b[0m\u001b[0m\n",
      "\u001b[0;31mNameError\u001b[0m: name 'fig' is not defined"
     ]
    }
   ],
   "source": [
    "accuracies = []\n",
    "examples = []\n",
    "entropies = []\n",
    "\n",
    "epsilons = [.05, .1, .15, .2, .25, .3]\n",
    "#epsilons = [0, .001, .005, .01]\n",
    "num_samples = 1\n",
    "\n",
    "# Run test for each epsilon\n",
    "for eps in epsilons:\n",
    "    entropy, max_entropy = entropy_vs_eps(model, device, test_loader, eps, num_samples)\n",
    "    entropies.append(entropy)\n",
    "\n",
    "fig = plt.figure()\n",
    "ax = fig.add_subplot()\n",
    "plt.plot(epsilons, entropies, \"*-\")\n",
    "plt.yticks(np.linspace(0, max_entropy, 5))\n",
    "plt.xticks(np.arange(0, .35, step=0.05))\n",
    "plt.title(\"Entropy vs Epsilon\")\n",
    "plt.xlabel(\"Epsilon\")\n",
    "plt.ylabel(\"Entropy\")\n",
    "plt.show()"
   ]
  },
  {
   "cell_type": "code",
   "execution_count": 52,
   "metadata": {},
   "outputs": [
    {
     "name": "stderr",
     "output_type": "stream",
     "text": [
      "\n",
      "  0%|          | 0/10000 [00:00<?, ?it/s]\u001b[A\n",
      "  0%|          | 7/10000 [00:00<02:25, 68.76it/s]\u001b[A\n",
      "  0%|          | 14/10000 [00:00<02:24, 69.06it/s]\u001b[A\n",
      "  0%|          | 21/10000 [00:00<02:23, 69.32it/s]\u001b[A\n",
      "  0%|          | 29/10000 [00:00<02:22, 69.76it/s]\u001b[A\n",
      "  0%|          | 36/10000 [00:00<02:23, 69.67it/s]\u001b[A\n",
      "  0%|          | 43/10000 [00:00<02:22, 69.75it/s]\u001b[A\n",
      "  1%|          | 51/10000 [00:00<02:20, 70.59it/s]\u001b[A\n",
      "  1%|          | 58/10000 [00:00<02:32, 65.06it/s]\u001b[A\n",
      "  1%|          | 65/10000 [00:00<02:29, 66.44it/s]\u001b[A\n",
      "  1%|          | 73/10000 [00:01<02:27, 67.51it/s]\u001b[A\n",
      "  1%|          | 81/10000 [00:01<02:23, 69.28it/s]\u001b[A\n",
      "  1%|          | 89/10000 [00:01<02:19, 71.15it/s]\u001b[A\n",
      "  1%|          | 97/10000 [00:01<02:16, 72.76it/s]\u001b[A\n",
      "  1%|          | 105/10000 [00:01<02:14, 73.67it/s]\u001b[A\n",
      "  1%|          | 113/10000 [00:01<02:14, 73.58it/s]\u001b[A\n",
      "  1%|          | 121/10000 [00:01<02:15, 73.04it/s]\u001b[A\n",
      "  1%|▏         | 129/10000 [00:01<02:13, 73.98it/s]\u001b[A\n",
      "  1%|▏         | 137/10000 [00:01<02:11, 74.84it/s]\u001b[A\n",
      "  1%|▏         | 145/10000 [00:02<02:11, 74.92it/s]\u001b[A\n",
      "  2%|▏         | 153/10000 [00:02<02:11, 74.61it/s]\u001b[A\n",
      "  2%|▏         | 161/10000 [00:02<02:12, 74.32it/s]\u001b[A\n",
      "  2%|▏         | 169/10000 [00:02<02:12, 74.42it/s]\u001b[A\n",
      "  2%|▏         | 177/10000 [00:02<02:12, 74.02it/s]\u001b[A\n",
      "  2%|▏         | 185/10000 [00:02<02:14, 72.99it/s]\u001b[A\n",
      "  2%|▏         | 193/10000 [00:02<02:14, 73.10it/s]\u001b[A\n",
      "  2%|▏         | 201/10000 [00:02<02:13, 73.21it/s]\u001b[A\n",
      "  2%|▏         | 209/10000 [00:02<02:14, 72.91it/s]\u001b[A\n",
      "  2%|▏         | 217/10000 [00:03<02:15, 72.18it/s]\u001b[A\n",
      "  2%|▏         | 225/10000 [00:03<02:16, 71.72it/s]\u001b[A\n",
      "  2%|▏         | 233/10000 [00:03<02:15, 72.22it/s]\u001b[A"
     ]
    },
    {
     "ename": "KeyboardInterrupt",
     "evalue": "",
     "output_type": "error",
     "traceback": [
      "\u001b[0;31m---------------------------------------------------------------------------\u001b[0m",
      "\u001b[0;31mKeyboardInterrupt\u001b[0m                         Traceback (most recent call last)",
      "\u001b[0;32m<ipython-input-52-bb4d889b5cde>\u001b[0m in \u001b[0;36m<module>\u001b[0;34m\u001b[0m\n\u001b[1;32m      8\u001b[0m \u001b[0;31m# Run test for each epsilon\u001b[0m\u001b[0;34m\u001b[0m\u001b[0;34m\u001b[0m\u001b[0;34m\u001b[0m\u001b[0m\n\u001b[1;32m      9\u001b[0m \u001b[0;32mfor\u001b[0m \u001b[0meps\u001b[0m \u001b[0;32min\u001b[0m \u001b[0mepsilons\u001b[0m\u001b[0;34m:\u001b[0m\u001b[0;34m\u001b[0m\u001b[0;34m\u001b[0m\u001b[0m\n\u001b[0;32m---> 10\u001b[0;31m     \u001b[0macc\u001b[0m\u001b[0;34m,\u001b[0m \u001b[0mex\u001b[0m \u001b[0;34m=\u001b[0m \u001b[0mentropy_vs_eps\u001b[0m\u001b[0;34m(\u001b[0m\u001b[0mmodel\u001b[0m\u001b[0;34m,\u001b[0m \u001b[0mdevice\u001b[0m\u001b[0;34m,\u001b[0m \u001b[0mtest_loader\u001b[0m\u001b[0;34m,\u001b[0m \u001b[0meps\u001b[0m\u001b[0;34m,\u001b[0m \u001b[0mnum_samples\u001b[0m\u001b[0;34m)\u001b[0m\u001b[0;34m\u001b[0m\u001b[0;34m\u001b[0m\u001b[0m\n\u001b[0m\u001b[1;32m     11\u001b[0m     \u001b[0maccuracies\u001b[0m\u001b[0;34m.\u001b[0m\u001b[0mappend\u001b[0m\u001b[0;34m(\u001b[0m\u001b[0maccuracies\u001b[0m\u001b[0;34m)\u001b[0m\u001b[0;34m\u001b[0m\u001b[0;34m\u001b[0m\u001b[0m\n\u001b[1;32m     12\u001b[0m     \u001b[0mexamples\u001b[0m\u001b[0;34m.\u001b[0m\u001b[0mappend\u001b[0m\u001b[0;34m(\u001b[0m\u001b[0mex\u001b[0m\u001b[0;34m)\u001b[0m\u001b[0;34m\u001b[0m\u001b[0;34m\u001b[0m\u001b[0m\n",
      "\u001b[0;32m<ipython-input-48-466585f55d6e>\u001b[0m in \u001b[0;36mentropy_vs_eps\u001b[0;34m(model, device, test_loader, epsilon, num_samples)\u001b[0m\n\u001b[1;32m     27\u001b[0m \u001b[0;34m\u001b[0m\u001b[0m\n\u001b[1;32m     28\u001b[0m         \u001b[0;31m# Calculate gradients of model in backward pass\u001b[0m\u001b[0;34m\u001b[0m\u001b[0;34m\u001b[0m\u001b[0;34m\u001b[0m\u001b[0m\n\u001b[0;32m---> 29\u001b[0;31m         \u001b[0mloss\u001b[0m\u001b[0;34m.\u001b[0m\u001b[0mbackward\u001b[0m\u001b[0;34m(\u001b[0m\u001b[0;34m)\u001b[0m\u001b[0;34m\u001b[0m\u001b[0;34m\u001b[0m\u001b[0m\n\u001b[0m\u001b[1;32m     30\u001b[0m \u001b[0;34m\u001b[0m\u001b[0m\n\u001b[1;32m     31\u001b[0m         \u001b[0;31m# Collect datagrad\u001b[0m\u001b[0;34m\u001b[0m\u001b[0;34m\u001b[0m\u001b[0;34m\u001b[0m\u001b[0m\n",
      "\u001b[0;32m/srv/blessing/python/lib/python3.7/site-packages/torch/tensor.py\u001b[0m in \u001b[0;36mbackward\u001b[0;34m(self, gradient, retain_graph, create_graph)\u001b[0m\n\u001b[1;32m    105\u001b[0m                 \u001b[0mproducts\u001b[0m\u001b[0;34m.\u001b[0m \u001b[0mDefaults\u001b[0m \u001b[0mto\u001b[0m\u001b[0;31m \u001b[0m\u001b[0;31m`\u001b[0m\u001b[0;31m`\u001b[0m\u001b[0;32mFalse\u001b[0m\u001b[0;31m`\u001b[0m\u001b[0;31m`\u001b[0m\u001b[0;34m.\u001b[0m\u001b[0;34m\u001b[0m\u001b[0;34m\u001b[0m\u001b[0m\n\u001b[1;32m    106\u001b[0m         \"\"\"\n\u001b[0;32m--> 107\u001b[0;31m         \u001b[0mtorch\u001b[0m\u001b[0;34m.\u001b[0m\u001b[0mautograd\u001b[0m\u001b[0;34m.\u001b[0m\u001b[0mbackward\u001b[0m\u001b[0;34m(\u001b[0m\u001b[0mself\u001b[0m\u001b[0;34m,\u001b[0m \u001b[0mgradient\u001b[0m\u001b[0;34m,\u001b[0m \u001b[0mretain_graph\u001b[0m\u001b[0;34m,\u001b[0m \u001b[0mcreate_graph\u001b[0m\u001b[0;34m)\u001b[0m\u001b[0;34m\u001b[0m\u001b[0;34m\u001b[0m\u001b[0m\n\u001b[0m\u001b[1;32m    108\u001b[0m \u001b[0;34m\u001b[0m\u001b[0m\n\u001b[1;32m    109\u001b[0m     \u001b[0;32mdef\u001b[0m \u001b[0mregister_hook\u001b[0m\u001b[0;34m(\u001b[0m\u001b[0mself\u001b[0m\u001b[0;34m,\u001b[0m \u001b[0mhook\u001b[0m\u001b[0;34m)\u001b[0m\u001b[0;34m:\u001b[0m\u001b[0;34m\u001b[0m\u001b[0;34m\u001b[0m\u001b[0m\n",
      "\u001b[0;32m/srv/blessing/python/lib/python3.7/site-packages/torch/autograd/__init__.py\u001b[0m in \u001b[0;36mbackward\u001b[0;34m(tensors, grad_tensors, retain_graph, create_graph, grad_variables)\u001b[0m\n\u001b[1;32m     91\u001b[0m     Variable._execution_engine.run_backward(\n\u001b[1;32m     92\u001b[0m         \u001b[0mtensors\u001b[0m\u001b[0;34m,\u001b[0m \u001b[0mgrad_tensors\u001b[0m\u001b[0;34m,\u001b[0m \u001b[0mretain_graph\u001b[0m\u001b[0;34m,\u001b[0m \u001b[0mcreate_graph\u001b[0m\u001b[0;34m,\u001b[0m\u001b[0;34m\u001b[0m\u001b[0;34m\u001b[0m\u001b[0m\n\u001b[0;32m---> 93\u001b[0;31m         allow_unreachable=True)  # allow_unreachable flag\n\u001b[0m\u001b[1;32m     94\u001b[0m \u001b[0;34m\u001b[0m\u001b[0m\n\u001b[1;32m     95\u001b[0m \u001b[0;34m\u001b[0m\u001b[0m\n",
      "\u001b[0;31mKeyboardInterrupt\u001b[0m: "
     ]
    }
   ],
   "source": [
    "accuracies = []\n",
    "examples = []\n",
    "\n",
    "epsilons = [.05, .1, .15, .2, .25, .3]\n",
    "#epsilons = [0, .001, .005, .01]\n",
    "num_samples = 10\n",
    "\n",
    "# Run test for each epsilon\n",
    "for eps in epsilons:\n",
    "    acc, ex = entropy_vs_eps(model, device, test_loader, eps, num_samples)\n",
    "    accuracies.append(accuracies)\n",
    "    examples.append(ex)\n",
    "    \n",
    "ax = fig.add_subplot()\n",
    "plt.plot(epsilons, accuracies, \"*-\")\n",
    "plt.yticks(np.arange(0, 1.1, step=0.1))\n",
    "plt.xticks(np.arange(0, .35, step=0.05))\n",
    "plt.title(\"Accuracy vs Epsilon\")\n",
    "plt.xlabel(\"Epsilon\")\n",
    "plt.ylabel(\"Accuracy\")\n",
    "plt.show()"
   ]
  },
  {
   "cell_type": "code",
   "execution_count": 30,
   "metadata": {},
   "outputs": [
    {
     "data": {
      "image/png": "[encoded data removed]",
      "text/plain": [
       "<Figure size 1080x360 with 2 Axes>"
      ]
     },
     "metadata": {
      "needs_background": "light"
     },
     "output_type": "display_data"
    }
   ],
   "source": [
    "# fig, ax_array = plt.subplots(num_epochs, int(len(var_list)/num_epochs))\n",
    "\n",
    "fig = plt.figure(figsize=(15,5))\n",
    "plt.subplots_adjust(hspace=2)\n",
    "\n",
    "ax = fig.add_subplot(1, 2, 1)\n",
    "plt.plot(epsilons, accuracies, \"*-\")\n",
    "plt.yticks(np.arange(0, 1.1, step=0.1))\n",
    "plt.xticks(np.arange(0, .35, step=0.05))\n",
    "plt.title(\"Accuracy vs Epsilon\")\n",
    "plt.xlabel(\"Epsilon\")\n",
    "plt.ylabel(\"Accuracy\")\n",
    "\n",
    "ax = fig.add_subplot(1, 2, 2)\n",
    "plt.plot(epsilons, entropies, \"*-\")\n",
    "plt.yticks(np.linspace(0, max_entropy, 5))\n",
    "plt.xticks(np.arange(0, .35, step=0.05))\n",
    "plt.title(\"Entropy vs Epsilon\")\n",
    "plt.xlabel(\"Epsilon\")\n",
    "plt.ylabel(\"Entropy\")\n",
    "plt.show()"
   ]
  },
  {
   "cell_type": "markdown",
   "metadata": {},
   "source": [
    "# Bayesian Neural Network"
   ]
  },
  {
   "cell_type": "code",
   "execution_count": 12,
   "metadata": {},
   "outputs": [],
   "source": [
    "bnn = CNN_lrt(10, 3, prior_var='adaptive', prior_var_factor=0.1)\n",
    "#net= CNN_lrt(10, 3)\n",
    "#net = resnet18(pretrained=False)\n",
    "\n",
    "if use_cuda:\n",
    "    bnn.cuda()\n",
    "\n",
    "neg_elbo = neg_ELBO(net=bnn)\n",
    "optimizer = optim.Adam(bnn.parameters(), lr=learning_rate, weight_decay=weight_decay)"
   ]
  },
  {
   "cell_type": "code",
   "execution_count": 13,
   "metadata": {},
   "outputs": [
    {
     "name": "stderr",
     "output_type": "stream",
     "text": [
      "100%|██████████| 3125/3125 [00:58<00:00, 53.57it/s]\n",
      "100%|██████████| 625/625 [00:01<00:00, 576.35it/s]\n",
      "  0%|          | 7/3125 [00:00<00:49, 62.57it/s]"
     ]
    },
    {
     "name": "stdout",
     "output_type": "stream",
     "text": [
      "--------------------------------------------------------------\n",
      "Epoch: 1\n",
      "--------------------------------------------------------------\n",
      "Trainig loss: 5.079693139305115\n",
      "--------------------------------------------------------------\n",
      "Accuracy of the network on the train images: 40.872 percent (20436/50000)\n",
      "--------------------------------------------------------------\n",
      "Accuracy of the network on the test images: 48.48 percent (303/625)\n",
      "--------------------------------------------------------------\n"
     ]
    },
    {
     "name": "stderr",
     "output_type": "stream",
     "text": [
      "100%|██████████| 3125/3125 [00:55<00:00, 57.63it/s]\n",
      "100%|██████████| 625/625 [00:01<00:00, 473.51it/s]\n",
      "  0%|          | 6/3125 [00:00<00:55, 56.12it/s]"
     ]
    },
    {
     "name": "stdout",
     "output_type": "stream",
     "text": [
      "--------------------------------------------------------------\n",
      "Epoch: 2\n",
      "--------------------------------------------------------------\n",
      "Trainig loss: 4.961787837066651\n",
      "--------------------------------------------------------------\n",
      "Accuracy of the network on the train images: 48.34 percent (24170/50000)\n",
      "--------------------------------------------------------------\n",
      "Accuracy of the network on the test images: 52.48 percent (328/625)\n",
      "--------------------------------------------------------------\n"
     ]
    },
    {
     "name": "stderr",
     "output_type": "stream",
     "text": [
      "100%|██████████| 3125/3125 [00:54<00:00, 57.29it/s]\n",
      "100%|██████████| 625/625 [00:01<00:00, 430.20it/s]\n",
      "  0%|          | 6/3125 [00:00<00:52, 59.35it/s]"
     ]
    },
    {
     "name": "stdout",
     "output_type": "stream",
     "text": [
      "--------------------------------------------------------------\n",
      "Epoch: 3\n",
      "--------------------------------------------------------------\n",
      "Trainig loss: 4.86952579498291\n",
      "--------------------------------------------------------------\n",
      "Accuracy of the network on the train images: 50.636 percent (25318/50000)\n",
      "--------------------------------------------------------------\n",
      "Accuracy of the network on the test images: 54.56 percent (341/625)\n",
      "--------------------------------------------------------------\n"
     ]
    },
    {
     "name": "stderr",
     "output_type": "stream",
     "text": [
      "100%|██████████| 3125/3125 [00:56<00:00, 55.31it/s]\n",
      "100%|██████████| 625/625 [00:01<00:00, 609.63it/s]\n",
      "  0%|          | 7/3125 [00:00<00:44, 69.58it/s]"
     ]
    },
    {
     "name": "stdout",
     "output_type": "stream",
     "text": [
      "--------------------------------------------------------------\n",
      "Epoch: 4\n",
      "--------------------------------------------------------------\n",
      "Trainig loss: 4.8038262977600095\n",
      "--------------------------------------------------------------\n",
      "Accuracy of the network on the train images: 51.662 percent (25831/50000)\n",
      "--------------------------------------------------------------\n",
      "Accuracy of the network on the test images: 56.0 percent (350/625)\n",
      "--------------------------------------------------------------\n"
     ]
    },
    {
     "name": "stderr",
     "output_type": "stream",
     "text": [
      "100%|██████████| 3125/3125 [00:53<00:00, 58.33it/s]\n",
      "100%|██████████| 625/625 [00:01<00:00, 486.15it/s]\n",
      "  0%|          | 7/3125 [00:00<00:47, 65.43it/s]"
     ]
    },
    {
     "name": "stdout",
     "output_type": "stream",
     "text": [
      "--------------------------------------------------------------\n",
      "Epoch: 5\n",
      "--------------------------------------------------------------\n",
      "Trainig loss: 4.757041071929931\n",
      "--------------------------------------------------------------\n",
      "Accuracy of the network on the train images: 52.796 percent (26398/50000)\n",
      "--------------------------------------------------------------\n",
      "Accuracy of the network on the test images: 56.48 percent (353/625)\n",
      "--------------------------------------------------------------\n"
     ]
    },
    {
     "name": "stderr",
     "output_type": "stream",
     "text": [
      "100%|██████████| 3125/3125 [00:51<00:00, 60.46it/s]\n",
      "100%|██████████| 625/625 [00:01<00:00, 491.15it/s]\n",
      "  0%|          | 6/3125 [00:00<00:54, 57.62it/s]"
     ]
    },
    {
     "name": "stdout",
     "output_type": "stream",
     "text": [
      "--------------------------------------------------------------\n",
      "Epoch: 6\n",
      "--------------------------------------------------------------\n",
      "Trainig loss: 4.723942530517578\n",
      "--------------------------------------------------------------\n",
      "Accuracy of the network on the train images: 53.89 percent (26945/50000)\n",
      "--------------------------------------------------------------\n",
      "Accuracy of the network on the test images: 55.2 percent (345/625)\n",
      "--------------------------------------------------------------\n"
     ]
    },
    {
     "name": "stderr",
     "output_type": "stream",
     "text": [
      "100%|██████████| 3125/3125 [00:55<00:00, 56.80it/s]\n",
      "100%|██████████| 625/625 [00:01<00:00, 487.36it/s]\n",
      "  0%|          | 6/3125 [00:00<00:57, 53.95it/s]"
     ]
    },
    {
     "name": "stdout",
     "output_type": "stream",
     "text": [
      "--------------------------------------------------------------\n",
      "Epoch: 7\n",
      "--------------------------------------------------------------\n",
      "Trainig loss: 4.6963046433258056\n",
      "--------------------------------------------------------------\n",
      "Accuracy of the network on the train images: 54.306 percent (27153/50000)\n",
      "--------------------------------------------------------------\n",
      "Accuracy of the network on the test images: 56.16 percent (351/625)\n",
      "--------------------------------------------------------------\n"
     ]
    },
    {
     "name": "stderr",
     "output_type": "stream",
     "text": [
      "100%|██████████| 3125/3125 [00:54<00:00, 56.99it/s]\n",
      "100%|██████████| 625/625 [00:01<00:00, 481.46it/s]\n",
      "  0%|          | 6/3125 [00:00<00:52, 59.11it/s]"
     ]
    },
    {
     "name": "stdout",
     "output_type": "stream",
     "text": [
      "--------------------------------------------------------------\n",
      "Epoch: 8\n",
      "--------------------------------------------------------------\n",
      "Trainig loss: 4.675451813659668\n",
      "--------------------------------------------------------------\n",
      "Accuracy of the network on the train images: 54.864 percent (27432/50000)\n",
      "--------------------------------------------------------------\n",
      "Accuracy of the network on the test images: 55.68 percent (348/625)\n",
      "--------------------------------------------------------------\n"
     ]
    },
    {
     "name": "stderr",
     "output_type": "stream",
     "text": [
      "100%|██████████| 3125/3125 [00:56<00:00, 57.91it/s]\n",
      "100%|██████████| 625/625 [00:01<00:00, 474.22it/s]\n",
      "  0%|          | 6/3125 [00:00<00:55, 56.30it/s]"
     ]
    },
    {
     "name": "stdout",
     "output_type": "stream",
     "text": [
      "--------------------------------------------------------------\n",
      "Epoch: 9\n",
      "--------------------------------------------------------------\n",
      "Trainig loss: 4.656296084899902\n",
      "--------------------------------------------------------------\n",
      "Accuracy of the network on the train images: 55.198 percent (27599/50000)\n",
      "--------------------------------------------------------------\n",
      "Accuracy of the network on the test images: 56.32 percent (352/625)\n",
      "--------------------------------------------------------------\n"
     ]
    },
    {
     "name": "stderr",
     "output_type": "stream",
     "text": [
      "100%|██████████| 3125/3125 [00:55<00:00, 56.40it/s]\n",
      "100%|██████████| 625/625 [00:01<00:00, 483.23it/s]\n",
      "  0%|          | 6/3125 [00:00<00:55, 56.53it/s]"
     ]
    },
    {
     "name": "stdout",
     "output_type": "stream",
     "text": [
      "--------------------------------------------------------------\n",
      "Epoch: 10\n",
      "--------------------------------------------------------------\n",
      "Trainig loss: 4.638880387954712\n",
      "--------------------------------------------------------------\n",
      "Accuracy of the network on the train images: 55.622 percent (27811/50000)\n",
      "--------------------------------------------------------------\n",
      "Accuracy of the network on the test images: 58.72 percent (367/625)\n",
      "--------------------------------------------------------------\n"
     ]
    },
    {
     "name": "stderr",
     "output_type": "stream",
     "text": [
      "100%|██████████| 3125/3125 [00:54<00:00, 57.30it/s]\n",
      "100%|██████████| 625/625 [00:01<00:00, 475.08it/s]\n",
      "  0%|          | 6/3125 [00:00<00:58, 53.71it/s]"
     ]
    },
    {
     "name": "stdout",
     "output_type": "stream",
     "text": [
      "--------------------------------------------------------------\n",
      "Epoch: 11\n",
      "--------------------------------------------------------------\n",
      "Trainig loss: 4.6230151112365725\n",
      "--------------------------------------------------------------\n",
      "Accuracy of the network on the train images: 55.636 percent (27818/50000)\n",
      "--------------------------------------------------------------\n",
      "Accuracy of the network on the test images: 57.92 percent (362/625)\n",
      "--------------------------------------------------------------\n"
     ]
    },
    {
     "name": "stderr",
     "output_type": "stream",
     "text": [
      "100%|██████████| 3125/3125 [00:55<00:00, 55.88it/s]\n",
      "100%|██████████| 625/625 [00:01<00:00, 472.21it/s]\n",
      "  0%|          | 6/3125 [00:00<00:58, 53.39it/s]"
     ]
    },
    {
     "name": "stdout",
     "output_type": "stream",
     "text": [
      "--------------------------------------------------------------\n",
      "Epoch: 12\n",
      "--------------------------------------------------------------\n",
      "Trainig loss: 4.611608590621948\n",
      "--------------------------------------------------------------\n",
      "Accuracy of the network on the train images: 56.194 percent (28097/50000)\n",
      "--------------------------------------------------------------\n",
      "Accuracy of the network on the test images: 58.56 percent (366/625)\n",
      "--------------------------------------------------------------\n"
     ]
    },
    {
     "name": "stderr",
     "output_type": "stream",
     "text": [
      "100%|██████████| 3125/3125 [00:55<00:00, 56.67it/s]\n",
      "100%|██████████| 625/625 [00:01<00:00, 471.10it/s]\n",
      "  0%|          | 6/3125 [00:00<00:58, 53.72it/s]"
     ]
    },
    {
     "name": "stdout",
     "output_type": "stream",
     "text": [
      "--------------------------------------------------------------\n",
      "Epoch: 13\n",
      "--------------------------------------------------------------\n",
      "Trainig loss: 4.599219848403931\n",
      "--------------------------------------------------------------\n",
      "Accuracy of the network on the train images: 56.518 percent (28259/50000)\n",
      "--------------------------------------------------------------\n",
      "Accuracy of the network on the test images: 57.6 percent (360/625)\n",
      "--------------------------------------------------------------\n"
     ]
    },
    {
     "name": "stderr",
     "output_type": "stream",
     "text": [
      "100%|██████████| 3125/3125 [00:55<00:00, 56.51it/s]\n",
      "100%|██████████| 625/625 [00:01<00:00, 582.45it/s]\n",
      "  0%|          | 7/3125 [00:00<00:49, 63.51it/s]"
     ]
    },
    {
     "name": "stdout",
     "output_type": "stream",
     "text": [
      "--------------------------------------------------------------\n",
      "Epoch: 14\n",
      "--------------------------------------------------------------\n",
      "Trainig loss: 4.589947783432007\n",
      "--------------------------------------------------------------\n",
      "Accuracy of the network on the train images: 56.856 percent (28428/50000)\n",
      "--------------------------------------------------------------\n",
      "Accuracy of the network on the test images: 59.84 percent (374/625)\n",
      "--------------------------------------------------------------\n"
     ]
    },
    {
     "name": "stderr",
     "output_type": "stream",
     "text": [
      "100%|██████████| 3125/3125 [00:56<00:00, 55.76it/s]\n",
      "100%|██████████| 625/625 [00:01<00:00, 591.31it/s]\n",
      "  0%|          | 7/3125 [00:00<00:49, 63.05it/s]"
     ]
    },
    {
     "name": "stdout",
     "output_type": "stream",
     "text": [
      "--------------------------------------------------------------\n",
      "Epoch: 15\n",
      "--------------------------------------------------------------\n",
      "Trainig loss: 4.583043274230957\n",
      "--------------------------------------------------------------\n",
      "Accuracy of the network on the train images: 56.804 percent (28402/50000)\n",
      "--------------------------------------------------------------\n",
      "Accuracy of the network on the test images: 57.92 percent (362/625)\n",
      "--------------------------------------------------------------\n"
     ]
    },
    {
     "name": "stderr",
     "output_type": "stream",
     "text": [
      "100%|██████████| 3125/3125 [00:56<00:00, 55.15it/s]\n",
      "100%|██████████| 625/625 [00:01<00:00, 477.75it/s]\n",
      "  0%|          | 7/3125 [00:00<00:49, 62.40it/s]"
     ]
    },
    {
     "name": "stdout",
     "output_type": "stream",
     "text": [
      "--------------------------------------------------------------\n",
      "Epoch: 16\n",
      "--------------------------------------------------------------\n",
      "Trainig loss: 4.57044669593811\n",
      "--------------------------------------------------------------\n",
      "Accuracy of the network on the train images: 57.052 percent (28526/50000)\n",
      "--------------------------------------------------------------\n",
      "Accuracy of the network on the test images: 59.84 percent (374/625)\n",
      "--------------------------------------------------------------\n"
     ]
    },
    {
     "name": "stderr",
     "output_type": "stream",
     "text": [
      "100%|██████████| 3125/3125 [00:54<00:00, 57.44it/s]\n",
      "100%|██████████| 625/625 [00:01<00:00, 476.07it/s]\n",
      "  0%|          | 6/3125 [00:00<00:55, 55.73it/s]"
     ]
    },
    {
     "name": "stdout",
     "output_type": "stream",
     "text": [
      "--------------------------------------------------------------\n",
      "Epoch: 17\n",
      "--------------------------------------------------------------\n",
      "Trainig loss: 4.561891494064331\n",
      "--------------------------------------------------------------\n",
      "Accuracy of the network on the train images: 56.97 percent (28485/50000)\n",
      "--------------------------------------------------------------\n",
      "Accuracy of the network on the test images: 57.6 percent (360/625)\n",
      "--------------------------------------------------------------\n"
     ]
    },
    {
     "name": "stderr",
     "output_type": "stream",
     "text": [
      "100%|██████████| 3125/3125 [01:00<00:00, 49.15it/s]\n",
      "100%|██████████| 625/625 [00:00<00:00, 626.52it/s]\n",
      "  0%|          | 7/3125 [00:00<00:50, 61.63it/s]"
     ]
    },
    {
     "name": "stdout",
     "output_type": "stream",
     "text": [
      "--------------------------------------------------------------\n",
      "Epoch: 18\n",
      "--------------------------------------------------------------\n",
      "Trainig loss: 4.553013551940918\n",
      "--------------------------------------------------------------\n",
      "Accuracy of the network on the train images: 57.27 percent (28635/50000)\n",
      "--------------------------------------------------------------\n",
      "Accuracy of the network on the test images: 58.56 percent (366/625)\n",
      "--------------------------------------------------------------\n"
     ]
    },
    {
     "name": "stderr",
     "output_type": "stream",
     "text": [
      "100%|██████████| 3125/3125 [00:54<00:00, 57.73it/s]\n",
      "100%|██████████| 625/625 [00:01<00:00, 468.10it/s]\n",
      "  0%|          | 6/3125 [00:00<01:00, 51.75it/s]"
     ]
    },
    {
     "name": "stdout",
     "output_type": "stream",
     "text": [
      "--------------------------------------------------------------\n",
      "Epoch: 19\n",
      "--------------------------------------------------------------\n",
      "Trainig loss: 4.5412193386840825\n",
      "--------------------------------------------------------------\n",
      "Accuracy of the network on the train images: 57.69 percent (28845/50000)\n",
      "--------------------------------------------------------------\n",
      "Accuracy of the network on the test images: 58.24 percent (364/625)\n",
      "--------------------------------------------------------------\n"
     ]
    },
    {
     "name": "stderr",
     "output_type": "stream",
     "text": [
      "100%|██████████| 3125/3125 [00:55<00:00, 57.30it/s]\n",
      "100%|██████████| 625/625 [00:01<00:00, 576.58it/s]\n",
      "  0%|          | 7/3125 [00:00<00:46, 66.63it/s]"
     ]
    },
    {
     "name": "stdout",
     "output_type": "stream",
     "text": [
      "--------------------------------------------------------------\n",
      "Epoch: 20\n",
      "--------------------------------------------------------------\n",
      "Trainig loss: 4.530414970932007\n",
      "--------------------------------------------------------------\n",
      "Accuracy of the network on the train images: 57.86 percent (28930/50000)\n",
      "--------------------------------------------------------------\n",
      "Accuracy of the network on the test images: 58.88 percent (368/625)\n",
      "--------------------------------------------------------------\n"
     ]
    },
    {
     "name": "stderr",
     "output_type": "stream",
     "text": [
      "100%|██████████| 3125/3125 [00:54<00:00, 57.48it/s]\n",
      "100%|██████████| 625/625 [00:01<00:00, 464.46it/s]\n",
      "  0%|          | 6/3125 [00:00<00:53, 58.33it/s]"
     ]
    },
    {
     "name": "stdout",
     "output_type": "stream",
     "text": [
      "--------------------------------------------------------------\n",
      "Epoch: 21\n",
      "--------------------------------------------------------------\n",
      "Trainig loss: 4.526420365829468\n",
      "--------------------------------------------------------------\n",
      "Accuracy of the network on the train images: 57.78 percent (28890/50000)\n",
      "--------------------------------------------------------------\n",
      "Accuracy of the network on the test images: 59.2 percent (370/625)\n",
      "--------------------------------------------------------------\n"
     ]
    },
    {
     "name": "stderr",
     "output_type": "stream",
     "text": [
      "100%|██████████| 3125/3125 [00:53<00:00, 58.75it/s]\n",
      "100%|██████████| 625/625 [00:01<00:00, 479.95it/s]\n",
      "  0%|          | 7/3125 [00:00<00:47, 66.12it/s]"
     ]
    },
    {
     "name": "stdout",
     "output_type": "stream",
     "text": [
      "--------------------------------------------------------------\n",
      "Epoch: 22\n",
      "--------------------------------------------------------------\n",
      "Trainig loss: 4.521435641326904\n",
      "--------------------------------------------------------------\n",
      "Accuracy of the network on the train images: 57.734 percent (28867/50000)\n",
      "--------------------------------------------------------------\n",
      "Accuracy of the network on the test images: 59.52 percent (372/625)\n",
      "--------------------------------------------------------------\n"
     ]
    },
    {
     "name": "stderr",
     "output_type": "stream",
     "text": [
      "100%|██████████| 3125/3125 [00:50<00:00, 62.49it/s]\n",
      "100%|██████████| 625/625 [00:01<00:00, 487.00it/s]\n",
      "  0%|          | 6/3125 [00:00<00:54, 57.45it/s]"
     ]
    },
    {
     "name": "stdout",
     "output_type": "stream",
     "text": [
      "--------------------------------------------------------------\n",
      "Epoch: 23\n",
      "--------------------------------------------------------------\n",
      "Trainig loss: 4.5159298894500735\n",
      "--------------------------------------------------------------\n",
      "Accuracy of the network on the train images: 57.826 percent (28913/50000)\n",
      "--------------------------------------------------------------\n",
      "Accuracy of the network on the test images: 58.72 percent (367/625)\n",
      "--------------------------------------------------------------\n"
     ]
    },
    {
     "name": "stderr",
     "output_type": "stream",
     "text": [
      "100%|██████████| 3125/3125 [00:54<00:00, 57.39it/s]\n",
      "100%|██████████| 625/625 [00:01<00:00, 486.99it/s]\n",
      "  0%|          | 6/3125 [00:00<00:52, 59.20it/s]"
     ]
    },
    {
     "name": "stdout",
     "output_type": "stream",
     "text": [
      "--------------------------------------------------------------\n",
      "Epoch: 24\n",
      "--------------------------------------------------------------\n",
      "Trainig loss: 4.511155044708252\n",
      "--------------------------------------------------------------\n",
      "Accuracy of the network on the train images: 58.248 percent (29124/50000)\n",
      "--------------------------------------------------------------\n",
      "Accuracy of the network on the test images: 60.32 percent (377/625)\n",
      "--------------------------------------------------------------\n"
     ]
    },
    {
     "name": "stderr",
     "output_type": "stream",
     "text": [
      "100%|██████████| 3125/3125 [00:52<00:00, 59.95it/s]\n",
      "100%|██████████| 625/625 [00:01<00:00, 481.74it/s]\n",
      "  0%|          | 6/3125 [00:00<00:58, 53.14it/s]"
     ]
    },
    {
     "name": "stdout",
     "output_type": "stream",
     "text": [
      "--------------------------------------------------------------\n",
      "Epoch: 25\n",
      "--------------------------------------------------------------\n",
      "Trainig loss: 4.507766104049683\n",
      "--------------------------------------------------------------\n",
      "Accuracy of the network on the train images: 58.086 percent (29043/50000)\n",
      "--------------------------------------------------------------\n",
      "Accuracy of the network on the test images: 57.92 percent (362/625)\n",
      "--------------------------------------------------------------\n"
     ]
    },
    {
     "name": "stderr",
     "output_type": "stream",
     "text": [
      "100%|██████████| 3125/3125 [00:58<00:00, 53.39it/s]\n",
      "100%|██████████| 625/625 [00:01<00:00, 411.87it/s]\n",
      "  0%|          | 6/3125 [00:00<00:58, 53.72it/s]"
     ]
    },
    {
     "name": "stdout",
     "output_type": "stream",
     "text": [
      "--------------------------------------------------------------\n",
      "Epoch: 26\n",
      "--------------------------------------------------------------\n",
      "Trainig loss: 4.505819231948853\n",
      "--------------------------------------------------------------\n",
      "Accuracy of the network on the train images: 58.4 percent (29200/50000)\n",
      "--------------------------------------------------------------\n",
      "Accuracy of the network on the test images: 56.96 percent (356/625)\n",
      "--------------------------------------------------------------\n"
     ]
    },
    {
     "name": "stderr",
     "output_type": "stream",
     "text": [
      "100%|██████████| 3125/3125 [00:57<00:00, 54.40it/s]\n",
      "100%|██████████| 625/625 [00:01<00:00, 482.64it/s]\n",
      "  0%|          | 6/3125 [00:00<00:56, 55.35it/s]"
     ]
    },
    {
     "name": "stdout",
     "output_type": "stream",
     "text": [
      "--------------------------------------------------------------\n",
      "Epoch: 27\n",
      "--------------------------------------------------------------\n",
      "Trainig loss: 4.506489484786988\n",
      "--------------------------------------------------------------\n",
      "Accuracy of the network on the train images: 57.902 percent (28951/50000)\n",
      "--------------------------------------------------------------\n",
      "Accuracy of the network on the test images: 58.72 percent (367/625)\n",
      "--------------------------------------------------------------\n"
     ]
    },
    {
     "name": "stderr",
     "output_type": "stream",
     "text": [
      "100%|██████████| 3125/3125 [00:57<00:00, 54.36it/s]\n",
      "100%|██████████| 625/625 [00:01<00:00, 468.99it/s]\n",
      "  0%|          | 5/3125 [00:00<01:04, 48.07it/s]"
     ]
    },
    {
     "name": "stdout",
     "output_type": "stream",
     "text": [
      "--------------------------------------------------------------\n",
      "Epoch: 28\n",
      "--------------------------------------------------------------\n",
      "Trainig loss: 4.499847924423218\n",
      "--------------------------------------------------------------\n",
      "Accuracy of the network on the train images: 58.258 percent (29129/50000)\n",
      "--------------------------------------------------------------\n",
      "Accuracy of the network on the test images: 59.52 percent (372/625)\n",
      "--------------------------------------------------------------\n"
     ]
    },
    {
     "name": "stderr",
     "output_type": "stream",
     "text": [
      "100%|██████████| 3125/3125 [00:56<00:00, 55.64it/s]\n",
      "100%|██████████| 625/625 [00:01<00:00, 464.46it/s]\n",
      "  0%|          | 5/3125 [00:00<01:07, 45.92it/s]"
     ]
    },
    {
     "name": "stdout",
     "output_type": "stream",
     "text": [
      "--------------------------------------------------------------\n",
      "Epoch: 29\n",
      "--------------------------------------------------------------\n",
      "Trainig loss: 4.49764683128357\n",
      "--------------------------------------------------------------\n",
      "Accuracy of the network on the train images: 58.404 percent (29202/50000)\n",
      "--------------------------------------------------------------\n",
      "Accuracy of the network on the test images: 61.44 percent (384/625)\n",
      "--------------------------------------------------------------\n"
     ]
    },
    {
     "name": "stderr",
     "output_type": "stream",
     "text": [
      "100%|██████████| 3125/3125 [00:57<00:00, 54.45it/s]\n",
      "100%|██████████| 625/625 [00:01<00:00, 485.15it/s]\n",
      "  0%|          | 6/3125 [00:00<00:59, 52.42it/s]"
     ]
    },
    {
     "name": "stdout",
     "output_type": "stream",
     "text": [
      "--------------------------------------------------------------\n",
      "Epoch: 30\n",
      "--------------------------------------------------------------\n",
      "Trainig loss: 4.492816765365601\n",
      "--------------------------------------------------------------\n",
      "Accuracy of the network on the train images: 58.424 percent (29212/50000)\n",
      "--------------------------------------------------------------\n",
      "Accuracy of the network on the test images: 57.28 percent (358/625)\n",
      "--------------------------------------------------------------\n"
     ]
    },
    {
     "name": "stderr",
     "output_type": "stream",
     "text": [
      "100%|██████████| 3125/3125 [00:56<00:00, 55.07it/s]\n",
      "100%|██████████| 625/625 [00:01<00:00, 474.29it/s]\n",
      "  0%|          | 7/3125 [00:00<00:50, 61.60it/s]"
     ]
    },
    {
     "name": "stdout",
     "output_type": "stream",
     "text": [
      "--------------------------------------------------------------\n",
      "Epoch: 31\n",
      "--------------------------------------------------------------\n",
      "Trainig loss: 4.490201493911743\n",
      "--------------------------------------------------------------\n",
      "Accuracy of the network on the train images: 58.418 percent (29209/50000)\n",
      "--------------------------------------------------------------\n",
      "Accuracy of the network on the test images: 61.12 percent (382/625)\n",
      "--------------------------------------------------------------\n"
     ]
    },
    {
     "name": "stderr",
     "output_type": "stream",
     "text": [
      "100%|██████████| 3125/3125 [00:57<00:00, 47.97it/s]\n",
      "100%|██████████| 625/625 [00:01<00:00, 461.13it/s]\n",
      "  0%|          | 6/3125 [00:00<01:02, 49.69it/s]"
     ]
    },
    {
     "name": "stdout",
     "output_type": "stream",
     "text": [
      "--------------------------------------------------------------\n",
      "Epoch: 32\n",
      "--------------------------------------------------------------\n",
      "Trainig loss: 4.48553944984436\n",
      "--------------------------------------------------------------\n",
      "Accuracy of the network on the train images: 58.376 percent (29188/50000)\n",
      "--------------------------------------------------------------\n",
      "Accuracy of the network on the test images: 60.0 percent (375/625)\n",
      "--------------------------------------------------------------\n"
     ]
    },
    {
     "name": "stderr",
     "output_type": "stream",
     "text": [
      "100%|██████████| 3125/3125 [00:57<00:00, 57.28it/s]\n",
      "100%|██████████| 625/625 [00:01<00:00, 487.61it/s]\n",
      "  0%|          | 6/3125 [00:00<00:55, 56.55it/s]"
     ]
    },
    {
     "name": "stdout",
     "output_type": "stream",
     "text": [
      "--------------------------------------------------------------\n",
      "Epoch: 33\n",
      "--------------------------------------------------------------\n",
      "Trainig loss: 4.4822040182495115\n",
      "--------------------------------------------------------------\n",
      "Accuracy of the network on the train images: 58.646 percent (29323/50000)\n",
      "--------------------------------------------------------------\n",
      "Accuracy of the network on the test images: 59.04 percent (369/625)\n",
      "--------------------------------------------------------------\n"
     ]
    },
    {
     "name": "stderr",
     "output_type": "stream",
     "text": [
      "100%|██████████| 3125/3125 [00:55<00:00, 56.29it/s]\n",
      "100%|██████████| 625/625 [00:01<00:00, 483.12it/s]\n",
      "  0%|          | 7/3125 [00:00<00:48, 63.64it/s]"
     ]
    },
    {
     "name": "stdout",
     "output_type": "stream",
     "text": [
      "--------------------------------------------------------------\n",
      "Epoch: 34\n",
      "--------------------------------------------------------------\n",
      "Trainig loss: 4.478851832809449\n",
      "--------------------------------------------------------------\n",
      "Accuracy of the network on the train images: 58.878 percent (29439/50000)\n",
      "--------------------------------------------------------------\n",
      "Accuracy of the network on the test images: 57.92 percent (362/625)\n",
      "--------------------------------------------------------------\n"
     ]
    },
    {
     "name": "stderr",
     "output_type": "stream",
     "text": [
      "100%|██████████| 3125/3125 [00:55<00:00, 53.63it/s]\n",
      "100%|██████████| 625/625 [00:01<00:00, 471.95it/s]\n",
      "  0%|          | 6/3125 [00:00<01:01, 50.95it/s]"
     ]
    },
    {
     "name": "stdout",
     "output_type": "stream",
     "text": [
      "--------------------------------------------------------------\n",
      "Epoch: 35\n",
      "--------------------------------------------------------------\n",
      "Trainig loss: 4.480361018981934\n",
      "--------------------------------------------------------------\n",
      "Accuracy of the network on the train images: 58.812 percent (29406/50000)\n",
      "--------------------------------------------------------------\n",
      "Accuracy of the network on the test images: 58.24 percent (364/625)\n",
      "--------------------------------------------------------------\n"
     ]
    },
    {
     "name": "stderr",
     "output_type": "stream",
     "text": [
      "100%|██████████| 3125/3125 [00:58<00:00, 53.84it/s]\n",
      "100%|██████████| 625/625 [00:01<00:00, 473.30it/s]\n",
      "  0%|          | 6/3125 [00:00<00:52, 59.27it/s]"
     ]
    },
    {
     "name": "stdout",
     "output_type": "stream",
     "text": [
      "--------------------------------------------------------------\n",
      "Epoch: 36\n",
      "--------------------------------------------------------------\n",
      "Trainig loss: 4.478685247116089\n",
      "--------------------------------------------------------------\n",
      "Accuracy of the network on the train images: 58.752 percent (29376/50000)\n",
      "--------------------------------------------------------------\n",
      "Accuracy of the network on the test images: 59.68 percent (373/625)\n",
      "--------------------------------------------------------------\n"
     ]
    },
    {
     "name": "stderr",
     "output_type": "stream",
     "text": [
      "100%|██████████| 3125/3125 [00:53<00:00, 58.02it/s]\n",
      "100%|██████████| 625/625 [00:01<00:00, 468.81it/s]\n",
      "  0%|          | 6/3125 [00:00<00:54, 57.50it/s]"
     ]
    },
    {
     "name": "stdout",
     "output_type": "stream",
     "text": [
      "--------------------------------------------------------------\n",
      "Epoch: 37\n",
      "--------------------------------------------------------------\n",
      "Trainig loss: 4.474318340454102\n",
      "--------------------------------------------------------------\n",
      "Accuracy of the network on the train images: 58.584 percent (29292/50000)\n",
      "--------------------------------------------------------------\n",
      "Accuracy of the network on the test images: 62.56 percent (391/625)\n",
      "--------------------------------------------------------------\n"
     ]
    },
    {
     "name": "stderr",
     "output_type": "stream",
     "text": [
      "100%|██████████| 3125/3125 [00:55<00:00, 56.08it/s]\n",
      "100%|██████████| 625/625 [00:01<00:00, 478.66it/s]\n",
      "  0%|          | 6/3125 [00:00<00:55, 56.03it/s]"
     ]
    },
    {
     "name": "stdout",
     "output_type": "stream",
     "text": [
      "--------------------------------------------------------------\n",
      "Epoch: 38\n",
      "--------------------------------------------------------------\n",
      "Trainig loss: 4.472860015945434\n",
      "--------------------------------------------------------------\n",
      "Accuracy of the network on the train images: 58.992 percent (29496/50000)\n",
      "--------------------------------------------------------------\n",
      "Accuracy of the network on the test images: 58.56 percent (366/625)\n",
      "--------------------------------------------------------------\n"
     ]
    },
    {
     "name": "stderr",
     "output_type": "stream",
     "text": [
      "100%|██████████| 3125/3125 [00:53<00:00, 58.47it/s]\n",
      "100%|██████████| 625/625 [00:01<00:00, 463.65it/s]\n",
      "  0%|          | 5/3125 [00:00<01:04, 48.63it/s]"
     ]
    },
    {
     "name": "stdout",
     "output_type": "stream",
     "text": [
      "--------------------------------------------------------------\n",
      "Epoch: 39\n",
      "--------------------------------------------------------------\n",
      "Trainig loss: 4.475539966049194\n",
      "--------------------------------------------------------------\n",
      "Accuracy of the network on the train images: 59.118 percent (29559/50000)\n",
      "--------------------------------------------------------------\n",
      "Accuracy of the network on the test images: 61.28 percent (383/625)\n",
      "--------------------------------------------------------------\n"
     ]
    },
    {
     "name": "stderr",
     "output_type": "stream",
     "text": [
      "100%|██████████| 3125/3125 [00:56<00:00, 55.08it/s]\n",
      "100%|██████████| 625/625 [00:01<00:00, 483.95it/s]\n",
      "  0%|          | 6/3125 [00:00<00:53, 58.17it/s]"
     ]
    },
    {
     "name": "stdout",
     "output_type": "stream",
     "text": [
      "--------------------------------------------------------------\n",
      "Epoch: 40\n",
      "--------------------------------------------------------------\n",
      "Trainig loss: 4.471067373199463\n",
      "--------------------------------------------------------------\n",
      "Accuracy of the network on the train images: 59.132 percent (29566/50000)\n",
      "--------------------------------------------------------------\n",
      "Accuracy of the network on the test images: 58.4 percent (365/625)\n",
      "--------------------------------------------------------------\n"
     ]
    },
    {
     "name": "stderr",
     "output_type": "stream",
     "text": [
      "100%|██████████| 3125/3125 [00:55<00:00, 56.05it/s]\n",
      "100%|██████████| 625/625 [00:01<00:00, 471.40it/s]\n",
      "  0%|          | 7/3125 [00:00<00:47, 65.23it/s]"
     ]
    },
    {
     "name": "stdout",
     "output_type": "stream",
     "text": [
      "--------------------------------------------------------------\n",
      "Epoch: 41\n",
      "--------------------------------------------------------------\n",
      "Trainig loss: 4.472743715209961\n",
      "--------------------------------------------------------------\n",
      "Accuracy of the network on the train images: 58.966 percent (29483/50000)\n",
      "--------------------------------------------------------------\n",
      "Accuracy of the network on the test images: 60.16 percent (376/625)\n",
      "--------------------------------------------------------------\n"
     ]
    },
    {
     "name": "stderr",
     "output_type": "stream",
     "text": [
      "100%|██████████| 3125/3125 [00:52<00:00, 60.05it/s]\n",
      "100%|██████████| 625/625 [00:01<00:00, 481.02it/s]\n",
      "  0%|          | 6/3125 [00:00<00:59, 52.06it/s]"
     ]
    },
    {
     "name": "stdout",
     "output_type": "stream",
     "text": [
      "--------------------------------------------------------------\n",
      "Epoch: 42\n",
      "--------------------------------------------------------------\n",
      "Trainig loss: 4.469188052825928\n",
      "--------------------------------------------------------------\n",
      "Accuracy of the network on the train images: 59.028 percent (29514/50000)\n",
      "--------------------------------------------------------------\n",
      "Accuracy of the network on the test images: 62.08 percent (388/625)\n",
      "--------------------------------------------------------------\n"
     ]
    },
    {
     "name": "stderr",
     "output_type": "stream",
     "text": [
      "100%|██████████| 3125/3125 [00:54<00:00, 57.09it/s]\n",
      "100%|██████████| 625/625 [00:01<00:00, 480.72it/s]\n",
      "  0%|          | 6/3125 [00:00<00:56, 55.14it/s]"
     ]
    },
    {
     "name": "stdout",
     "output_type": "stream",
     "text": [
      "--------------------------------------------------------------\n",
      "Epoch: 43\n",
      "--------------------------------------------------------------\n",
      "Trainig loss: 4.466092801361084\n",
      "--------------------------------------------------------------\n",
      "Accuracy of the network on the train images: 59.274 percent (29637/50000)\n",
      "--------------------------------------------------------------\n",
      "Accuracy of the network on the test images: 59.36 percent (371/625)\n",
      "--------------------------------------------------------------\n"
     ]
    },
    {
     "name": "stderr",
     "output_type": "stream",
     "text": [
      "100%|██████████| 3125/3125 [00:53<00:00, 57.89it/s]\n",
      "100%|██████████| 625/625 [00:01<00:00, 482.41it/s]\n",
      "  0%|          | 6/3125 [00:00<00:54, 57.01it/s]"
     ]
    },
    {
     "name": "stdout",
     "output_type": "stream",
     "text": [
      "--------------------------------------------------------------\n",
      "Epoch: 44\n",
      "--------------------------------------------------------------\n",
      "Trainig loss: 4.466685050048828\n",
      "--------------------------------------------------------------\n",
      "Accuracy of the network on the train images: 59.208 percent (29604/50000)\n",
      "--------------------------------------------------------------\n",
      "Accuracy of the network on the test images: 61.6 percent (385/625)\n",
      "--------------------------------------------------------------\n"
     ]
    },
    {
     "name": "stderr",
     "output_type": "stream",
     "text": [
      "100%|██████████| 3125/3125 [00:55<00:00, 55.99it/s]\n",
      "100%|██████████| 625/625 [00:01<00:00, 480.29it/s]\n",
      "  0%|          | 6/3125 [00:00<00:56, 55.38it/s]"
     ]
    },
    {
     "name": "stdout",
     "output_type": "stream",
     "text": [
      "--------------------------------------------------------------\n",
      "Epoch: 45\n",
      "--------------------------------------------------------------\n",
      "Trainig loss: 4.470104494934082\n",
      "--------------------------------------------------------------\n",
      "Accuracy of the network on the train images: 58.912 percent (29456/50000)\n",
      "--------------------------------------------------------------\n",
      "Accuracy of the network on the test images: 59.68 percent (373/625)\n",
      "--------------------------------------------------------------\n"
     ]
    },
    {
     "name": "stderr",
     "output_type": "stream",
     "text": [
      "100%|██████████| 3125/3125 [00:51<00:00, 60.87it/s]\n",
      "100%|██████████| 625/625 [00:01<00:00, 476.53it/s]\n",
      "  0%|          | 7/3125 [00:00<00:46, 66.83it/s]"
     ]
    },
    {
     "name": "stdout",
     "output_type": "stream",
     "text": [
      "--------------------------------------------------------------\n",
      "Epoch: 46\n",
      "--------------------------------------------------------------\n",
      "Trainig loss: 4.472246787872314\n",
      "--------------------------------------------------------------\n",
      "Accuracy of the network on the train images: 59.092 percent (29546/50000)\n",
      "--------------------------------------------------------------\n",
      "Accuracy of the network on the test images: 60.16 percent (376/625)\n",
      "--------------------------------------------------------------\n"
     ]
    },
    {
     "name": "stderr",
     "output_type": "stream",
     "text": [
      "100%|██████████| 3125/3125 [00:48<00:00, 64.25it/s]\n",
      "100%|██████████| 625/625 [00:01<00:00, 480.67it/s]\n",
      "  0%|          | 6/3125 [00:00<00:54, 57.07it/s]"
     ]
    },
    {
     "name": "stdout",
     "output_type": "stream",
     "text": [
      "--------------------------------------------------------------\n",
      "Epoch: 47\n",
      "--------------------------------------------------------------\n",
      "Trainig loss: 4.469401614456177\n",
      "--------------------------------------------------------------\n",
      "Accuracy of the network on the train images: 59.072 percent (29536/50000)\n",
      "--------------------------------------------------------------\n",
      "Accuracy of the network on the test images: 61.28 percent (383/625)\n",
      "--------------------------------------------------------------\n"
     ]
    },
    {
     "name": "stderr",
     "output_type": "stream",
     "text": [
      "100%|██████████| 3125/3125 [00:52<00:00, 57.12it/s]\n",
      "100%|██████████| 625/625 [00:01<00:00, 473.12it/s]\n",
      "  0%|          | 6/3125 [00:00<00:54, 57.61it/s]"
     ]
    },
    {
     "name": "stdout",
     "output_type": "stream",
     "text": [
      "--------------------------------------------------------------\n",
      "Epoch: 48\n",
      "--------------------------------------------------------------\n",
      "Trainig loss: 4.471884975204468\n",
      "--------------------------------------------------------------\n",
      "Accuracy of the network on the train images: 59.192 percent (29596/50000)\n",
      "--------------------------------------------------------------\n",
      "Accuracy of the network on the test images: 58.4 percent (365/625)\n",
      "--------------------------------------------------------------\n"
     ]
    },
    {
     "name": "stderr",
     "output_type": "stream",
     "text": [
      "100%|██████████| 3125/3125 [00:49<00:00, 63.71it/s]\n",
      "100%|██████████| 625/625 [00:01<00:00, 476.67it/s]\n",
      "  0%|          | 7/3125 [00:00<00:47, 66.21it/s]"
     ]
    },
    {
     "name": "stdout",
     "output_type": "stream",
     "text": [
      "--------------------------------------------------------------\n",
      "Epoch: 49\n",
      "--------------------------------------------------------------\n",
      "Trainig loss: 4.46783459098816\n",
      "--------------------------------------------------------------\n",
      "Accuracy of the network on the train images: 59.416 percent (29708/50000)\n",
      "--------------------------------------------------------------\n",
      "Accuracy of the network on the test images: 60.96 percent (381/625)\n",
      "--------------------------------------------------------------\n"
     ]
    },
    {
     "name": "stderr",
     "output_type": "stream",
     "text": [
      "100%|██████████| 3125/3125 [00:48<00:00, 64.65it/s]\n",
      "100%|██████████| 625/625 [00:01<00:00, 480.50it/s]\n",
      "  0%|          | 7/3125 [00:00<00:52, 59.71it/s]"
     ]
    },
    {
     "name": "stdout",
     "output_type": "stream",
     "text": [
      "--------------------------------------------------------------\n",
      "Epoch: 50\n",
      "--------------------------------------------------------------\n",
      "Trainig loss: 4.468274758834839\n",
      "--------------------------------------------------------------\n",
      "Accuracy of the network on the train images: 59.312 percent (29656/50000)\n",
      "--------------------------------------------------------------\n",
      "Accuracy of the network on the test images: 60.64 percent (379/625)\n",
      "--------------------------------------------------------------\n"
     ]
    },
    {
     "name": "stderr",
     "output_type": "stream",
     "text": [
      "100%|██████████| 3125/3125 [00:50<00:00, 61.39it/s]\n",
      "100%|██████████| 625/625 [00:01<00:00, 486.20it/s]\n",
      "  0%|          | 7/3125 [00:00<00:46, 67.17it/s]"
     ]
    },
    {
     "name": "stdout",
     "output_type": "stream",
     "text": [
      "--------------------------------------------------------------\n",
      "Epoch: 51\n",
      "--------------------------------------------------------------\n",
      "Trainig loss: 4.464874960784912\n",
      "--------------------------------------------------------------\n",
      "Accuracy of the network on the train images: 59.288 percent (29644/50000)\n",
      "--------------------------------------------------------------\n",
      "Accuracy of the network on the test images: 59.68 percent (373/625)\n",
      "--------------------------------------------------------------\n"
     ]
    },
    {
     "name": "stderr",
     "output_type": "stream",
     "text": [
      "100%|██████████| 3125/3125 [00:50<00:00, 61.97it/s]\n",
      "100%|██████████| 625/625 [00:01<00:00, 478.04it/s]\n",
      "  0%|          | 6/3125 [00:00<00:52, 59.49it/s]"
     ]
    },
    {
     "name": "stdout",
     "output_type": "stream",
     "text": [
      "--------------------------------------------------------------\n",
      "Epoch: 52\n",
      "--------------------------------------------------------------\n",
      "Trainig loss: 4.463615839157105\n",
      "--------------------------------------------------------------\n",
      "Accuracy of the network on the train images: 59.234 percent (29617/50000)\n",
      "--------------------------------------------------------------\n",
      "Accuracy of the network on the test images: 60.32 percent (377/625)\n",
      "--------------------------------------------------------------\n"
     ]
    },
    {
     "name": "stderr",
     "output_type": "stream",
     "text": [
      "100%|██████████| 3125/3125 [00:55<00:00, 56.58it/s]\n",
      "100%|██████████| 625/625 [00:01<00:00, 479.06it/s]\n",
      "  0%|          | 7/3125 [00:00<00:50, 61.97it/s]"
     ]
    },
    {
     "name": "stdout",
     "output_type": "stream",
     "text": [
      "--------------------------------------------------------------\n",
      "Epoch: 53\n",
      "--------------------------------------------------------------\n",
      "Trainig loss: 4.465508531799316\n",
      "--------------------------------------------------------------\n",
      "Accuracy of the network on the train images: 59.484 percent (29742/50000)\n",
      "--------------------------------------------------------------\n",
      "Accuracy of the network on the test images: 58.88 percent (368/625)\n",
      "--------------------------------------------------------------\n"
     ]
    },
    {
     "name": "stderr",
     "output_type": "stream",
     "text": [
      "100%|██████████| 3125/3125 [00:55<00:00, 56.37it/s]\n",
      "100%|██████████| 625/625 [00:01<00:00, 485.13it/s]\n",
      "  0%|          | 6/3125 [00:00<00:53, 58.07it/s]"
     ]
    },
    {
     "name": "stdout",
     "output_type": "stream",
     "text": [
      "--------------------------------------------------------------\n",
      "Epoch: 54\n",
      "--------------------------------------------------------------\n",
      "Trainig loss: 4.4617599747467045\n",
      "--------------------------------------------------------------\n",
      "Accuracy of the network on the train images: 59.216 percent (29608/50000)\n",
      "--------------------------------------------------------------\n",
      "Accuracy of the network on the test images: 57.6 percent (360/625)\n",
      "--------------------------------------------------------------\n"
     ]
    },
    {
     "name": "stderr",
     "output_type": "stream",
     "text": [
      "100%|██████████| 3125/3125 [00:54<00:00, 54.61it/s]\n",
      "100%|██████████| 625/625 [00:01<00:00, 471.41it/s]\n",
      "  0%|          | 6/3125 [00:00<00:59, 52.58it/s]"
     ]
    },
    {
     "name": "stdout",
     "output_type": "stream",
     "text": [
      "--------------------------------------------------------------\n",
      "Epoch: 55\n",
      "--------------------------------------------------------------\n",
      "Trainig loss: 4.462319760971069\n",
      "--------------------------------------------------------------\n",
      "Accuracy of the network on the train images: 59.256 percent (29628/50000)\n",
      "--------------------------------------------------------------\n",
      "Accuracy of the network on the test images: 61.28 percent (383/625)\n",
      "--------------------------------------------------------------\n"
     ]
    },
    {
     "name": "stderr",
     "output_type": "stream",
     "text": [
      "100%|██████████| 3125/3125 [00:51<00:00, 65.65it/s]\n",
      "100%|██████████| 625/625 [00:01<00:00, 480.32it/s]\n",
      "  0%|          | 7/3125 [00:00<00:47, 65.69it/s]"
     ]
    },
    {
     "name": "stdout",
     "output_type": "stream",
     "text": [
      "--------------------------------------------------------------\n",
      "Epoch: 56\n",
      "--------------------------------------------------------------\n",
      "Trainig loss: 4.461689300308228\n",
      "--------------------------------------------------------------\n",
      "Accuracy of the network on the train images: 59.302 percent (29651/50000)\n",
      "--------------------------------------------------------------\n",
      "Accuracy of the network on the test images: 61.76 percent (386/625)\n",
      "--------------------------------------------------------------\n"
     ]
    },
    {
     "name": "stderr",
     "output_type": "stream",
     "text": [
      "100%|██████████| 3125/3125 [00:53<00:00, 58.41it/s]\n",
      "100%|██████████| 625/625 [00:01<00:00, 615.83it/s]\n",
      "  0%|          | 7/3125 [00:00<00:50, 61.33it/s]"
     ]
    },
    {
     "name": "stdout",
     "output_type": "stream",
     "text": [
      "--------------------------------------------------------------\n",
      "Epoch: 57\n",
      "--------------------------------------------------------------\n",
      "Trainig loss: 4.458483860321045\n",
      "--------------------------------------------------------------\n",
      "Accuracy of the network on the train images: 59.344 percent (29672/50000)\n",
      "--------------------------------------------------------------\n",
      "Accuracy of the network on the test images: 60.32 percent (377/625)\n",
      "--------------------------------------------------------------\n"
     ]
    },
    {
     "name": "stderr",
     "output_type": "stream",
     "text": [
      "100%|██████████| 3125/3125 [00:50<00:00, 61.58it/s]\n",
      "100%|██████████| 625/625 [00:01<00:00, 476.47it/s]\n",
      "  0%|          | 7/3125 [00:00<00:47, 65.89it/s]"
     ]
    },
    {
     "name": "stdout",
     "output_type": "stream",
     "text": [
      "--------------------------------------------------------------\n",
      "Epoch: 58\n",
      "--------------------------------------------------------------\n",
      "Trainig loss: 4.457031405944824\n",
      "--------------------------------------------------------------\n",
      "Accuracy of the network on the train images: 59.69 percent (29845/50000)\n",
      "--------------------------------------------------------------\n",
      "Accuracy of the network on the test images: 60.64 percent (379/625)\n",
      "--------------------------------------------------------------\n"
     ]
    },
    {
     "name": "stderr",
     "output_type": "stream",
     "text": [
      "100%|██████████| 3125/3125 [00:51<00:00, 60.13it/s]\n",
      "100%|██████████| 625/625 [00:01<00:00, 396.15it/s]\n",
      "  0%|          | 6/3125 [00:00<00:59, 52.32it/s]"
     ]
    },
    {
     "name": "stdout",
     "output_type": "stream",
     "text": [
      "--------------------------------------------------------------\n",
      "Epoch: 59\n",
      "--------------------------------------------------------------\n",
      "Trainig loss: 4.457091675720215\n",
      "--------------------------------------------------------------\n",
      "Accuracy of the network on the train images: 59.262 percent (29631/50000)\n",
      "--------------------------------------------------------------\n",
      "Accuracy of the network on the test images: 60.32 percent (377/625)\n",
      "--------------------------------------------------------------\n"
     ]
    },
    {
     "name": "stderr",
     "output_type": "stream",
     "text": [
      "100%|██████████| 3125/3125 [00:56<00:00, 54.91it/s]\n",
      "100%|██████████| 625/625 [00:01<00:00, 471.97it/s]\n",
      "  0%|          | 6/3125 [00:00<00:54, 57.28it/s]"
     ]
    },
    {
     "name": "stdout",
     "output_type": "stream",
     "text": [
      "--------------------------------------------------------------\n",
      "Epoch: 60\n",
      "--------------------------------------------------------------\n",
      "Trainig loss: 4.456251717834473\n",
      "--------------------------------------------------------------\n",
      "Accuracy of the network on the train images: 59.554 percent (29777/50000)\n",
      "--------------------------------------------------------------\n",
      "Accuracy of the network on the test images: 61.76 percent (386/625)\n",
      "--------------------------------------------------------------\n"
     ]
    },
    {
     "name": "stderr",
     "output_type": "stream",
     "text": [
      "100%|██████████| 3125/3125 [00:54<00:00, 56.19it/s]\n",
      "100%|██████████| 625/625 [00:01<00:00, 484.64it/s]\n",
      "  0%|          | 7/3125 [00:00<00:51, 60.36it/s]"
     ]
    },
    {
     "name": "stdout",
     "output_type": "stream",
     "text": [
      "--------------------------------------------------------------\n",
      "Epoch: 61\n",
      "--------------------------------------------------------------\n",
      "Trainig loss: 4.4578470627594\n",
      "--------------------------------------------------------------\n",
      "Accuracy of the network on the train images: 59.674 percent (29837/50000)\n",
      "--------------------------------------------------------------\n",
      "Accuracy of the network on the test images: 60.64 percent (379/625)\n",
      "--------------------------------------------------------------\n"
     ]
    },
    {
     "name": "stderr",
     "output_type": "stream",
     "text": [
      "100%|██████████| 3125/3125 [00:56<00:00, 55.76it/s]\n",
      "100%|██████████| 625/625 [00:01<00:00, 486.10it/s]\n",
      "  0%|          | 6/3125 [00:00<00:54, 57.40it/s]"
     ]
    },
    {
     "name": "stdout",
     "output_type": "stream",
     "text": [
      "--------------------------------------------------------------\n",
      "Epoch: 62\n",
      "--------------------------------------------------------------\n",
      "Trainig loss: 4.459351893920898\n",
      "--------------------------------------------------------------\n",
      "Accuracy of the network on the train images: 59.46 percent (29730/50000)\n",
      "--------------------------------------------------------------\n",
      "Accuracy of the network on the test images: 59.2 percent (370/625)\n",
      "--------------------------------------------------------------\n"
     ]
    },
    {
     "name": "stderr",
     "output_type": "stream",
     "text": [
      "100%|██████████| 3125/3125 [00:54<00:00, 57.14it/s]\n",
      "100%|██████████| 625/625 [00:01<00:00, 477.77it/s]\n",
      "  0%|          | 6/3125 [00:00<00:54, 57.14it/s]"
     ]
    },
    {
     "name": "stdout",
     "output_type": "stream",
     "text": [
      "--------------------------------------------------------------\n",
      "Epoch: 63\n",
      "--------------------------------------------------------------\n",
      "Trainig loss: 4.463624753112793\n",
      "--------------------------------------------------------------\n",
      "Accuracy of the network on the train images: 59.344 percent (29672/50000)\n",
      "--------------------------------------------------------------\n",
      "Accuracy of the network on the test images: 60.96 percent (381/625)\n",
      "--------------------------------------------------------------\n"
     ]
    },
    {
     "name": "stderr",
     "output_type": "stream",
     "text": [
      "100%|██████████| 3125/3125 [00:54<00:00, 57.38it/s]\n",
      "100%|██████████| 625/625 [00:01<00:00, 476.22it/s]\n",
      "  0%|          | 6/3125 [00:00<00:56, 55.58it/s]"
     ]
    },
    {
     "name": "stdout",
     "output_type": "stream",
     "text": [
      "--------------------------------------------------------------\n",
      "Epoch: 64\n",
      "--------------------------------------------------------------\n",
      "Trainig loss: 4.460278659515381\n",
      "--------------------------------------------------------------\n",
      "Accuracy of the network on the train images: 59.61 percent (29805/50000)\n",
      "--------------------------------------------------------------\n",
      "Accuracy of the network on the test images: 62.08 percent (388/625)\n",
      "--------------------------------------------------------------\n"
     ]
    },
    {
     "name": "stderr",
     "output_type": "stream",
     "text": [
      "100%|██████████| 3125/3125 [00:54<00:00, 57.49it/s]\n",
      "100%|██████████| 625/625 [00:01<00:00, 480.75it/s]\n",
      "  0%|          | 7/3125 [00:00<00:47, 64.98it/s]"
     ]
    },
    {
     "name": "stdout",
     "output_type": "stream",
     "text": [
      "--------------------------------------------------------------\n",
      "Epoch: 65\n",
      "--------------------------------------------------------------\n",
      "Trainig loss: 4.457393229064942\n",
      "--------------------------------------------------------------\n",
      "Accuracy of the network on the train images: 59.604 percent (29802/50000)\n",
      "--------------------------------------------------------------\n",
      "Accuracy of the network on the test images: 62.4 percent (390/625)\n",
      "--------------------------------------------------------------\n"
     ]
    },
    {
     "name": "stderr",
     "output_type": "stream",
     "text": [
      "100%|██████████| 3125/3125 [00:55<00:00, 56.28it/s]\n",
      "100%|██████████| 625/625 [00:01<00:00, 496.68it/s]\n",
      "  0%|          | 6/3125 [00:00<00:58, 53.48it/s]"
     ]
    },
    {
     "name": "stdout",
     "output_type": "stream",
     "text": [
      "--------------------------------------------------------------\n",
      "Epoch: 66\n",
      "--------------------------------------------------------------\n",
      "Trainig loss: 4.449056984558106\n",
      "--------------------------------------------------------------\n",
      "Accuracy of the network on the train images: 59.688 percent (29844/50000)\n",
      "--------------------------------------------------------------\n",
      "Accuracy of the network on the test images: 59.2 percent (370/625)\n",
      "--------------------------------------------------------------\n"
     ]
    },
    {
     "name": "stderr",
     "output_type": "stream",
     "text": [
      "100%|██████████| 3125/3125 [00:55<00:00, 56.29it/s]\n",
      "100%|██████████| 625/625 [00:01<00:00, 482.60it/s]\n",
      "  0%|          | 5/3125 [00:00<01:12, 43.05it/s]"
     ]
    },
    {
     "name": "stdout",
     "output_type": "stream",
     "text": [
      "--------------------------------------------------------------\n",
      "Epoch: 67\n",
      "--------------------------------------------------------------\n",
      "Trainig loss: 4.453869697494507\n",
      "--------------------------------------------------------------\n",
      "Accuracy of the network on the train images: 59.57 percent (29785/50000)\n",
      "--------------------------------------------------------------\n",
      "Accuracy of the network on the test images: 59.04 percent (369/625)\n",
      "--------------------------------------------------------------\n"
     ]
    },
    {
     "name": "stderr",
     "output_type": "stream",
     "text": [
      "100%|██████████| 3125/3125 [00:58<00:00, 55.23it/s]\n",
      "100%|██████████| 625/625 [00:01<00:00, 486.00it/s]\n",
      "  0%|          | 6/3125 [00:00<00:52, 58.87it/s]"
     ]
    },
    {
     "name": "stdout",
     "output_type": "stream",
     "text": [
      "--------------------------------------------------------------\n",
      "Epoch: 68\n",
      "--------------------------------------------------------------\n",
      "Trainig loss: 4.453297398757934\n",
      "--------------------------------------------------------------\n",
      "Accuracy of the network on the train images: 59.844 percent (29922/50000)\n",
      "--------------------------------------------------------------\n",
      "Accuracy of the network on the test images: 57.12 percent (357/625)\n",
      "--------------------------------------------------------------\n"
     ]
    },
    {
     "name": "stderr",
     "output_type": "stream",
     "text": [
      "100%|██████████| 3125/3125 [00:58<00:00, 53.44it/s]\n",
      "100%|██████████| 625/625 [00:01<00:00, 473.16it/s]\n",
      "  0%|          | 6/3125 [00:00<00:59, 52.12it/s]"
     ]
    },
    {
     "name": "stdout",
     "output_type": "stream",
     "text": [
      "--------------------------------------------------------------\n",
      "Epoch: 69\n",
      "--------------------------------------------------------------\n",
      "Trainig loss: 4.453436958770752\n",
      "--------------------------------------------------------------\n",
      "Accuracy of the network on the train images: 59.56 percent (29780/50000)\n",
      "--------------------------------------------------------------\n",
      "Accuracy of the network on the test images: 60.48 percent (378/625)\n",
      "--------------------------------------------------------------\n"
     ]
    },
    {
     "name": "stderr",
     "output_type": "stream",
     "text": [
      "100%|██████████| 3125/3125 [00:56<00:00, 55.76it/s]\n",
      "100%|██████████| 625/625 [00:01<00:00, 521.73it/s]\n",
      "  0%|          | 5/3125 [00:00<01:04, 48.52it/s]"
     ]
    },
    {
     "name": "stdout",
     "output_type": "stream",
     "text": [
      "--------------------------------------------------------------\n",
      "Epoch: 70\n",
      "--------------------------------------------------------------\n",
      "Trainig loss: 4.452393629302978\n",
      "--------------------------------------------------------------\n",
      "Accuracy of the network on the train images: 59.586 percent (29793/50000)\n",
      "--------------------------------------------------------------\n",
      "Accuracy of the network on the test images: 60.64 percent (379/625)\n",
      "--------------------------------------------------------------\n"
     ]
    },
    {
     "name": "stderr",
     "output_type": "stream",
     "text": [
      "100%|██████████| 3125/3125 [00:57<00:00, 54.34it/s]\n",
      "100%|██████████| 625/625 [00:01<00:00, 460.93it/s]\n",
      "  0%|          | 5/3125 [00:00<01:04, 48.10it/s]"
     ]
    },
    {
     "name": "stdout",
     "output_type": "stream",
     "text": [
      "--------------------------------------------------------------\n",
      "Epoch: 71\n",
      "--------------------------------------------------------------\n",
      "Trainig loss: 4.452264652786255\n",
      "--------------------------------------------------------------\n",
      "Accuracy of the network on the train images: 59.354 percent (29677/50000)\n",
      "--------------------------------------------------------------\n",
      "Accuracy of the network on the test images: 57.92 percent (362/625)\n",
      "--------------------------------------------------------------\n"
     ]
    },
    {
     "name": "stderr",
     "output_type": "stream",
     "text": [
      "100%|██████████| 3125/3125 [00:56<00:00, 55.47it/s]\n",
      "100%|██████████| 625/625 [00:01<00:00, 483.94it/s]\n",
      "  0%|          | 6/3125 [00:00<00:57, 53.86it/s]"
     ]
    },
    {
     "name": "stdout",
     "output_type": "stream",
     "text": [
      "--------------------------------------------------------------\n",
      "Epoch: 72\n",
      "--------------------------------------------------------------\n",
      "Trainig loss: 4.450085944366455\n",
      "--------------------------------------------------------------\n",
      "Accuracy of the network on the train images: 59.562 percent (29781/50000)\n",
      "--------------------------------------------------------------\n",
      "Accuracy of the network on the test images: 60.0 percent (375/625)\n",
      "--------------------------------------------------------------\n"
     ]
    },
    {
     "name": "stderr",
     "output_type": "stream",
     "text": [
      "100%|██████████| 3125/3125 [00:57<00:00, 54.58it/s]\n",
      "100%|██████████| 625/625 [00:01<00:00, 483.91it/s]\n",
      "  0%|          | 6/3125 [00:00<00:58, 53.74it/s]"
     ]
    },
    {
     "name": "stdout",
     "output_type": "stream",
     "text": [
      "--------------------------------------------------------------\n",
      "Epoch: 73\n",
      "--------------------------------------------------------------\n",
      "Trainig loss: 4.447520790176392\n",
      "--------------------------------------------------------------\n",
      "Accuracy of the network on the train images: 59.654 percent (29827/50000)\n",
      "--------------------------------------------------------------\n",
      "Accuracy of the network on the test images: 58.56 percent (366/625)\n",
      "--------------------------------------------------------------\n"
     ]
    },
    {
     "name": "stderr",
     "output_type": "stream",
     "text": [
      "100%|██████████| 3125/3125 [00:58<00:00, 53.09it/s]\n",
      "100%|██████████| 625/625 [00:01<00:00, 486.23it/s]\n",
      "  0%|          | 6/3125 [00:00<00:58, 53.24it/s]"
     ]
    },
    {
     "name": "stdout",
     "output_type": "stream",
     "text": [
      "--------------------------------------------------------------\n",
      "Epoch: 74\n",
      "--------------------------------------------------------------\n",
      "Trainig loss: 4.446537017593384\n",
      "--------------------------------------------------------------\n",
      "Accuracy of the network on the train images: 59.544 percent (29772/50000)\n",
      "--------------------------------------------------------------\n",
      "Accuracy of the network on the test images: 59.68 percent (373/625)\n",
      "--------------------------------------------------------------\n"
     ]
    },
    {
     "name": "stderr",
     "output_type": "stream",
     "text": [
      "100%|██████████| 3125/3125 [00:56<00:00, 55.56it/s]\n",
      "100%|██████████| 625/625 [00:01<00:00, 473.18it/s]\n",
      "  0%|          | 7/3125 [00:00<00:47, 65.32it/s]"
     ]
    },
    {
     "name": "stdout",
     "output_type": "stream",
     "text": [
      "--------------------------------------------------------------\n",
      "Epoch: 75\n",
      "--------------------------------------------------------------\n",
      "Trainig loss: 4.447810096206665\n",
      "--------------------------------------------------------------\n",
      "Accuracy of the network on the train images: 59.482 percent (29741/50000)\n",
      "--------------------------------------------------------------\n",
      "Accuracy of the network on the test images: 58.24 percent (364/625)\n",
      "--------------------------------------------------------------\n"
     ]
    },
    {
     "name": "stderr",
     "output_type": "stream",
     "text": [
      "100%|██████████| 3125/3125 [00:57<00:00, 54.82it/s]\n",
      "100%|██████████| 625/625 [00:01<00:00, 490.62it/s]\n",
      "  0%|          | 6/3125 [00:00<00:54, 56.84it/s]"
     ]
    },
    {
     "name": "stdout",
     "output_type": "stream",
     "text": [
      "--------------------------------------------------------------\n",
      "Epoch: 76\n",
      "--------------------------------------------------------------\n",
      "Trainig loss: 4.445104792556763\n",
      "--------------------------------------------------------------\n",
      "Accuracy of the network on the train images: 59.636 percent (29818/50000)\n",
      "--------------------------------------------------------------\n",
      "Accuracy of the network on the test images: 61.6 percent (385/625)\n",
      "--------------------------------------------------------------\n"
     ]
    },
    {
     "name": "stderr",
     "output_type": "stream",
     "text": [
      "100%|██████████| 3125/3125 [00:57<00:00, 54.67it/s]\n",
      "100%|██████████| 625/625 [00:01<00:00, 492.09it/s]\n",
      "  0%|          | 6/3125 [00:00<01:00, 51.58it/s]"
     ]
    },
    {
     "name": "stdout",
     "output_type": "stream",
     "text": [
      "--------------------------------------------------------------\n",
      "Epoch: 77\n",
      "--------------------------------------------------------------\n",
      "Trainig loss: 4.443075377197266\n",
      "--------------------------------------------------------------\n",
      "Accuracy of the network on the train images: 59.724 percent (29862/50000)\n",
      "--------------------------------------------------------------\n",
      "Accuracy of the network on the test images: 59.68 percent (373/625)\n",
      "--------------------------------------------------------------\n"
     ]
    },
    {
     "name": "stderr",
     "output_type": "stream",
     "text": [
      "100%|██████████| 3125/3125 [00:57<00:00, 54.66it/s]\n",
      "100%|██████████| 625/625 [00:01<00:00, 420.18it/s]\n",
      "  0%|          | 6/3125 [00:00<00:59, 52.85it/s]"
     ]
    },
    {
     "name": "stdout",
     "output_type": "stream",
     "text": [
      "--------------------------------------------------------------\n",
      "Epoch: 78\n",
      "--------------------------------------------------------------\n",
      "Trainig loss: 4.443938307800293\n",
      "--------------------------------------------------------------\n",
      "Accuracy of the network on the train images: 59.664 percent (29832/50000)\n",
      "--------------------------------------------------------------\n",
      "Accuracy of the network on the test images: 62.4 percent (390/625)\n",
      "--------------------------------------------------------------\n"
     ]
    },
    {
     "name": "stderr",
     "output_type": "stream",
     "text": [
      "100%|██████████| 3125/3125 [00:54<00:00, 56.95it/s]\n",
      "100%|██████████| 625/625 [00:01<00:00, 485.14it/s]\n",
      "  0%|          | 6/3125 [00:00<00:56, 55.29it/s]"
     ]
    },
    {
     "name": "stdout",
     "output_type": "stream",
     "text": [
      "--------------------------------------------------------------\n",
      "Epoch: 79\n",
      "--------------------------------------------------------------\n",
      "Trainig loss: 4.443424372558594\n",
      "--------------------------------------------------------------\n",
      "Accuracy of the network on the train images: 59.84 percent (29920/50000)\n",
      "--------------------------------------------------------------\n",
      "Accuracy of the network on the test images: 60.8 percent (380/625)\n",
      "--------------------------------------------------------------\n"
     ]
    },
    {
     "name": "stderr",
     "output_type": "stream",
     "text": [
      "100%|██████████| 3125/3125 [00:50<00:00, 62.18it/s]\n",
      "100%|██████████| 625/625 [00:01<00:00, 470.52it/s]"
     ]
    },
    {
     "name": "stdout",
     "output_type": "stream",
     "text": [
      "--------------------------------------------------------------\n",
      "Epoch: 80\n",
      "--------------------------------------------------------------\n",
      "Trainig loss: 4.449116049118042\n",
      "--------------------------------------------------------------\n",
      "Accuracy of the network on the train images: 59.368 percent (29684/50000)\n",
      "--------------------------------------------------------------\n",
      "Accuracy of the network on the test images: 62.4 percent (390/625)\n",
      "--------------------------------------------------------------\n"
     ]
    },
    {
     "name": "stderr",
     "output_type": "stream",
     "text": [
      "\n"
     ]
    }
   ],
   "source": [
    "bayesian_train_acc = []\n",
    "bayesian_val_acc = []\n",
    "\n",
    "for epoch in range(1, num_epochs + 1):\n",
    "    # keep track of training and validation loss\n",
    "    train_loss = 0.0\n",
    "    valid_loss = 0.0\n",
    "\n",
    "    m_train = math.ceil(len(train_data) / batch_size)\n",
    "    m_test= math.ceil(len(test_data) / batch_size)\n",
    "\n",
    "    bnn.train()\n",
    "\n",
    "    total = 0\n",
    "    correct = 0\n",
    "\n",
    "    for batch_idx, (data, target) in zip(tqdm(range(m_train)),(train_loader)):\n",
    "        # move tensors to GPU if CUDA is available\n",
    "        if use_cuda:\n",
    "            data, target = data.cuda(), target.cuda()\n",
    "        beta = 1\n",
    "        optimizer.zero_grad()\n",
    "        # forward pass: compute predicted outputs by passing inputs to the model\n",
    "        output = bnn(data)\n",
    "\n",
    "        _, predicted = torch.max(output.data, 1)\n",
    "        total += target.size(0)\n",
    "        correct += (predicted == target).sum().item()\n",
    "\n",
    "        # calculate the batch loss\n",
    "        loss = neg_elbo(output, target, beta)\n",
    "        # backward pass: compute gradient of the loss with respect to model parameters\n",
    "        loss.backward()\n",
    "        # perform a single optimization step (parameter update)\n",
    "        optimizer.step()\n",
    "        # update training loss\n",
    "        train_loss += (loss.item() * data.size(0))\n",
    "\n",
    "    test_correct = 0\n",
    "    test_total = 0\n",
    "\n",
    "    with torch.no_grad():\n",
    "        bnn.eval()\n",
    "        for i, (test_input, test_target) in zip(tqdm(range(m_test)), test_loader):\n",
    "        # for (test_data, test_target) in test_loader:\n",
    "            test_input, test_target = test_input.cuda(), test_target.cuda()\n",
    "            test_outputs = bnn(test_input)\n",
    "            _, test_predicted = torch.max(test_outputs.data, 1)\n",
    "            test_total += test_target.size(0)\n",
    "            test_correct += (test_predicted == test_target).sum().item()\n",
    "\n",
    "    train_loss = train_loss / len(train_loader.dataset)\n",
    "\n",
    "    bayesian_train_acc.append(correct / total)\n",
    "    bayesian_val_acc.append(test_correct/ test_total)   \n",
    "        \n",
    "    \n",
    "    print('--------------------------------------------------------------')\n",
    "    print('Epoch:', epoch)\n",
    "    print('--------------------------------------------------------------')\n",
    "    print('Trainig loss:', train_loss)\n",
    "    print('--------------------------------------------------------------')\n",
    "    print('Accuracy of the network on the train images: {} percent ({}/{})'.format(\n",
    "            100 * correct / total, correct, total))\n",
    "    print('--------------------------------------------------------------')\n",
    "    try:\n",
    "        print('Accuracy of the network on the test images: {} percent ({}/{})'.format(\n",
    "                100 * test_correct/ test_total, test_correct,test_total))\n",
    "        print('--------------------------------------------------------------')\n",
    "    except:\n",
    "        pass"
   ]
  },
  {
   "cell_type": "code",
   "execution_count": 19,
   "metadata": {},
   "outputs": [
    {
     "data": {
      "image/png": "[encoded data removed]",
      "text/plain": [
       "<Figure size 432x288 with 1 Axes>"
      ]
     },
     "metadata": {
      "needs_background": "light"
     },
     "output_type": "display_data"
    }
   ],
   "source": [
    "f = plt.figure(0)\n",
    "plt.plot(range(len(bayesian_train_acc)),bayesian_train_acc)\n",
    "plt.plot(range(len(bayesian_val_acc)),bayesian_val_acc)\n",
    "plt.title('BNN')\n",
    "plt.xlabel('# Epochs')\n",
    "plt.ylabel('Accuracy (%)')\n",
    "plt.ylim(0.2,1)\n",
    "plt.yticks((np.arange(0.2,1.01,0.2)))\n",
    "\n",
    "plt.legend(('Train','Val'))\n",
    "f.savefig('freq_acc.pdf')"
   ]
  },
  {
   "cell_type": "code",
   "execution_count": 16,
   "metadata": {},
   "outputs": [
    {
     "name": "stderr",
     "output_type": "stream",
     "text": [
      "100%|██████████| 10000/10000 [04:26<00:00, 37.53it/s]\n",
      "  0%|          | 4/10000 [00:00<04:38, 35.91it/s]"
     ]
    },
    {
     "name": "stdout",
     "output_type": "stream",
     "text": [
      "Epsilon: 0.05\tEntropy = 1.2746459245681763\n"
     ]
    },
    {
     "name": "stderr",
     "output_type": "stream",
     "text": [
      "100%|██████████| 10000/10000 [04:31<00:00, 36.85it/s]\n",
      "  0%|          | 4/10000 [00:00<04:30, 36.89it/s]"
     ]
    },
    {
     "name": "stdout",
     "output_type": "stream",
     "text": [
      "Epsilon: 0.1\tEntropy = 1.3682372570037842\n"
     ]
    },
    {
     "name": "stderr",
     "output_type": "stream",
     "text": [
      "100%|██████████| 10000/10000 [04:34<00:00, 37.63it/s]\n",
      "  0%|          | 4/10000 [00:00<04:25, 37.66it/s]"
     ]
    },
    {
     "name": "stdout",
     "output_type": "stream",
     "text": [
      "Epsilon: 0.15\tEntropy = 1.3390986919403076\n"
     ]
    },
    {
     "name": "stderr",
     "output_type": "stream",
     "text": [
      "100%|██████████| 10000/10000 [04:32<00:00, 36.74it/s]\n",
      "  0%|          | 5/10000 [00:00<04:10, 39.96it/s]"
     ]
    },
    {
     "name": "stdout",
     "output_type": "stream",
     "text": [
      "Epsilon: 0.2\tEntropy = 1.2525408267974854\n"
     ]
    },
    {
     "name": "stderr",
     "output_type": "stream",
     "text": [
      "  1%|▏         | 135/10000 [00:03<04:30, 36.44it/s]\n"
     ]
    },
    {
     "ename": "KeyboardInterrupt",
     "evalue": "",
     "output_type": "error",
     "traceback": [
      "\u001b[0;31m---------------------------------------------------------------------------\u001b[0m",
      "\u001b[0;31mKeyboardInterrupt\u001b[0m                         Traceback (most recent call last)",
      "\u001b[0;32m<ipython-input-16-b892c550ad40>\u001b[0m in \u001b[0;36m<module>\u001b[0;34m\u001b[0m\n\u001b[1;32m      7\u001b[0m \u001b[0;31m# Run test for each epsilon\u001b[0m\u001b[0;34m\u001b[0m\u001b[0;34m\u001b[0m\u001b[0;34m\u001b[0m\u001b[0m\n\u001b[1;32m      8\u001b[0m \u001b[0;32mfor\u001b[0m \u001b[0meps\u001b[0m \u001b[0;32min\u001b[0m \u001b[0mepsilons\u001b[0m\u001b[0;34m:\u001b[0m\u001b[0;34m\u001b[0m\u001b[0;34m\u001b[0m\u001b[0m\n\u001b[0;32m----> 9\u001b[0;31m     \u001b[0mentropy\u001b[0m\u001b[0;34m,\u001b[0m \u001b[0mmax_entropy\u001b[0m \u001b[0;34m=\u001b[0m \u001b[0mentropy_vs_eps\u001b[0m\u001b[0;34m(\u001b[0m\u001b[0mbnn\u001b[0m\u001b[0;34m,\u001b[0m \u001b[0mdevice\u001b[0m\u001b[0;34m,\u001b[0m \u001b[0mtest_loader\u001b[0m\u001b[0;34m,\u001b[0m \u001b[0meps\u001b[0m\u001b[0;34m,\u001b[0m \u001b[0mnum_samples\u001b[0m\u001b[0;34m)\u001b[0m\u001b[0;34m\u001b[0m\u001b[0;34m\u001b[0m\u001b[0m\n\u001b[0m\u001b[1;32m     10\u001b[0m     \u001b[0mentropies\u001b[0m\u001b[0;34m.\u001b[0m\u001b[0mappend\u001b[0m\u001b[0;34m(\u001b[0m\u001b[0mentropy\u001b[0m\u001b[0;34m)\u001b[0m\u001b[0;34m\u001b[0m\u001b[0;34m\u001b[0m\u001b[0m\n\u001b[1;32m     11\u001b[0m \u001b[0;34m\u001b[0m\u001b[0m\n",
      "\u001b[0;32m<ipython-input-5-466585f55d6e>\u001b[0m in \u001b[0;36mentropy_vs_eps\u001b[0;34m(model, device, test_loader, epsilon, num_samples)\u001b[0m\n\u001b[1;32m     39\u001b[0m         \u001b[0;32mfor\u001b[0m \u001b[0msample\u001b[0m \u001b[0;32min\u001b[0m \u001b[0mrange\u001b[0m\u001b[0;34m(\u001b[0m\u001b[0mnum_samples\u001b[0m\u001b[0;34m)\u001b[0m\u001b[0;34m:\u001b[0m\u001b[0;34m\u001b[0m\u001b[0;34m\u001b[0m\u001b[0m\n\u001b[1;32m     40\u001b[0m             \u001b[0;31m# Forward pass the data through the model\u001b[0m\u001b[0;34m\u001b[0m\u001b[0;34m\u001b[0m\u001b[0;34m\u001b[0m\u001b[0m\n\u001b[0;32m---> 41\u001b[0;31m             \u001b[0moutput\u001b[0m \u001b[0;34m=\u001b[0m \u001b[0mmodel\u001b[0m\u001b[0;34m(\u001b[0m\u001b[0mperturbed_data\u001b[0m\u001b[0;34m)\u001b[0m\u001b[0;34m\u001b[0m\u001b[0;34m\u001b[0m\u001b[0m\n\u001b[0m\u001b[1;32m     42\u001b[0m             \u001b[0mprobs\u001b[0m \u001b[0;34m=\u001b[0m \u001b[0msoftmax\u001b[0m\u001b[0;34m(\u001b[0m\u001b[0moutput\u001b[0m\u001b[0;34m.\u001b[0m\u001b[0mdata\u001b[0m\u001b[0;34m)\u001b[0m\u001b[0;34m\u001b[0m\u001b[0;34m\u001b[0m\u001b[0m\n\u001b[1;32m     43\u001b[0m             \u001b[0mentropy_tmp\u001b[0m \u001b[0;34m+=\u001b[0m \u001b[0mget_entropy\u001b[0m\u001b[0;34m(\u001b[0m\u001b[0mprobs\u001b[0m\u001b[0;34m)\u001b[0m\u001b[0;34m\u001b[0m\u001b[0;34m\u001b[0m\u001b[0m\n",
      "\u001b[0;32m/srv/blessing/python/lib/python3.7/site-packages/torch/nn/modules/module.py\u001b[0m in \u001b[0;36m__call__\u001b[0;34m(self, *input, **kwargs)\u001b[0m\n\u001b[1;32m    491\u001b[0m             \u001b[0mresult\u001b[0m \u001b[0;34m=\u001b[0m \u001b[0mself\u001b[0m\u001b[0;34m.\u001b[0m\u001b[0m_slow_forward\u001b[0m\u001b[0;34m(\u001b[0m\u001b[0;34m*\u001b[0m\u001b[0minput\u001b[0m\u001b[0;34m,\u001b[0m \u001b[0;34m**\u001b[0m\u001b[0mkwargs\u001b[0m\u001b[0;34m)\u001b[0m\u001b[0;34m\u001b[0m\u001b[0;34m\u001b[0m\u001b[0m\n\u001b[1;32m    492\u001b[0m         \u001b[0;32melse\u001b[0m\u001b[0;34m:\u001b[0m\u001b[0;34m\u001b[0m\u001b[0;34m\u001b[0m\u001b[0m\n\u001b[0;32m--> 493\u001b[0;31m             \u001b[0mresult\u001b[0m \u001b[0;34m=\u001b[0m \u001b[0mself\u001b[0m\u001b[0;34m.\u001b[0m\u001b[0mforward\u001b[0m\u001b[0;34m(\u001b[0m\u001b[0;34m*\u001b[0m\u001b[0minput\u001b[0m\u001b[0;34m,\u001b[0m \u001b[0;34m**\u001b[0m\u001b[0mkwargs\u001b[0m\u001b[0;34m)\u001b[0m\u001b[0;34m\u001b[0m\u001b[0;34m\u001b[0m\u001b[0m\n\u001b[0m\u001b[1;32m    494\u001b[0m         \u001b[0;32mfor\u001b[0m \u001b[0mhook\u001b[0m \u001b[0;32min\u001b[0m \u001b[0mself\u001b[0m\u001b[0;34m.\u001b[0m\u001b[0m_forward_hooks\u001b[0m\u001b[0;34m.\u001b[0m\u001b[0mvalues\u001b[0m\u001b[0;34m(\u001b[0m\u001b[0;34m)\u001b[0m\u001b[0;34m:\u001b[0m\u001b[0;34m\u001b[0m\u001b[0;34m\u001b[0m\u001b[0m\n\u001b[1;32m    495\u001b[0m             \u001b[0mhook_result\u001b[0m \u001b[0;34m=\u001b[0m \u001b[0mhook\u001b[0m\u001b[0;34m(\u001b[0m\u001b[0mself\u001b[0m\u001b[0;34m,\u001b[0m \u001b[0minput\u001b[0m\u001b[0;34m,\u001b[0m \u001b[0mresult\u001b[0m\u001b[0;34m)\u001b[0m\u001b[0;34m\u001b[0m\u001b[0;34m\u001b[0m\u001b[0m\n",
      "\u001b[0;32m/srv/blessing/Bayesian_Neural_Networks/Bayesian-Resnet/model_BNN_test.py\u001b[0m in \u001b[0;36mforward\u001b[0;34m(self, x)\u001b[0m\n\u001b[1;32m     31\u001b[0m         \u001b[0mx\u001b[0m \u001b[0;34m=\u001b[0m \u001b[0mself\u001b[0m\u001b[0;34m.\u001b[0m\u001b[0mpool1\u001b[0m\u001b[0;34m(\u001b[0m\u001b[0mx\u001b[0m\u001b[0;34m)\u001b[0m\u001b[0;34m\u001b[0m\u001b[0;34m\u001b[0m\u001b[0m\n\u001b[1;32m     32\u001b[0m         \u001b[0mx\u001b[0m \u001b[0;34m=\u001b[0m \u001b[0mself\u001b[0m\u001b[0;34m.\u001b[0m\u001b[0mconv2\u001b[0m\u001b[0;34m(\u001b[0m\u001b[0mx\u001b[0m\u001b[0;34m)\u001b[0m\u001b[0;34m\u001b[0m\u001b[0;34m\u001b[0m\u001b[0m\n\u001b[0;32m---> 33\u001b[0;31m         \u001b[0mx\u001b[0m \u001b[0;34m=\u001b[0m \u001b[0mself\u001b[0m\u001b[0;34m.\u001b[0m\u001b[0mconv2_bn\u001b[0m\u001b[0;34m(\u001b[0m\u001b[0mx\u001b[0m\u001b[0;34m)\u001b[0m\u001b[0;34m\u001b[0m\u001b[0;34m\u001b[0m\u001b[0m\n\u001b[0m\u001b[1;32m     34\u001b[0m         \u001b[0mx\u001b[0m \u001b[0;34m=\u001b[0m \u001b[0mself\u001b[0m\u001b[0;34m.\u001b[0m\u001b[0msoft2\u001b[0m\u001b[0;34m(\u001b[0m\u001b[0mx\u001b[0m\u001b[0;34m)\u001b[0m\u001b[0;34m\u001b[0m\u001b[0;34m\u001b[0m\u001b[0m\n\u001b[1;32m     35\u001b[0m         \u001b[0mx\u001b[0m \u001b[0;34m=\u001b[0m \u001b[0mself\u001b[0m\u001b[0;34m.\u001b[0m\u001b[0mpool2\u001b[0m\u001b[0;34m(\u001b[0m\u001b[0mx\u001b[0m\u001b[0;34m)\u001b[0m\u001b[0;34m\u001b[0m\u001b[0;34m\u001b[0m\u001b[0m\n",
      "\u001b[0;32m/srv/blessing/python/lib/python3.7/site-packages/torch/nn/modules/module.py\u001b[0m in \u001b[0;36m__call__\u001b[0;34m(self, *input, **kwargs)\u001b[0m\n\u001b[1;32m    491\u001b[0m             \u001b[0mresult\u001b[0m \u001b[0;34m=\u001b[0m \u001b[0mself\u001b[0m\u001b[0;34m.\u001b[0m\u001b[0m_slow_forward\u001b[0m\u001b[0;34m(\u001b[0m\u001b[0;34m*\u001b[0m\u001b[0minput\u001b[0m\u001b[0;34m,\u001b[0m \u001b[0;34m**\u001b[0m\u001b[0mkwargs\u001b[0m\u001b[0;34m)\u001b[0m\u001b[0;34m\u001b[0m\u001b[0;34m\u001b[0m\u001b[0m\n\u001b[1;32m    492\u001b[0m         \u001b[0;32melse\u001b[0m\u001b[0;34m:\u001b[0m\u001b[0;34m\u001b[0m\u001b[0;34m\u001b[0m\u001b[0m\n\u001b[0;32m--> 493\u001b[0;31m             \u001b[0mresult\u001b[0m \u001b[0;34m=\u001b[0m \u001b[0mself\u001b[0m\u001b[0;34m.\u001b[0m\u001b[0mforward\u001b[0m\u001b[0;34m(\u001b[0m\u001b[0;34m*\u001b[0m\u001b[0minput\u001b[0m\u001b[0;34m,\u001b[0m \u001b[0;34m**\u001b[0m\u001b[0mkwargs\u001b[0m\u001b[0;34m)\u001b[0m\u001b[0;34m\u001b[0m\u001b[0;34m\u001b[0m\u001b[0m\n\u001b[0m\u001b[1;32m    494\u001b[0m         \u001b[0;32mfor\u001b[0m \u001b[0mhook\u001b[0m \u001b[0;32min\u001b[0m \u001b[0mself\u001b[0m\u001b[0;34m.\u001b[0m\u001b[0m_forward_hooks\u001b[0m\u001b[0;34m.\u001b[0m\u001b[0mvalues\u001b[0m\u001b[0;34m(\u001b[0m\u001b[0;34m)\u001b[0m\u001b[0;34m:\u001b[0m\u001b[0;34m\u001b[0m\u001b[0;34m\u001b[0m\u001b[0m\n\u001b[1;32m    495\u001b[0m             \u001b[0mhook_result\u001b[0m \u001b[0;34m=\u001b[0m \u001b[0mhook\u001b[0m\u001b[0;34m(\u001b[0m\u001b[0mself\u001b[0m\u001b[0;34m,\u001b[0m \u001b[0minput\u001b[0m\u001b[0;34m,\u001b[0m \u001b[0mresult\u001b[0m\u001b[0;34m)\u001b[0m\u001b[0;34m\u001b[0m\u001b[0;34m\u001b[0m\u001b[0m\n",
      "\u001b[0;32m/srv/blessing/python/lib/python3.7/site-packages/torch/nn/modules/batchnorm.py\u001b[0m in \u001b[0;36mforward\u001b[0;34m(self, input)\u001b[0m\n\u001b[1;32m     81\u001b[0m             \u001b[0minput\u001b[0m\u001b[0;34m,\u001b[0m \u001b[0mself\u001b[0m\u001b[0;34m.\u001b[0m\u001b[0mrunning_mean\u001b[0m\u001b[0;34m,\u001b[0m \u001b[0mself\u001b[0m\u001b[0;34m.\u001b[0m\u001b[0mrunning_var\u001b[0m\u001b[0;34m,\u001b[0m \u001b[0mself\u001b[0m\u001b[0;34m.\u001b[0m\u001b[0mweight\u001b[0m\u001b[0;34m,\u001b[0m \u001b[0mself\u001b[0m\u001b[0;34m.\u001b[0m\u001b[0mbias\u001b[0m\u001b[0;34m,\u001b[0m\u001b[0;34m\u001b[0m\u001b[0;34m\u001b[0m\u001b[0m\n\u001b[1;32m     82\u001b[0m             \u001b[0mself\u001b[0m\u001b[0;34m.\u001b[0m\u001b[0mtraining\u001b[0m \u001b[0;32mor\u001b[0m \u001b[0;32mnot\u001b[0m \u001b[0mself\u001b[0m\u001b[0;34m.\u001b[0m\u001b[0mtrack_running_stats\u001b[0m\u001b[0;34m,\u001b[0m\u001b[0;34m\u001b[0m\u001b[0;34m\u001b[0m\u001b[0m\n\u001b[0;32m---> 83\u001b[0;31m             exponential_average_factor, self.eps)\n\u001b[0m\u001b[1;32m     84\u001b[0m \u001b[0;34m\u001b[0m\u001b[0m\n\u001b[1;32m     85\u001b[0m     \u001b[0;32mdef\u001b[0m \u001b[0mextra_repr\u001b[0m\u001b[0;34m(\u001b[0m\u001b[0mself\u001b[0m\u001b[0;34m)\u001b[0m\u001b[0;34m:\u001b[0m\u001b[0;34m\u001b[0m\u001b[0;34m\u001b[0m\u001b[0m\n",
      "\u001b[0;32m/srv/blessing/python/lib/python3.7/site-packages/torch/nn/functional.py\u001b[0m in \u001b[0;36mbatch_norm\u001b[0;34m(input, running_mean, running_var, weight, bias, training, momentum, eps)\u001b[0m\n\u001b[1;32m   1695\u001b[0m     return torch.batch_norm(\n\u001b[1;32m   1696\u001b[0m         \u001b[0minput\u001b[0m\u001b[0;34m,\u001b[0m \u001b[0mweight\u001b[0m\u001b[0;34m,\u001b[0m \u001b[0mbias\u001b[0m\u001b[0;34m,\u001b[0m \u001b[0mrunning_mean\u001b[0m\u001b[0;34m,\u001b[0m \u001b[0mrunning_var\u001b[0m\u001b[0;34m,\u001b[0m\u001b[0;34m\u001b[0m\u001b[0;34m\u001b[0m\u001b[0m\n\u001b[0;32m-> 1697\u001b[0;31m         \u001b[0mtraining\u001b[0m\u001b[0;34m,\u001b[0m \u001b[0mmomentum\u001b[0m\u001b[0;34m,\u001b[0m \u001b[0meps\u001b[0m\u001b[0;34m,\u001b[0m \u001b[0mtorch\u001b[0m\u001b[0;34m.\u001b[0m\u001b[0mbackends\u001b[0m\u001b[0;34m.\u001b[0m\u001b[0mcudnn\u001b[0m\u001b[0;34m.\u001b[0m\u001b[0menabled\u001b[0m\u001b[0;34m\u001b[0m\u001b[0;34m\u001b[0m\u001b[0m\n\u001b[0m\u001b[1;32m   1698\u001b[0m     )\n\u001b[1;32m   1699\u001b[0m \u001b[0;34m\u001b[0m\u001b[0m\n",
      "\u001b[0;31mKeyboardInterrupt\u001b[0m: "
     ]
    }
   ],
   "source": [
    "entropies = []\n",
    "device = torch.device('cuda') if torch.cuda.is_available() else torch.device('cpu')\n",
    "epsilons = [.05, .1, .15, .2, .25, .3]\n",
    "#epsilons = [0, .001, .005, .01]\n",
    "num_samples = 10\n",
    "\n",
    "# Run test for each epsilon\n",
    "for eps in epsilons:\n",
    "    entropy, max_entropy = entropy_vs_eps(bnn, device, test_loader, eps, num_samples)\n",
    "    entropies.append(entropy)\n",
    "    \n",
    "ax = fig.add_subplot()\n",
    "plt.plot(epsilons, entropies, \"*-\")\n",
    "plt.yticks(np.linspace(0, max_entropy, 5))\n",
    "plt.xticks(np.arange(0, .35, step=0.05))\n",
    "plt.title(\"Entropy vs Epsilon\")\n",
    "plt.xlabel(\"Epsilon\")\n",
    "plt.ylabel(\"Entropy\")\n",
    "plt.show()"
   ]
  },
  {
   "cell_type": "code",
   "execution_count": 15,
   "metadata": {},
   "outputs": [
    {
     "ename": "NameError",
     "evalue": "name 'device' is not defined",
     "output_type": "error",
     "traceback": [
      "\u001b[0;31m---------------------------------------------------------------------------\u001b[0m",
      "\u001b[0;31mNameError\u001b[0m                                 Traceback (most recent call last)",
      "\u001b[0;32m<ipython-input-15-cd66962a0f39>\u001b[0m in \u001b[0;36m<module>\u001b[0;34m\u001b[0m\n\u001b[1;32m      7\u001b[0m \u001b[0;31m# Run test for each epsilon\u001b[0m\u001b[0;34m\u001b[0m\u001b[0;34m\u001b[0m\u001b[0;34m\u001b[0m\u001b[0m\n\u001b[1;32m      8\u001b[0m \u001b[0;32mfor\u001b[0m \u001b[0meps\u001b[0m \u001b[0;32min\u001b[0m \u001b[0mepsilons\u001b[0m\u001b[0;34m:\u001b[0m\u001b[0;34m\u001b[0m\u001b[0;34m\u001b[0m\u001b[0m\n\u001b[0;32m----> 9\u001b[0;31m     \u001b[0macc\u001b[0m\u001b[0;34m,\u001b[0m \u001b[0mex\u001b[0m \u001b[0;34m=\u001b[0m \u001b[0macc_vs_eps\u001b[0m\u001b[0;34m(\u001b[0m\u001b[0mbnn\u001b[0m\u001b[0;34m,\u001b[0m \u001b[0mdevice\u001b[0m\u001b[0;34m,\u001b[0m \u001b[0mtest_loader\u001b[0m\u001b[0;34m,\u001b[0m \u001b[0meps\u001b[0m\u001b[0;34m)\u001b[0m\u001b[0;34m\u001b[0m\u001b[0;34m\u001b[0m\u001b[0m\n\u001b[0m\u001b[1;32m     10\u001b[0m     \u001b[0maccuracies\u001b[0m\u001b[0;34m.\u001b[0m\u001b[0mappend\u001b[0m\u001b[0;34m(\u001b[0m\u001b[0maccuracies\u001b[0m\u001b[0;34m)\u001b[0m\u001b[0;34m\u001b[0m\u001b[0;34m\u001b[0m\u001b[0m\n\u001b[1;32m     11\u001b[0m     \u001b[0mexamples\u001b[0m\u001b[0;34m.\u001b[0m\u001b[0mappend\u001b[0m\u001b[0;34m(\u001b[0m\u001b[0mex\u001b[0m\u001b[0;34m)\u001b[0m\u001b[0;34m\u001b[0m\u001b[0;34m\u001b[0m\u001b[0m\n",
      "\u001b[0;31mNameError\u001b[0m: name 'device' is not defined"
     ]
    }
   ],
   "source": [
    "accuracies = []\n",
    "examples = []\n",
    "device = torch.device('cuda') if torch.cuda.is_available() else torch.device('cpu')\n",
    "epsilons = [.05, .1, .15, .2, .25, .3]\n",
    "#epsilons = [0, .001, .005, .01]\n",
    "\n",
    "# Run test for each epsilon\n",
    "for eps in epsilons:\n",
    "    acc, ex = acc_vs_eps(bnn, device, test_loader, eps)\n",
    "    accuracies.append(accuracies)\n",
    "    examples.append(ex)\n",
    "    \n",
    "ax = fig.add_subplot()\n",
    "plt.plot(epsilons, accuracies, \"*-\")\n",
    "plt.yticks(np.arange(0, 1.1, step=0.1))\n",
    "plt.xticks(np.arange(0, .35, step=0.05))\n",
    "plt.title(\"Accuracy vs Epsilon\")\n",
    "plt.xlabel(\"Epsilon\")\n",
    "plt.ylabel(\"Accuracy\")\n",
    "plt.show()"
   ]
  },
  {
   "cell_type": "code",
   "execution_count": null,
   "metadata": {},
   "outputs": [],
   "source": [
    "# fig, ax_array = plt.subplots(num_epochs, int(len(var_list)/num_epochs))\n",
    "\n",
    "fig = plt.figure(figsize=(15,5))\n",
    "plt.subplots_adjust(hspace=2)\n",
    "\n",
    "ax = fig.add_subplot(1, 2, 1)\n",
    "plt.plot(epsilons, accuracies, \"*-\")\n",
    "plt.yticks(np.arange(0, 1.1, step=0.1))\n",
    "plt.xticks(np.arange(0, .35, step=0.05))\n",
    "plt.title(\"Accuracy vs Epsilon\")\n",
    "plt.xlabel(\"Epsilon\")\n",
    "plt.ylabel(\"Accuracy\")\n",
    "\n",
    "ax = fig.add_subplot(1, 2, 2)\n",
    "plt.plot(epsilons, entropies, \"*-\")\n",
    "plt.yticks(np.linspace(0, max_entropy, 5))\n",
    "plt.xticks(np.arange(0, .35, step=0.05))\n",
    "plt.title(\"Entropy vs Epsilon\")\n",
    "plt.xlabel(\"Epsilon\")\n",
    "plt.ylabel(\"Entropy\")\n",
    "plt.show()"
   ]
  },
  {
   "cell_type": "code",
   "execution_count": null,
   "metadata": {},
   "outputs": [],
   "source": []
  },
  {
   "cell_type": "code",
   "execution_count": null,
   "metadata": {},
   "outputs": [],
   "source": [
    "a = np.array((0.3,0.4,0.2,0.1))\n",
    "b= np.array((0.25,0.25,0.25,0.25))\n",
    "c = np.array((1,0,0,0))\n",
    "d = np.vstack((a,b,c))\n",
    "\n",
    "for i in [a,b,c,d]:\n",
    "    try:\n",
    "        print(-torch.sum(i * np.log(1e-16 + i), 1))\n",
    "    except:\n",
    "        print(-torch.sum(i * np.log(1e-16 + i)))"
   ]
  }
 ],
 "metadata": {
  "kernelspec": {
   "display_name": "Python 3",
   "language": "python",
   "name": "python3"
  },
  "language_info": {
   "codemirror_mode": {
    "name": "ipython",
    "version": 3
   },
   "file_extension": ".py",
   "mimetype": "text/x-python",
   "name": "python",
   "nbconvert_exporter": "python",
   "pygments_lexer": "ipython3",
   "version": "3.7.3"
  }
 },
 "nbformat": 4,
 "nbformat_minor": 2
}
