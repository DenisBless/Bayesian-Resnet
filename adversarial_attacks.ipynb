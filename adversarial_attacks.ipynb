{
 "cells": [
  {
   "cell_type": "code",
   "execution_count": 1,
   "metadata": {},
   "outputs": [],
   "source": [
    "from __future__ import print_function\n",
    "import math\n",
    "import torchvision.transforms as transforms\n",
    "import torch\n",
    "import torch.utils.data as data\n",
    "import numpy as np\n",
    "import torch.nn as nn\n",
    "import torch.optim as optim\n",
    "from torchvision import datasets\n",
    "from tqdm import tqdm\n",
    "from utils_BNN_resnet import neg_ELBO, Logger\n",
    "from BayesianResnet import resnet18\n",
    "import torchvision.models as models\n",
    "from model_BNN_test import Small_conv_net\n",
    "import torch.nn.functional as F\n",
    "from model_SNN import Net\n",
    "import matplotlib.pyplot as plt"
   ]
  },
  {
   "cell_type": "markdown",
   "metadata": {},
   "source": [
    "# Setup"
   ]
  },
  {
   "cell_type": "code",
   "execution_count": 2,
   "metadata": {},
   "outputs": [],
   "source": [
    "use_cuda = torch.cuda.is_available()\n",
    "\n",
    "learning_rate = 0.001\n",
    "weight_decay = 0\n",
    "batch_size = 16\n",
    "num_epochs = 7"
   ]
  },
  {
   "cell_type": "code",
   "execution_count": 3,
   "metadata": {},
   "outputs": [],
   "source": [
    "# convert data to a normalized torch.FloatTensor\n",
    "transform = transforms.Compose([\n",
    "    transforms.ToTensor(),\n",
    "    transforms.Normalize((0.4914, 0.4822, 0.4465), (0.247, 0.243, 0.261))\n",
    "    ])"
   ]
  },
  {
   "cell_type": "code",
   "execution_count": 4,
   "metadata": {},
   "outputs": [
    {
     "name": "stdout",
     "output_type": "stream",
     "text": [
      "Files already downloaded and verified\n",
      "Files already downloaded and verified\n"
     ]
    }
   ],
   "source": [
    "# choose the training and test datasets\n",
    "train_data = datasets.CIFAR10('data', train=True,\n",
    "                              download=True, transform=transform)\n",
    "test_data = datasets.CIFAR10('data', train=False,\n",
    "                             download=True, transform=transform)\n",
    "\n",
    "# prepare data loaders (combine dataset and sampler)\n",
    "train_loader = torch.utils.data.DataLoader(train_data, batch_size=16)\n",
    "\n",
    "test_loader = torch.utils.data.DataLoader(test_data, batch_size=1)"
   ]
  },
  {
   "cell_type": "markdown",
   "metadata": {},
   "source": [
    "# Frequentist Net"
   ]
  },
  {
   "cell_type": "code",
   "execution_count": 5,
   "metadata": {},
   "outputs": [],
   "source": [
    "device = torch.device(\"cuda\" if (use_cuda and torch.cuda.is_available()) else \"cpu\")\n",
    "# Initialize the network\n",
    "model = Net().to(device)\n",
    "\n",
    "criterion=nn.CrossEntropyLoss()\n",
    "optimizer = optim.Adam(model.parameters(), lr=learning_rate)"
   ]
  },
  {
   "cell_type": "code",
   "execution_count": 6,
   "metadata": {},
   "outputs": [
    {
     "name": "stderr",
     "output_type": "stream",
     "text": [
      "100%|██████████████████████████████████████████████████████████████████████████████| 3125/3125 [00:32<00:00, 98.17it/s]\n",
      "100%|███████████████████████████████████████████████████████████████████████████████| 625/625 [00:01<00:00, 549.38it/s]\n"
     ]
    },
    {
     "name": "stdout",
     "output_type": "stream",
     "text": [
      "--------------------------------------------------------------\n",
      "Epoch: 1\n",
      "--------------------------------------------------------------\n",
      "Trainig loss: 1.5094007669067382\n",
      "--------------------------------------------------------------\n",
      "Accuracy of the network on the train images: 46.004 percent (23002/50000)\n",
      "--------------------------------------------------------------\n",
      "Accuracy of the network on the test images: 45.28 percent (283/625)\n",
      "--------------------------------------------------------------\n"
     ]
    },
    {
     "name": "stderr",
     "output_type": "stream",
     "text": [
      "100%|██████████████████████████████████████████████████████████████████████████████| 3125/3125 [00:32<00:00, 97.62it/s]\n",
      "100%|███████████████████████████████████████████████████████████████████████████████| 625/625 [00:01<00:00, 543.55it/s]\n"
     ]
    },
    {
     "name": "stdout",
     "output_type": "stream",
     "text": [
      "--------------------------------------------------------------\n",
      "Epoch: 2\n",
      "--------------------------------------------------------------\n",
      "Trainig loss: 1.2709720345878601\n",
      "--------------------------------------------------------------\n",
      "Accuracy of the network on the train images: 54.872 percent (27436/50000)\n",
      "--------------------------------------------------------------\n",
      "Accuracy of the network on the test images: 51.2 percent (320/625)\n",
      "--------------------------------------------------------------\n"
     ]
    },
    {
     "name": "stderr",
     "output_type": "stream",
     "text": [
      "100%|██████████████████████████████████████████████████████████████████████████████| 3125/3125 [00:32<00:00, 95.96it/s]\n",
      "100%|███████████████████████████████████████████████████████████████████████████████| 625/625 [00:01<00:00, 517.72it/s]\n"
     ]
    },
    {
     "name": "stdout",
     "output_type": "stream",
     "text": [
      "--------------------------------------------------------------\n",
      "Epoch: 3\n",
      "--------------------------------------------------------------\n",
      "Trainig loss: 1.1757421857738495\n",
      "--------------------------------------------------------------\n",
      "Accuracy of the network on the train images: 58.438 percent (29219/50000)\n",
      "--------------------------------------------------------------\n",
      "Accuracy of the network on the test images: 56.32 percent (352/625)\n",
      "--------------------------------------------------------------\n"
     ]
    },
    {
     "name": "stderr",
     "output_type": "stream",
     "text": [
      "100%|██████████████████████████████████████████████████████████████████████████████| 3125/3125 [00:33<00:00, 92.84it/s]\n",
      "100%|███████████████████████████████████████████████████████████████████████████████| 625/625 [00:01<00:00, 527.36it/s]\n"
     ]
    },
    {
     "name": "stdout",
     "output_type": "stream",
     "text": [
      "--------------------------------------------------------------\n",
      "Epoch: 4\n",
      "--------------------------------------------------------------\n",
      "Trainig loss: 1.1102157763576508\n",
      "--------------------------------------------------------------\n",
      "Accuracy of the network on the train images: 60.906 percent (30453/50000)\n",
      "--------------------------------------------------------------\n",
      "Accuracy of the network on the test images: 60.48 percent (378/625)\n",
      "--------------------------------------------------------------\n"
     ]
    },
    {
     "name": "stderr",
     "output_type": "stream",
     "text": [
      "100%|██████████████████████████████████████████████████████████████████████████████| 3125/3125 [00:33<00:00, 93.64it/s]\n",
      "100%|███████████████████████████████████████████████████████████████████████████████| 625/625 [00:01<00:00, 537.82it/s]\n"
     ]
    },
    {
     "name": "stdout",
     "output_type": "stream",
     "text": [
      "--------------------------------------------------------------\n",
      "Epoch: 5\n",
      "--------------------------------------------------------------\n",
      "Trainig loss: 1.0577446926307679\n",
      "--------------------------------------------------------------\n",
      "Accuracy of the network on the train images: 62.814 percent (31407/50000)\n",
      "--------------------------------------------------------------\n",
      "Accuracy of the network on the test images: 62.72 percent (392/625)\n",
      "--------------------------------------------------------------\n"
     ]
    },
    {
     "name": "stderr",
     "output_type": "stream",
     "text": [
      "100%|██████████████████████████████████████████████████████████████████████████████| 3125/3125 [00:31<00:00, 98.54it/s]\n",
      "100%|███████████████████████████████████████████████████████████████████████████████| 625/625 [00:01<00:00, 563.08it/s]\n"
     ]
    },
    {
     "name": "stdout",
     "output_type": "stream",
     "text": [
      "--------------------------------------------------------------\n",
      "Epoch: 6\n",
      "--------------------------------------------------------------\n",
      "Trainig loss: 1.0121273076534272\n",
      "--------------------------------------------------------------\n",
      "Accuracy of the network on the train images: 64.448 percent (32224/50000)\n",
      "--------------------------------------------------------------\n",
      "Accuracy of the network on the test images: 63.2 percent (395/625)\n",
      "--------------------------------------------------------------\n"
     ]
    },
    {
     "name": "stderr",
     "output_type": "stream",
     "text": [
      "100%|██████████████████████████████████████████████████████████████████████████████| 3125/3125 [00:33<00:00, 93.31it/s]\n",
      "100%|███████████████████████████████████████████████████████████████████████████████| 625/625 [00:01<00:00, 497.87it/s]\n"
     ]
    },
    {
     "name": "stdout",
     "output_type": "stream",
     "text": [
      "--------------------------------------------------------------\n",
      "Epoch: 7\n",
      "--------------------------------------------------------------\n",
      "Trainig loss: 0.9715715975666046\n",
      "--------------------------------------------------------------\n",
      "Accuracy of the network on the train images: 65.986 percent (32993/50000)\n",
      "--------------------------------------------------------------\n",
      "Accuracy of the network on the test images: 65.12 percent (407/625)\n",
      "--------------------------------------------------------------\n"
     ]
    }
   ],
   "source": [
    "frequentist_train_acc = []\n",
    "frequentist_val_acc = []\n",
    "\n",
    "for epoch in range(1, num_epochs + 1):\n",
    "    # keep track of training and validation loss\n",
    "    train_loss = 0.0\n",
    "    valid_loss = 0.0\n",
    "\n",
    "    m_train = math.ceil(len(train_data) / batch_size)\n",
    "    m_test= math.ceil(len(test_data) / batch_size)\n",
    "\n",
    "    total = 0\n",
    "    correct = 0\n",
    "\n",
    "    for batch_idx, (data, target) in zip(tqdm(range(m_train)),(train_loader)):\n",
    "        model.train()\n",
    "        # move tensors to GPU if CUDA is available\n",
    "        if use_cuda:\n",
    "            data, target = data.cuda(), target.cuda()\n",
    "        optimizer.zero_grad()\n",
    "        # forward pass: compute predicted outputs by passing inputs to the model\n",
    "        output = model(data)\n",
    "\n",
    "        _, predicted = torch.max(output.data, 1)\n",
    "        total += target.size(0)\n",
    "        correct += (predicted == target).sum().item()\n",
    "\n",
    "        # calculate the batch loss\n",
    "        loss = criterion(output, target)\n",
    "        # backward pass: compute gradient of the loss with respect to model parameters\n",
    "        loss.backward()\n",
    "        # perform a single optimization step (parameter update)\n",
    "        optimizer.step()\n",
    "        # update training loss\n",
    "        train_loss += (loss.item() * data.size(0))\n",
    "\n",
    "    test_correct = 0\n",
    "    test_total = 0\n",
    "\n",
    "    with torch.no_grad():\n",
    "        model.eval()\n",
    "        for i, (test_input, test_target) in zip(tqdm(range(m_test)), test_loader):\n",
    "        # for (test_data, test_target) in test_loader:\n",
    "            test_input, test_target = test_input.cuda(), test_target.cuda()\n",
    "            test_outputs= model(test_input)\n",
    "            _, test_predicted = torch.max(test_outputs.data, 1)\n",
    "            test_total += test_target.size(0)\n",
    "            test_correct += (test_predicted == test_target).sum().item()\n",
    "\n",
    "    train_loss = train_loss / len(train_loader.dataset)\n",
    "\n",
    "    frequentist_train_acc.append(correct / total)\n",
    "    frequentist_val_acc.append(test_correct/ test_total)\n",
    "        \n",
    "    print('--------------------------------------------------------------')\n",
    "    print('Epoch:', epoch)\n",
    "    print('--------------------------------------------------------------')\n",
    "    print('Trainig loss:', train_loss)\n",
    "    print('--------------------------------------------------------------')\n",
    "    print('Accuracy of the network on the train images: {} percent ({}/{})'.format (\n",
    "            100 * correct / total, correct, total))\n",
    "    print('--------------------------------------------------------------')\n",
    "\n",
    "    print('Accuracy of the network on the test images: {} percent ({}/{})'.format (\n",
    "            100 * test_correct/ test_total, test_correct,test_total))\n",
    "    print('--------------------------------------------------------------')\n"
   ]
  },
  {
   "cell_type": "code",
   "execution_count": 7,
   "metadata": {},
   "outputs": [],
   "source": [
    "epsilons = [0, .05, .1, .15, .2, .25, .3]"
   ]
  },
  {
   "cell_type": "code",
   "execution_count": 8,
   "metadata": {},
   "outputs": [],
   "source": [
    "# FGSM attack code\n",
    "def fgsm_attack(image, epsilon, data_grad):\n",
    "    # Collect the element-wise sign of the data gradient\n",
    "    sign_data_grad = data_grad.sign()\n",
    "    # Create the perturbed image by adjusting each pixel of the input image\n",
    "    perturbed_image = image + epsilon*sign_data_grad\n",
    "    # Adding clipping to maintain [0,1] range\n",
    "    #perturbed_image = torch.clamp(perturbed_image, 0, 1)\n",
    "    # Return the perturbed image\n",
    "    return perturbed_image"
   ]
  },
  {
   "cell_type": "code",
   "execution_count": 9,
   "metadata": {},
   "outputs": [],
   "source": [
    "def test( model, device, test_loader, epsilon ):\n",
    "    model.eval()\n",
    "    # Accuracy counter\n",
    "    correct = 0\n",
    "    adv_examples = []\n",
    "\n",
    "    # Loop over all examples in test set\n",
    "    for data, target in test_loader:\n",
    "\n",
    "        # Send the data and label to the device\n",
    "        data, target = data.to(device), target.to(device)\n",
    "\n",
    "        # Set requires_grad attribute of tensor. Important for Attack\n",
    "        data.requires_grad = True\n",
    "\n",
    "        # Forward pass the data through the model\n",
    "        output = model(data)\n",
    "        init_pred = output.max(1, keepdim=True)[1] # get the index of the max log-probability\n",
    "        # If the initial prediction is wrong, dont bother attacking, just move on\n",
    "        if init_pred.item() != target.item():\n",
    "            continue\n",
    "\n",
    "        # Calculate the loss\n",
    "        loss = F.nll_loss(output, target)\n",
    "\n",
    "        # Zero all existing gradients\n",
    "        model.zero_grad()\n",
    "\n",
    "        # Calculate gradients of model in backward pass\n",
    "        loss.backward()\n",
    "\n",
    "        # Collect datagrad\n",
    "        data_grad = data.grad.data\n",
    "\n",
    "        # Call FGSM Attack\n",
    "        perturbed_data = fgsm_attack(data, epsilon, data_grad)\n",
    "\n",
    "        # Re-classify the perturbed image\n",
    "        output = model(perturbed_data)\n",
    "\n",
    "        # Check for success\n",
    "        final_pred = output.max(1, keepdim=True)[1] # get the index of the max log-probability\n",
    "        if final_pred.item() == target.item():\n",
    "            correct += 1\n",
    "            # Special case for saving 0 epsilon examples\n",
    "            if (epsilon == 0) and (len(adv_examples) < 5):\n",
    "                adv_ex = perturbed_data.squeeze().detach().cpu().numpy()\n",
    "                adv_examples.append( (init_pred.item(), final_pred.item(), adv_ex) )\n",
    "        else:\n",
    "            # Save some adv examples for visualization later\n",
    "            if len(adv_examples) < 5:\n",
    "                adv_ex = perturbed_data.squeeze().detach().cpu().numpy()\n",
    "                adv_examples.append( (init_pred.item(), final_pred.item(), adv_ex) )\n",
    "\n",
    "    # Calculate final accuracy for this epsilon\n",
    "    final_acc = correct/float(len(test_loader))\n",
    "    print(\"Epsilon: {}\\tTest Accuracy = {} / {} = {}\".format(epsilon, correct, len(test_loader), final_acc))\n",
    "\n",
    "    # Return the accuracy and an adversarial example\n",
    "    return final_acc, adv_examples"
   ]
  },
  {
   "cell_type": "code",
   "execution_count": 10,
   "metadata": {},
   "outputs": [
    {
     "name": "stdout",
     "output_type": "stream",
     "text": [
      "Epsilon: 0\tTest Accuracy = 6452 / 10000 = 0.6452\n",
      "Epsilon: 0.05\tTest Accuracy = 1781 / 10000 = 0.1781\n",
      "Epsilon: 0.1\tTest Accuracy = 372 / 10000 = 0.0372\n",
      "Epsilon: 0.15\tTest Accuracy = 96 / 10000 = 0.0096\n",
      "Epsilon: 0.2\tTest Accuracy = 30 / 10000 = 0.003\n",
      "Epsilon: 0.25\tTest Accuracy = 11 / 10000 = 0.0011\n",
      "Epsilon: 0.3\tTest Accuracy = 16 / 10000 = 0.0016\n"
     ]
    }
   ],
   "source": [
    "accuracies = []\n",
    "examples = []\n",
    "\n",
    "# Run test for each epsilon\n",
    "for eps in epsilons:\n",
    "    acc, ex = test(model, device, test_loader, eps)\n",
    "    accuracies.append(acc)\n",
    "    examples.append(ex)"
   ]
  },
  {
   "cell_type": "code",
   "execution_count": 13,
   "metadata": {},
   "outputs": [
    {
     "data": {
      "image/png": "[encoded data removed]",
      "text/plain": [
       "<Figure size 360x360 with 1 Axes>"
      ]
     },
     "metadata": {
      "needs_background": "light"
     },
     "output_type": "display_data"
    }
   ],
   "source": [
    "plt.figure(figsize=(5,5))\n",
    "plt.plot(epsilons, accuracies, \"*-\")\n",
    "plt.yticks(np.arange(0, 1.1, step=0.1))\n",
    "plt.xticks(np.arange(0, .35, step=0.05))\n",
    "plt.title(\"Accuracy vs Epsilon\")\n",
    "plt.xlabel(\"Epsilon\")\n",
    "plt.ylabel(\"Accuracy\")\n",
    "plt.show()"
   ]
  }
 ],
 "metadata": {
  "kernelspec": {
   "display_name": "denisble",
   "language": "python",
   "name": "denisble"
  },
  "language_info": {
   "codemirror_mode": {
    "name": "ipython",
    "version": 3
   },
   "file_extension": ".py",
   "mimetype": "text/x-python",
   "name": "python",
   "nbconvert_exporter": "python",
   "pygments_lexer": "ipython3",
   "version": "3.6.8"
  }
 },
 "nbformat": 4,
 "nbformat_minor": 2
}
