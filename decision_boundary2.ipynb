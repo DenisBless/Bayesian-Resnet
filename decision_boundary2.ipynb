{
 "cells": [
  {
   "cell_type": "code",
   "execution_count": 66,
   "metadata": {},
   "outputs": [],
   "source": [
    "import matplotlib.pyplot as plt\n",
    "import torch\n",
    "from torch import nn, optim\n",
    "from torch.autograd import Variable\n",
    "# Package imports\n",
    "import numpy as np\n",
    "import sklearn\n",
    "import sklearn.datasets\n",
    "import sklearn.linear_model\n",
    "import matplotlib\n",
    "from bayesian_layer_resnet import Bayesian_fullyconnected\n",
    "\n",
    "torch.manual_seed(1)\n"
   ]
  },
  {
   "cell_type": "code",
   "execution_count": null,
   "metadata": {},
   "outputs": [],
   "source": [
    "# params\n",
    "h1 = 100\n",
    "h2 = 50\n",
    "h3 = 30\n",
    "nets = 5\n",
    "epochs = 2000\n",
    "samples = 192\n",
    "batch_size = 32\n",
    "assert samples%(2*batch_size)== 0, 'samples need two be divisible by 2 * batchsize'"
   ]
  },
  {
   "cell_type": "code",
   "execution_count": 76,
   "metadata": {},
   "outputs": [
    {
     "data": {
      "image/png": "[encoded data removed]",
      "text/plain": [
       "<Figure size 432x288 with 1 Axes>"
      ]
     },
     "metadata": {},
     "output_type": "display_data"
    }
   ],
   "source": [
    "# Generate a dataset and plot it\n",
    "np.random.seed(0)\n",
    "X, y = sklearn.datasets.make_moons(samples, noise=0.20)\n",
    "plt.scatter(X[y==1,0], X[y==1,1], s=40, c = 'r' )\n",
    "plt.scatter(X[y==0,0], X[y==0,1], s=40, c = 'b' )\n",
    "plt.xticks([])\n",
    "plt.yticks([])\n",
    "plt.show()"
   ]
  },
  {
   "cell_type": "code",
   "execution_count": 69,
   "metadata": {},
   "outputs": [],
   "source": [
    "# some random points for a dataset\n",
    "X_tensor = torch.tensor(X)\n",
    "y_tensor = torch.tensor(y)\n",
    "\n",
    "# FF multilayer perceptron model, fixed depth, \n",
    "# specified number of nodes wide (h)\n",
    "class FNN(nn.Module):\n",
    "    def __init__(self, h1, h2, h3):\n",
    "        super(FNN, self).__init__()\n",
    "        self.main = nn.Sequential(\n",
    "                    nn.Linear(2, h1),\n",
    "                    nn.ReLU(),\n",
    "                    nn.Linear(h1, h2),\n",
    "                    nn.ReLU(),\n",
    "                    nn.Linear(h2, h3),\n",
    "                    nn.ReLU(),\n",
    "                    nn.Linear(h3, h3),\n",
    "                    nn.ReLU(),\n",
    "                    nn.Linear(h3, 2),\n",
    "                    )\n",
    "    def forward(self, x):\n",
    "        return self.main(x)\n",
    "    \n",
    "# FF multilayer perceptron model, fixed depth, \n",
    "# specified number of nodes wide (h)\n",
    "class BNN(nn.Module):\n",
    "    def __init__(self, h1, h2, h3):\n",
    "        super(BNN, self).__init__()\n",
    "        self.main = nn.Sequential(\n",
    "                    Bayesian_fullyconnected(2, h1),\n",
    "                    nn.ReLU(),\n",
    "                    Bayesian_fullyconnected(h1, h2),\n",
    "                    nn.ReLU(),\n",
    "                    Bayesian_fullyconnected(h2, h3),\n",
    "                    nn.ReLU(),\n",
    "                    Bayesian_fullyconnected(h3, h3),\n",
    "                    nn.ReLU(),\n",
    "                    Bayesian_fullyconnected(h3, 2),\n",
    "                    )\n",
    "    def forward(self, x):\n",
    "        return self.main(x)"
   ]
  },
  {
   "cell_type": "code",
   "execution_count": 70,
   "metadata": {},
   "outputs": [],
   "source": [
    "net = FNN(h1, h2, h3)\n",
    "optimizer = optim.SGD(net.parameters(), lr=0.01)\n",
    "crit = nn.CrossEntropyLoss()"
   ]
  },
  {
   "cell_type": "code",
   "execution_count": 71,
   "metadata": {},
   "outputs": [],
   "source": [
    "#reshape data for batches\n",
    "X_batch = X_tensor.view((-1, batch_size,2))\n",
    "y_batch = y_tensor.view((-1, batch_size))"
   ]
  },
  {
   "cell_type": "code",
   "execution_count": 72,
   "metadata": {
    "collapsed": true
   },
   "outputs": [
    {
     "name": "stderr",
     "output_type": "stream",
     "text": [
      "/anaconda3/lib/python3.6/site-packages/ipykernel_launcher.py:15: UserWarning: invalid index of a 0-dim tensor. This will be an error in PyTorch 0.5. Use tensor.item() to convert a 0-dim tensor to a Python number\n",
      "  from ipykernel import kernelapp as app\n"
     ]
    },
    {
     "name": "stdout",
     "output_type": "stream",
     "text": [
      "epoch 0: [96/192] loss: 0.69844\n",
      "epoch 192: [177/192] loss: 0.15771\n",
      "epoch 384: [185/192] loss: 0.06554\n",
      "epoch 576: [185/192] loss: 0.05371\n",
      "epoch 768: [186/192] loss: 0.05073\n",
      "epoch 960: [186/192] loss: 0.04942\n",
      "epoch 1152: [186/192] loss: 0.04833\n",
      "epoch 1344: [186/192] loss: 0.04791\n",
      "epoch 1536: [186/192] loss: 0.04735\n",
      "epoch 1728: [186/192] loss: 0.04584\n",
      "epoch 1920: [187/192] loss: 0.04496\n",
      "epoch 2112: [187/192] loss: 0.04371\n",
      "epoch 2304: [187/192] loss: 0.04360\n",
      "epoch 2496: [187/192] loss: 0.04324\n",
      "epoch 2688: [187/192] loss: 0.04228\n",
      "epoch 2880: [187/192] loss: 0.04229\n",
      "epoch 3072: [187/192] loss: 0.04205\n",
      "epoch 3264: [187/192] loss: 0.04172\n",
      "epoch 3456: [187/192] loss: 0.04139\n",
      "epoch 3648: [187/192] loss: 0.04137\n",
      "epoch 3840: [187/192] loss: 0.04143\n",
      "epoch 4032: [187/192] loss: 0.04097\n",
      "epoch 4224: [187/192] loss: 0.04102\n",
      "epoch 4416: [187/192] loss: 0.04098\n",
      "epoch 4608: [187/192] loss: 0.04073\n",
      "epoch 4800: [187/192] loss: 0.04064\n",
      "epoch 4992: [187/192] loss: 0.04017\n",
      "epoch 5184: [187/192] loss: 0.04017\n",
      "epoch 5376: [187/192] loss: 0.04041\n",
      "epoch 5568: [187/192] loss: 0.04021\n",
      "epoch 5760: [187/192] loss: 0.04027\n",
      "epoch 5952: [187/192] loss: 0.04037\n",
      "epoch 6144: [187/192] loss: 0.04033\n",
      "epoch 6336: [187/192] loss: 0.04035\n",
      "epoch 6528: [187/192] loss: 0.04034\n",
      "epoch 6720: [188/192] loss: 0.03989\n",
      "epoch 6912: [188/192] loss: 0.04003\n",
      "epoch 7104: [188/192] loss: 0.04019\n",
      "epoch 7296: [188/192] loss: 0.04024\n",
      "epoch 7488: [188/192] loss: 0.03994\n",
      "epoch 7680: [188/192] loss: 0.04032\n",
      "epoch 7872: [188/192] loss: 0.04011\n",
      "epoch 8064: [188/192] loss: 0.04037\n",
      "epoch 8256: [188/192] loss: 0.03983\n",
      "epoch 8448: [188/192] loss: 0.03996\n",
      "epoch 8640: [188/192] loss: 0.03999\n",
      "epoch 8832: [188/192] loss: 0.03987\n",
      "epoch 9024: [188/192] loss: 0.03986\n",
      "epoch 9216: [188/192] loss: 0.03976\n",
      "epoch 9408: [188/192] loss: 0.04005\n",
      "epoch 9600: [188/192] loss: 0.03932\n",
      "epoch 9792: [188/192] loss: 0.03968\n",
      "epoch 9984: [188/192] loss: 0.04044\n",
      "epoch 10176: [188/192] loss: 0.03984\n",
      "epoch 10368: [188/192] loss: 0.03955\n",
      "epoch 10560: [188/192] loss: 0.04008\n",
      "epoch 10752: [188/192] loss: 0.04026\n",
      "epoch 10944: [188/192] loss: 0.04017\n",
      "epoch 11136: [188/192] loss: 0.03989\n",
      "epoch 11328: [188/192] loss: 0.04004\n",
      "epoch 11520: [188/192] loss: 0.03984\n",
      "epoch 11712: [188/192] loss: 0.04078\n",
      "epoch 11904: [188/192] loss: 0.03994\n",
      "epoch 12096: [188/192] loss: 0.04059\n",
      "epoch 12288: [188/192] loss: 0.04053\n",
      "epoch 12480: [188/192] loss: 0.04008\n",
      "epoch 12672: [188/192] loss: 0.04140\n",
      "epoch 12864: [188/192] loss: 0.04022\n",
      "epoch 13056: [188/192] loss: 0.03999\n",
      "epoch 13248: [188/192] loss: 0.04023\n",
      "epoch 13440: [188/192] loss: 0.04030\n",
      "epoch 13632: [188/192] loss: 0.04074\n",
      "epoch 13824: [188/192] loss: 0.04047\n",
      "epoch 14016: [188/192] loss: 0.04026\n",
      "epoch 14208: [188/192] loss: 0.04044\n",
      "epoch 14400: [188/192] loss: 0.04043\n",
      "epoch 14592: [188/192] loss: 0.04043\n",
      "epoch 14784: [188/192] loss: 0.04058\n",
      "epoch 14976: [188/192] loss: 0.04029\n",
      "epoch 15168: [188/192] loss: 0.04170\n",
      "epoch 15360: [188/192] loss: 0.04078\n",
      "epoch 15552: [188/192] loss: 0.04051\n",
      "epoch 15744: [188/192] loss: 0.04054\n",
      "epoch 15936: [188/192] loss: 0.04108\n",
      "epoch 16128: [188/192] loss: 0.04050\n",
      "epoch 16320: [188/192] loss: 0.04052\n",
      "epoch 16512: [188/192] loss: 0.04083\n",
      "epoch 16704: [188/192] loss: 0.04074\n",
      "epoch 16896: [188/192] loss: 0.04074\n",
      "epoch 17088: [188/192] loss: 0.04106\n",
      "epoch 17280: [188/192] loss: 0.04215\n",
      "epoch 17472: [188/192] loss: 0.04093\n",
      "epoch 17664: [188/192] loss: 0.04207\n",
      "epoch 17856: [188/192] loss: 0.04044\n",
      "epoch 18048: [188/192] loss: 0.04132\n",
      "epoch 18240: [188/192] loss: 0.04225\n",
      "epoch 18432: [189/192] loss: 0.04164\n",
      "epoch 18624: [188/192] loss: 0.04035\n",
      "epoch 18816: [189/192] loss: 0.04132\n",
      "epoch 19008: [189/192] loss: 0.04204\n",
      "epoch 19200: [189/192] loss: 0.04269\n",
      "epoch 19392: [189/192] loss: 0.04080\n",
      "epoch 19584: [189/192] loss: 0.04289\n",
      "epoch 19776: [189/192] loss: 0.03991\n",
      "epoch 19968: [189/192] loss: 0.03996\n"
     ]
    }
   ],
   "source": [
    "for i in range(epochs):\n",
    "    y_total = 0\n",
    "    correct = 0\n",
    "    for j in range(X_batch.size(0)):\n",
    "        optimizer.zero_grad()\n",
    "        out = net(X_batch[j].float())\n",
    "        _, y_pred = torch.max(out, 1)\n",
    "        y_total += y_batch[j].size(0)\n",
    "        correct += (y_pred == y_batch[j]).sum().item()\n",
    "        loss = crit(out, y_batch[j])\n",
    "        loss.backward()\n",
    "        optimizer.step()\n",
    "\n",
    "    if i % samples == 0:\n",
    "        print('epoch {}: [{}/{}] loss: {:0.5f}'.format(i, correct, y_total, loss.data[0]))"
   ]
  },
  {
   "cell_type": "code",
   "execution_count": 77,
   "metadata": {},
   "outputs": [],
   "source": [
    "# Helper function to plot a decision boundary.\n",
    "# If you don't fully understand this function don't worry, it just generates the contour plot below.\n",
    "def plot_decision_boundary(model):\n",
    "    # Set min and max values and give it some padding\n",
    "    x_min, x_max = X[:, 0].min() - .5, X[:, 0].max() + .5\n",
    "    y_min, y_max = X[:, 1].min() - .5, X[:, 1].max() + .5\n",
    "    resolution = 0.005\n",
    "    # Generate a grid of points with distance h between them\n",
    "    xx, yy = np.meshgrid(np.arange(x_min, x_max, resolution), np.arange(y_min, y_max, resolution))\n",
    "    # Predict the function value for the whole gid\n",
    "    output = model(torch.tensor(np.c_[xx.ravel(), yy.ravel()]).float())\n",
    "    _, predictions = torch.max(output.data, 1)\n",
    "    Z = predictions\n",
    "    Z = Z.reshape(xx.shape)\n",
    "    # Plot the contour and training examples\n",
    "    plt.contour(xx, yy, Z, cmap=plt.cm.b)\n",
    "    plt.scatter(X[y==1,0], X[y==1,1], s=40, c = 'r' )\n",
    "    plt.scatter(X[y==0,0], X[y==0,1], s=40, c = 'b' )\n",
    "    plt.xticks([])\n",
    "    plt.yticks([])\n",
    "    plt.savefig('decision_boundary.pdf')"
   ]
  },
  {
   "cell_type": "code",
   "execution_count": 78,
   "metadata": {},
   "outputs": [
    {
     "data": {
      "image/png": "[encoded data removed]",
      "text/plain": [
       "<Figure size 432x288 with 1 Axes>"
      ]
     },
     "metadata": {},
     "output_type": "display_data"
    }
   ],
   "source": [
    "plot_decision_boundary(net)"
   ]
  },
  {
   "cell_type": "code",
   "execution_count": null,
   "metadata": {},
   "outputs": [],
   "source": []
  },
  {
   "cell_type": "code",
   "execution_count": null,
   "metadata": {},
   "outputs": [],
   "source": []
  },
  {
   "cell_type": "code",
   "execution_count": null,
   "metadata": {},
   "outputs": [],
   "source": []
  },
  {
   "cell_type": "code",
   "execution_count": null,
   "metadata": {},
   "outputs": [],
   "source": []
  }
 ],
 "metadata": {
  "kernelspec": {
   "display_name": "Python 3",
   "language": "python",
   "name": "python3"
  },
  "language_info": {
   "codemirror_mode": {
    "name": "ipython",
    "version": 3
   },
   "file_extension": ".py",
   "mimetype": "text/x-python",
   "name": "python",
   "nbconvert_exporter": "python",
   "pygments_lexer": "ipython3",
   "version": "3.6.8"
  }
 },
 "nbformat": 4,
 "nbformat_minor": 2
}
